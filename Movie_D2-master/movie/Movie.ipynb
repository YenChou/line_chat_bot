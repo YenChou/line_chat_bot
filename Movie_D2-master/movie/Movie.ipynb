{
 "cells": [
  {
   "cell_type": "code",
   "execution_count": 53,
   "metadata": {},
   "outputs": [
    {
     "data": {
      "text/plain": [
       "'\\n\\n啟動伺服器基本樣版\\n\\n設定業務功能\\n    當用戶關注時\\n        記錄個資，綁定菜單，回傳文字消息與圖片消息，介紹功能與使用方法\\n    當用戶點擊自定義菜單或輸入文字消息時\\n        傳送圖片消息或相應文字消息。\\n    當用戶點擊按鈕消息的時候\\n        會將用戶個資紀錄回檔案內，以供未來聯繫用\\n\\n'"
      ]
     },
     "execution_count": 53,
     "metadata": {},
     "output_type": "execute_result"
    }
   ],
   "source": [
    "'''\n",
    "\n",
    "啟動伺服器基本樣版\n",
    "\n",
    "設定業務功能\n",
    "    當用戶關注時\n",
    "        記錄個資，綁定菜單，回傳文字消息與圖片消息，介紹功能與使用方法\n",
    "    當用戶點擊自定義菜單或輸入文字消息時\n",
    "        傳送圖片消息或相應文字消息。\n",
    "    當用戶點擊按鈕消息的時候\n",
    "        會將用戶個資紀錄回檔案內，以供未來聯繫用\n",
    "\n",
    "'''"
   ]
  },
  {
   "cell_type": "code",
   "execution_count": 54,
   "metadata": {},
   "outputs": [],
   "source": [
    "#測試版推薦表單tag初值\n",
    "#postback_from = {'tag1':0,'tag2':0,'tag3':0,'tag4':0,'tag5':0,'tag6':0,'tag7':0,'tag8':0,'tag9':0,'tag10':0}\n",
    "#正式版推薦表單tag初值\n",
    "postback_from = {'tag0':0,'tag1':0,'tag2':0,'tag3':0,'tag4':0,'tag5':0,'tag6':0,'tag7':0,'tag8':0}"
   ]
  },
  {
   "cell_type": "code",
   "execution_count": 55,
   "metadata": {},
   "outputs": [],
   "source": [
    "'''\n",
    "\n",
    "電影填選表單[簡介]長度修改，因為LINE上面只能顯示60個字\n",
    "    初始抓42個字，\n",
    "    再從第43個字開始判斷是否為空白字元以補足英文單字,\n",
    "    在最後面加上...\n",
    "\n",
    "'''\n",
    "def Plot_short_from(word):\n",
    "    w_42 = 42\n",
    "    w_43 = 43\n",
    "    word_fst = word[0:w_42]\n",
    "    wordadd = ''\n",
    "    while True:\n",
    "      word_42up = word[w_42:w_43]\n",
    "      if word_42up == ' ':\n",
    "        break\n",
    "      else:\n",
    "        wordadd = wordadd + word_42up\n",
    "        w_42 += 1\n",
    "        w_43 += 1\n",
    "    word_final = word_fst + wordadd + '...'\n",
    "    return word_final"
   ]
  },
  {
   "cell_type": "code",
   "execution_count": 56,
   "metadata": {},
   "outputs": [],
   "source": [
    "'''\n",
    "\n",
    "電影填選表單[電影名稱]長度修改，因為LINE上面只能顯示40個字\n",
    "    判斷第41字元是不是有資料，\n",
    "    如果有只抓37個字元,\n",
    "    在最後面加上...,\n",
    "    如果第41字元沒有資料則正常顯示\n",
    "\n",
    "'''\n",
    "def title_short(title):\n",
    "    w_40 = 40\n",
    "    w_41 = 41\n",
    "    w_37 = 37\n",
    "    word_40 = title[0:w_40]\n",
    "    word_37 = title[0:w_37]\n",
    "    wordadd = '...'\n",
    "    if title[w_40:w_41] != '':\n",
    "        word_final = word_37 + wordadd\n",
    "    else:\n",
    "        word_final = word_40\n",
    "        \n",
    "    return word_final"
   ]
  },
  {
   "cell_type": "code",
   "execution_count": 57,
   "metadata": {},
   "outputs": [],
   "source": [
    "# 喜歡的電影,表單9個tag\n",
    "def first_from():\n",
    "    global tag0_Form\n",
    "    global tag1_Form\n",
    "    global tag2_Form\n",
    "    global tag3_Form\n",
    "    global tag4_Form\n",
    "    global tag5_Form\n",
    "    global tag6_Form\n",
    "    global tag7_Form\n",
    "    global tag8_Form\n",
    "        \n",
    "    import pymongo\n",
    "    import random\n",
    "    \n",
    "    myclient = pymongo.MongoClient('mongodb://10.120.28.26:27017')\n",
    "    mydb = myclient[\"test_johney\"]\n",
    "    mycol = mydb[\"simon_offline_add_tag4_word_9\"]\n",
    "\n",
    "    tag0_Form = {}\n",
    "    tag1_Form = {}\n",
    "    tag2_Form = {}\n",
    "    tag3_Form = {}\n",
    "    tag4_Form = {}\n",
    "    tag5_Form = {}\n",
    "    tag6_Form = {}\n",
    "    tag7_Form = {}\n",
    "    tag8_Form = {}\n",
    "    \n",
    "    t0 = mycol.count({\"m1_tag\":0})\n",
    "    t1 = mycol.count({\"m1_tag\":1})\n",
    "    t2 = mycol.count({\"m1_tag\":2})\n",
    "    t3 = mycol.count({\"m1_tag\":3})\n",
    "    t4 = mycol.count({\"m1_tag\":4})\n",
    "    t5 = mycol.count({\"m1_tag\":5})\n",
    "    t6 = mycol.count({\"m1_tag\":6})\n",
    "    t7 = mycol.count({\"m1_tag\":7})\n",
    "    t8 = mycol.count({\"m1_tag\":8})\n",
    "\n",
    "    tag0_Form = mycol.find({\"m1_tag\":0},{\"_id\":0,\"similiar\":1,\"number\":1,\"m1_Title\":1,\"m1_Plot_short\":1,\"m1_Poster\":1})[random.randrange(t0)]\n",
    "    tag1_Form = mycol.find({\"m1_tag\":1},{\"_id\":0,\"similiar\":1,\"number\":1,\"m1_Title\":1,\"m1_Plot_short\":1,\"m1_Poster\":1})[random.randrange(t1)]\n",
    "    tag2_Form = mycol.find({\"m1_tag\":2},{\"_id\":0,\"similiar\":1,\"number\":1,\"m1_Title\":1,\"m1_Plot_short\":1,\"m1_Poster\":1})[random.randrange(t2)]\n",
    "    tag3_Form = mycol.find({\"m1_tag\":3},{\"_id\":0,\"similiar\":1,\"number\":1,\"m1_Title\":1,\"m1_Plot_short\":1,\"m1_Poster\":1})[random.randrange(t3)]\n",
    "    tag4_Form = mycol.find({\"m1_tag\":4},{\"_id\":0,\"similiar\":1,\"number\":1,\"m1_Title\":1,\"m1_Plot_short\":1,\"m1_Poster\":1})[random.randrange(t4)]\n",
    "    tag5_Form = mycol.find({\"m1_tag\":5},{\"_id\":0,\"similiar\":1,\"number\":1,\"m1_Title\":1,\"m1_Plot_short\":1,\"m1_Poster\":1})[random.randrange(t5)]\n",
    "    tag6_Form = mycol.find({\"m1_tag\":6},{\"_id\":0,\"similiar\":1,\"number\":1,\"m1_Title\":1,\"m1_Plot_short\":1,\"m1_Poster\":1})[random.randrange(t6)]\n",
    "    tag7_Form = mycol.find({\"m1_tag\":7},{\"_id\":0,\"similiar\":1,\"number\":1,\"m1_Title\":1,\"m1_Plot_short\":1,\"m1_Poster\":1})[random.randrange(t7)]\n",
    "    tag8_Form = mycol.find({\"m1_tag\":8},{\"_id\":0,\"similiar\":1,\"number\":1,\"m1_Title\":1,\"m1_Plot_short\":1,\"m1_Poster\":1})[random.randrange(t8)]\n",
    "    \n",
    "\n",
    "    return 'OK'"
   ]
  },
  {
   "cell_type": "code",
   "execution_count": 58,
   "metadata": {},
   "outputs": [],
   "source": [
    "def carousel():\n",
    "    Carousel_template = TemplateSendMessage(\n",
    "            alt_text='Carousel template',\n",
    "            template=CarouselTemplate(\n",
    "            columns=[\n",
    "                CarouselColumn(\n",
    "                    thumbnail_image_url=tag0_Form['m1_Poster'],\n",
    "                    title=title_short(tag0_Form['m1_Title']),\n",
    "                    text='1.簡介: '+Plot_short_from(tag0_Form['m1_Plot_short']),\n",
    "                    actions=[\n",
    "                        {\n",
    "                \"type\": \"postback\",\n",
    "                \"label\": \"很喜歡\",\n",
    "                \"text\": \"1.對電影:\" + tag0_Form['m1_Title'] + \",表示很喜歡\",\n",
    "                \"data\": \"{'tag0':2}\"\n",
    "              },\n",
    "              {\n",
    "                \"type\": \"postback\",\n",
    "                \"label\": \"喜歡\",\n",
    "                \"text\": \"1.對電影:\" + tag0_Form['m1_Title'] + \",表示喜歡\",\n",
    "                \"data\": \"{'tag0':1}\"\n",
    "              },\n",
    "              {\n",
    "                \"type\": \"postback\",\n",
    "                \"label\": \"沒有感覺\",\n",
    "                \"text\": \"1.對電影:\" + tag0_Form['m1_Title'] + \",表示沒有感覺\",\n",
    "                \"data\": \"{'tag0':0}\"\n",
    "              }         \n",
    "                    ]\n",
    "                ),\n",
    "                CarouselColumn(\n",
    "                    thumbnail_image_url=tag1_Form['m1_Poster'],\n",
    "                    title=title_short(tag1_Form['m1_Title']),\n",
    "                    text='2.簡介: '+Plot_short_from(tag1_Form['m1_Plot_short']),\n",
    "                    actions=[\n",
    "                        {\n",
    "                \"type\": \"postback\",\n",
    "                \"label\": \"很喜歡\",\n",
    "                \"text\": \"2.對電影:\" + tag1_Form['m1_Title'] + \",表示很喜歡\",\n",
    "                \"data\": \"{'tag1':2}\"\n",
    "              },\n",
    "              {\n",
    "                \"type\": \"postback\",\n",
    "                \"label\": \"喜歡\",\n",
    "                \"text\": \"2.對電影:\" + tag1_Form['m1_Title'] + \",表示喜歡\",\n",
    "                \"data\": \"{'tag1':1}\"\n",
    "              },\n",
    "              {\n",
    "                \"type\": \"postback\",\n",
    "                \"label\": \"沒有感覺\",\n",
    "                \"text\": \"2.對電影:\" + tag1_Form['m1_Title'] + \",表示沒有感覺\",\n",
    "                \"data\": \"{'tag1':0}\"\n",
    "              }         \n",
    "                    ]\n",
    "                ),\n",
    "                CarouselColumn(\n",
    "                    thumbnail_image_url=tag2_Form['m1_Poster'],\n",
    "                    title=title_short(tag2_Form['m1_Title']),\n",
    "                    text='3.簡介: '+Plot_short_from(tag2_Form['m1_Plot_short']),\n",
    "                    actions=[\n",
    "                        {\n",
    "                \"type\": \"postback\",\n",
    "                \"label\": \"很喜歡\",\n",
    "                \"text\": \"3.對電影:\" + tag2_Form['m1_Title'] + \",表示很喜歡\",\n",
    "                \"data\": \"{'tag2':2}\"\n",
    "              },\n",
    "              {\n",
    "                \"type\": \"postback\",\n",
    "                \"label\": \"喜歡\",\n",
    "                \"text\": \"3.對電影:\" + tag2_Form['m1_Title'] + \",表示喜歡\",\n",
    "                \"data\": \"{'tag2':1}\"\n",
    "              },\n",
    "              {\n",
    "                \"type\": \"postback\",\n",
    "                \"label\": \"沒有感覺\",\n",
    "                \"text\": \"3.對電影:\" + tag2_Form['m1_Title'] + \",表示沒有感覺\",\n",
    "                \"data\": \"{'tag2':0}\"\n",
    "              }         \n",
    "                    ]\n",
    "                ),\n",
    "                CarouselColumn(\n",
    "                    thumbnail_image_url=tag3_Form['m1_Poster'],\n",
    "                    title=title_short(tag3_Form['m1_Title']),\n",
    "                    text='4.簡介: '+Plot_short_from(tag3_Form['m1_Plot_short']),\n",
    "                    actions=[\n",
    "                        {\n",
    "                \"type\": \"postback\",\n",
    "                \"label\": \"很喜歡\",\n",
    "                \"text\": \"4.對電影:\" + tag3_Form['m1_Title'] + \",表示很喜歡\",\n",
    "                \"data\": \"{'tag3':2}\"\n",
    "              },\n",
    "              {\n",
    "                \"type\": \"postback\",\n",
    "                \"label\": \"喜歡\",\n",
    "                \"text\": \"4.對電影:\" + tag3_Form['m1_Title'] + \",表示喜歡\",\n",
    "                \"data\": \"{'tag3':1}\"\n",
    "              },\n",
    "              {\n",
    "                \"type\": \"postback\",\n",
    "                \"label\": \"沒有感覺\",\n",
    "                \"text\": \"4.對電影:\" + tag3_Form['m1_Title'] + \",表示沒有感覺\",\n",
    "                \"data\": \"{'tag3':0}\"\n",
    "              }         \n",
    "                    ]\n",
    "                ),\n",
    "                CarouselColumn(\n",
    "                    thumbnail_image_url=tag4_Form['m1_Poster'],\n",
    "                    title=title_short(tag4_Form['m1_Title']),\n",
    "                    text='5.簡介: '+Plot_short_from(tag4_Form['m1_Plot_short']),\n",
    "                    actions=[\n",
    "                        {\n",
    "                \"type\": \"postback\",\n",
    "                \"label\": \"很喜歡\",\n",
    "                \"text\": \"5.對電影:\" + tag4_Form['m1_Title'] + \",表示很喜歡\",\n",
    "                \"data\": \"{'tag4':2}\"\n",
    "              },\n",
    "              {\n",
    "                \"type\": \"postback\",\n",
    "                \"label\": \"喜歡\",\n",
    "                \"text\": \"5.對電影:\" + tag4_Form['m1_Title'] + \",表示喜歡\",\n",
    "                \"data\": \"{'tag4':1}\"\n",
    "              },\n",
    "              {\n",
    "                \"type\": \"postback\",\n",
    "                \"label\": \"沒有感覺\",\n",
    "                \"text\": \"5.對電影:\" + tag4_Form['m1_Title'] + \",表示沒有感覺\",\n",
    "                \"data\": \"{'tag4':0}\"\n",
    "              }         \n",
    "                    ]\n",
    "                ),\n",
    "                CarouselColumn(\n",
    "                    thumbnail_image_url=tag5_Form['m1_Poster'],\n",
    "                    title=title_short(tag5_Form['m1_Title']),\n",
    "                    text='6.簡介: '+Plot_short_from(tag5_Form['m1_Plot_short']),\n",
    "                    actions=[\n",
    "                        {\n",
    "                \"type\": \"postback\",\n",
    "                \"label\": \"很喜歡\",\n",
    "                \"text\": \"6.對電影:\" + tag5_Form['m1_Title'] + \",表示很喜歡\",\n",
    "                \"data\": \"{'tag5':2}\"\n",
    "              },\n",
    "              {\n",
    "                \"type\": \"postback\",\n",
    "                \"label\": \"喜歡\",\n",
    "                \"text\": \"6.對電影:\" + tag5_Form['m1_Title'] + \",表示喜歡\",\n",
    "                \"data\": \"{'tag5':1}\"\n",
    "              },\n",
    "              {\n",
    "                \"type\": \"postback\",\n",
    "                \"label\": \"沒有感覺\",\n",
    "                \"text\": \"6.對電影:\" + tag5_Form['m1_Title'] + \",表示沒有感覺\",\n",
    "                \"data\": \"{'tag5':0}\"\n",
    "              }         \n",
    "                    ]\n",
    "                ),\n",
    "                CarouselColumn(\n",
    "                    thumbnail_image_url=tag6_Form['m1_Poster'],\n",
    "                    title=title_short(tag6_Form['m1_Title']),\n",
    "                    text='7.簡介: '+Plot_short_from(tag6_Form['m1_Plot_short']),\n",
    "                    actions=[\n",
    "                        {\n",
    "                \"type\": \"postback\",\n",
    "                \"label\": \"很喜歡\",\n",
    "                \"text\": \"7.對電影:\" + tag6_Form['m1_Title'] + \",表示很喜歡\",\n",
    "                \"data\": \"{'tag6':2}\"\n",
    "              },\n",
    "              {\n",
    "                \"type\": \"postback\",\n",
    "                \"label\": \"喜歡\",\n",
    "                \"text\": \"7.對電影:\" + tag6_Form['m1_Title'] + \",表示喜歡\",\n",
    "                \"data\": \"{'tag6':1}\"\n",
    "              },\n",
    "              {\n",
    "                \"type\": \"postback\",\n",
    "                \"label\": \"沒有感覺\",\n",
    "                \"text\": \"7.對電影:\" + tag6_Form['m1_Title'] + \",表示沒有感覺\",\n",
    "                \"data\": \"{'tag6':0}\"\n",
    "              }         \n",
    "                    ]\n",
    "                ),\n",
    "                CarouselColumn(\n",
    "                    thumbnail_image_url=tag7_Form['m1_Poster'],\n",
    "                    title=title_short(tag7_Form['m1_Title']),\n",
    "                    text='8.簡介: '+Plot_short_from(tag7_Form['m1_Plot_short']),\n",
    "                    actions=[\n",
    "                        {\n",
    "                \"type\": \"postback\",\n",
    "                \"label\": \"很喜歡\",\n",
    "                \"text\": \"8.對電影:\" + tag7_Form['m1_Title'] + \",表示很喜歡\",\n",
    "                \"data\": \"{'tag7':2}\"\n",
    "              },\n",
    "              {\n",
    "                \"type\": \"postback\",\n",
    "                \"label\": \"喜歡\",\n",
    "                \"text\": \"8.對電影:\" + tag7_Form['m1_Title'] + \",表示喜歡\",\n",
    "                \"data\": \"{'tag7':1}\"\n",
    "              },\n",
    "              {\n",
    "                \"type\": \"postback\",\n",
    "                \"label\": \"沒有感覺\",\n",
    "                \"text\": \"8.對電影:\" + tag7_Form['m1_Title'] + \",表示沒有感覺\",\n",
    "                \"data\": \"{'tag7':0}\"\n",
    "              }         \n",
    "                    ]\n",
    "                ),\n",
    "                CarouselColumn(\n",
    "                    thumbnail_image_url=tag8_Form['m1_Poster'],\n",
    "                    title=title_short(tag8_Form['m1_Title']),\n",
    "                    text='9.簡介: '+Plot_short_from(tag8_Form['m1_Plot_short']),\n",
    "                    actions=[\n",
    "                        {\n",
    "                \"type\": \"postback\",\n",
    "                \"label\": \"很喜歡\",\n",
    "                \"text\": \"9.對電影:\" + tag8_Form['m1_Title'] + \",表示很喜歡\",\n",
    "                \"data\": \"{'tag8':2}\"\n",
    "              },\n",
    "              {\n",
    "                \"type\": \"postback\",\n",
    "                \"label\": \"喜歡\",\n",
    "                \"text\": \"9.對電影:\" + tag8_Form['m1_Title'] + \",表示喜歡\",\n",
    "                \"data\": \"{'tag8':1}\"\n",
    "              },\n",
    "              {\n",
    "                \"type\": \"postback\",\n",
    "                \"label\": \"沒有感覺\",\n",
    "                \"text\": \"9.對電影:\" + tag8_Form['m1_Title'] + \",表示沒有感覺\",\n",
    "                \"data\": \"{'tag8':0}\"\n",
    "              }         \n",
    "                    ]\n",
    "                )\n",
    "            ]\n",
    "        )\n",
    "        )\n",
    "    return Carousel_template"
   ]
  },
  {
   "cell_type": "code",
   "execution_count": 59,
   "metadata": {},
   "outputs": [],
   "source": [
    "# 在家看電影，依照使用者填選電影表單來推薦電影\n",
    "def home_movie_tag():\n",
    "    global tag_home_final\n",
    "    import pymongo\n",
    "    import random\n",
    "    tag__list = []\n",
    "    tag__2 = []\n",
    "    tag__1 = []\n",
    "    tag__0 = [0,1,2,3,4,5,6,7,8]\n",
    "    myclient = pymongo.MongoClient('mongodb://10.120.28.26:27017')\n",
    "    mydb = myclient[\"test_johney\"]\n",
    "    mycol = mydb[\"simon_offline_add_tag4_word_9\"]\n",
    "\n",
    "    tag__list.append(postback_from['tag0'])\n",
    "    tag__list.append(postback_from['tag1'])\n",
    "    tag__list.append(postback_from['tag2'])\n",
    "    tag__list.append(postback_from['tag3'])\n",
    "    tag__list.append(postback_from['tag4'])\n",
    "    tag__list.append(postback_from['tag5'])\n",
    "    tag__list.append(postback_from['tag6'])\n",
    "    tag__list.append(postback_from['tag7'])\n",
    "    tag__list.append(postback_from['tag8'])\n",
    "\n",
    "    num_tag = 0\n",
    "    for a in tag__list:\n",
    "        num_tag = num_tag + 1\n",
    "        if a == 2:\n",
    "            tag__2.append(num_tag)\n",
    "        elif a == 1:\n",
    "            tag__1.append(num_tag)\n",
    "\n",
    "    tag_home_list_2 =[]\n",
    "    tag_home_list_1 =[]\n",
    "    tag_home_list_0 =[]   \n",
    "    \n",
    "    for tag_home in mycol.aggregate([{\"$match\":{\"m1_tag\":{\"$in\":tag__2}}},{\"$group\":{\"_id\":{\"m2_Title\":\"$m2_Title\",\"m2_Actors\":\"$m2_Actors\",\"m2_Plot_short\":\"$m2_Plot_short\",\"m2_Poster\":\"$m2_Poster\"},\"count\":{\"$sum\":1}}}]):\n",
    "        tag_home_list_2.append(tag_home)\n",
    "\n",
    "    for tag_home in mycol.aggregate([{\"$match\":{\"m1_tag\":{\"$in\":tag__1}}},{\"$group\":{\"_id\":{\"m2_Title\":\"$m2_Title\",\"m2_Actors\":\"$m2_Actors\",\"m2_Plot_short\":\"$m2_Plot_short\",\"m2_Poster\":\"$m2_Poster\"},\"count\":{\"$sum\":1}}}]):\n",
    "        tag_home_list_1.append(tag_home)\n",
    "\n",
    "    for tag_home in mycol.aggregate([{\"$match\":{\"m1_tag\":{\"$in\":tag__0}}},{\"$group\":{\"_id\":{\"m2_Title\":\"$m2_Title\",\"m2_Actors\":\"$m2_Actors\",\"m2_Plot_short\":\"$m2_Plot_short\",\"m2_Poster\":\"$m2_Poster\"},\"count\":{\"$sum\":1}}}]):\n",
    "        tag_home_list_0.append(tag_home)\n",
    "        \n",
    "    \n",
    "    count = 5\n",
    "    tag_home_final_2 = []\n",
    "    tag_home_final_1 = []\n",
    "    tag_home_final_0 = []\n",
    "    \n",
    "    if (2 in tag__list) == True:\n",
    "        list_2_len = len(tag_home_list_2)\n",
    "        if list_2_len < 5:\n",
    "            add_list_num = 5 - list_2_len\n",
    "            bb_Title = []\n",
    "            for b in range(list_2_len):\n",
    "                bb_Title.append(tag_home_list_2[b]['_id']['m2_Title'])\n",
    "            t1 = mycol.count({\"m2_Title\": {\"$nin\": bb_Title}})\n",
    "            for c in range(add_list_num):\n",
    "                cc = mycol.find({\"m2_Title\": {\"$nin\": bb_Title}},{\"_id\":0,\"m2_Actors\":1,\"m2_Title\":1,\"m2_Plot_short\":1,\"m2_Poster\":1})[random.randrange(t1)]\n",
    "                ccc = {\"_id\":cc}\n",
    "                tag_home_list_2.append(ccc)\n",
    "            list_2_len = len(tag_home_list_2)    \n",
    "        list_2_random = random.sample(range(0, list_2_len), count)\n",
    "        for a in list_2_random:\n",
    "            tag_home_final_2.append(tag_home_list_2[a])   \n",
    "    elif (1 in tag__list) == True:\n",
    "        list_1_len = len(tag_home_list_1)\n",
    "        if list_1_len < 5:\n",
    "            add_list_num = 5 - list_1_len\n",
    "            bb_Title = []\n",
    "            for b in range(list_1_len):\n",
    "                bb_Title.append(tag_home_list_1[b]['_id']['m2_Title'])\n",
    "            t1 = mycol.count({\"m2_Title\": {\"$nin\": bb_Title}})\n",
    "            for c in range(add_list_num):\n",
    "                cc = mycol.find({\"m2_Title\": {\"$nin\": bb_Title}},{\"_id\":0,\"m2_Actors\":1,\"m2_Title\":1,\"m2_Plot_short\":1,\"m2_Poster\":1})[random.randrange(t1)]\n",
    "                ccc = {\"_id\":cc}\n",
    "                tag_home_list_1.append(ccc)\n",
    "            list_1_len = len(tag_home_list_1)\n",
    "        list_1_random = random.sample(range(0, list_1_len), count)\n",
    "        for a in list_1_random:\n",
    "            tag_home_final_1.append(tag_home_list_1[a])\n",
    "    else:\n",
    "        list_0_len = len(tag_home_list_0)\n",
    "        if list_0_len < 5:\n",
    "            add_list_num = 5 - list_0_len\n",
    "            bb_Title = []\n",
    "            for b in range(list_0_len):\n",
    "                bb_Title.append(tag_home_list_0[b]['_id']['m2_Title'])\n",
    "            t1 = mycol.count({\"m2_Title\": {\"$nin\": bb_Title}})\n",
    "            for c in range(add_list_num):\n",
    "                cc = mycol.find({\"m2_Title\": {\"$nin\": bb_Title}},{\"_id\":0,\"m2_Actors\":1,\"m2_Title\":1,\"m2_Plot_short\":1,\"m2_Poster\":1})[random.randrange(t1)]\n",
    "                ccc = {\"_id\":cc}\n",
    "                tag_home_list_0.append(ccc)\n",
    "            list_0_len = len(tag_home_list_0)\n",
    "        list_0_random = random.sample(range(0, list_0_len), count)\n",
    "        for a in list_0_random:\n",
    "            tag_home_final_0.append(tag_home_list_0[a])\n",
    "    \n",
    "    \n",
    "    if (2 in tag__list) == True:\n",
    "        tag_home_final = tag_home_final_2\n",
    "    elif (1 in tag__list) == True:\n",
    "        tag_home_final = tag_home_final_1\n",
    "    else:\n",
    "        tag_home_final = tag_home_final_0\n",
    "\n",
    "    return 'OK'"
   ]
  },
  {
   "cell_type": "code",
   "execution_count": 60,
   "metadata": {},
   "outputs": [],
   "source": [
    "def home_movie_1(tag_home_final):\n",
    "    home_movie = TemplateSendMessage(\n",
    "            alt_text='Carousel template',\n",
    "            template=CarouselTemplate(\n",
    "            columns=[\n",
    "                CarouselColumn(         \n",
    "                    thumbnail_image_url=tag_home_final[0]['_id']['m2_Poster'],\n",
    "                    title=title_short(tag_home_final[0]['_id']['m2_Title']),\n",
    "                    text='1',\n",
    "                    actions=[\n",
    "                        {\n",
    "                \"type\": \"postback\",\n",
    "                \"label\": \"演員\",\n",
    "                \"text\": \"1..\" + tag_home_final[0]['_id']['m2_Title'] + \"電影的演員\",\n",
    "                \"data\": \"{'tagActors_home':0}\"\n",
    "              },\n",
    "              {\n",
    "                \"type\": \"postback\",\n",
    "                \"label\": \"劇情介紹\",\n",
    "                \"text\": \"1..\" + tag_home_final[0]['_id']['m2_Title'] + \"電影劇情介紹\",\n",
    "                \"data\": \"{'tagPlot_short_home':0}\"\n",
    "              }      \n",
    "                    ]\n",
    "                ),\n",
    "                CarouselColumn(\n",
    "                    thumbnail_image_url=tag_home_final[1]['_id']['m2_Poster'],\n",
    "                    title=title_short(tag_home_final[1]['_id']['m2_Title']),\n",
    "                    text='2',\n",
    "                    actions=[\n",
    "                        {\n",
    "                \"type\": \"postback\",\n",
    "                \"label\": \"演員\",\n",
    "                \"text\": \"2..\" + tag_home_final[1]['_id']['m2_Title'] + \"電影的演員\",\n",
    "                \"data\": \"{'tagActors_home':1}\"\n",
    "              },\n",
    "              {\n",
    "                \"type\": \"postback\",\n",
    "                \"label\": \"劇情介紹\",\n",
    "                \"text\": \"2..\" + tag_home_final[1]['_id']['m2_Title'] + \"電影劇情介紹\",\n",
    "                \"data\": \"{'tagPlot_short_home':1}\"\n",
    "              }      \n",
    "                    ]\n",
    "                ),\n",
    "                CarouselColumn(\n",
    "                    thumbnail_image_url=tag_home_final[2]['_id']['m2_Poster'],\n",
    "                    title=title_short(tag_home_final[2]['_id']['m2_Title']),\n",
    "                    text='3',\n",
    "                    actions=[\n",
    "                        {\n",
    "                \"type\": \"postback\",\n",
    "                \"label\": \"演員\",\n",
    "                \"text\": \"3..\" + tag_home_final[2]['_id']['m2_Title'] + \"電影的演員\",\n",
    "                \"data\": \"{'tagActors_home':2}\"\n",
    "              },\n",
    "              {\n",
    "                \"type\": \"postback\",\n",
    "                \"label\": \"劇情介紹\",\n",
    "                \"text\": \"3..\" + tag_home_final[2]['_id']['m2_Title'] + \"電影劇情介紹\",\n",
    "                \"data\": \"{'tagPlot_short_home':2}\"\n",
    "              }      \n",
    "                    ]\n",
    "                ),\n",
    "                CarouselColumn(\n",
    "                    thumbnail_image_url=tag_home_final[3]['_id']['m2_Poster'],\n",
    "                    title=title_short(tag_home_final[3]['_id']['m2_Title']),\n",
    "                    text='4',\n",
    "                    actions=[\n",
    "                        {\n",
    "                \"type\": \"postback\",\n",
    "                \"label\": \"演員\",\n",
    "                \"text\": \"4..\" + tag_home_final[3]['_id']['m2_Title'] + \"電影的演員\",\n",
    "                \"data\": \"{'tagActors_home':3}\"\n",
    "              },\n",
    "              {\n",
    "                \"type\": \"postback\",\n",
    "                \"label\": \"劇情介紹\",\n",
    "                \"text\": \"4..\" + tag_home_final[3]['_id']['m2_Title'] + \"電影劇情介紹\",\n",
    "                \"data\": \"{'tagPlot_short_home':3}\"\n",
    "              }      \n",
    "                    ]\n",
    "                ),\n",
    "                CarouselColumn(\n",
    "                    thumbnail_image_url=tag_home_final[4]['_id']['m2_Poster'],\n",
    "                    title=title_short(tag_home_final[4]['_id']['m2_Title']),\n",
    "                    text='5',\n",
    "                    actions=[\n",
    "                        {\n",
    "                \"type\": \"postback\",\n",
    "                \"label\": \"演員\",\n",
    "                \"text\": \"5..\" + tag_home_final[4]['_id']['m2_Title'] + \"電影的演員\",\n",
    "                \"data\": \"{'tagActors_home':4}\"\n",
    "              },\n",
    "              {\n",
    "                \"type\": \"postback\",\n",
    "                \"label\": \"劇情介紹\",\n",
    "                \"text\": \"5..\" + tag_home_final[4]['_id']['m2_Title'] + \"電影劇情介紹\",\n",
    "                \"data\": \"{'tagPlot_short_home':4}\"\n",
    "              }      \n",
    "                    ]\n",
    "                )\n",
    "           ]\n",
    "        )\n",
    "        )     \n",
    "    return home_movie"
   ]
  },
  {
   "cell_type": "code",
   "execution_count": 61,
   "metadata": {},
   "outputs": [],
   "source": [
    "# 觀看再線電影，依照使用者填選電影表單來推薦電影\n",
    "def online_movie_tag():\n",
    "    global tag_online_final\n",
    "    import pymongo\n",
    "    import random\n",
    "    #tag_online_final = []\n",
    "    tag__list = []\n",
    "    tag__2 = []\n",
    "    tag__1 = []\n",
    "    tag__0 = [0,1,2,3,4,5,6,7,8]\n",
    "    myclient = pymongo.MongoClient('mongodb://10.120.28.26:27017')\n",
    "    mydb = myclient[\"movies\"]\n",
    "    mycol = mydb[\"online_tag\"]\n",
    "\n",
    "    tag__list.append(postback_from['tag0'])\n",
    "    tag__list.append(postback_from['tag1'])\n",
    "    tag__list.append(postback_from['tag2'])\n",
    "    tag__list.append(postback_from['tag3'])\n",
    "    tag__list.append(postback_from['tag4'])\n",
    "    tag__list.append(postback_from['tag5'])\n",
    "    tag__list.append(postback_from['tag6'])\n",
    "    tag__list.append(postback_from['tag7'])\n",
    "    tag__list.append(postback_from['tag8'])\n",
    "\n",
    "    num_tag = 0\n",
    "    for a in tag__list:\n",
    "        num_tag = num_tag + 1\n",
    "        if a == 2:\n",
    "            tag__2.append(num_tag)\n",
    "        elif a == 1:\n",
    "            tag__1.append(num_tag)\n",
    "\n",
    "    tag_online_list_2 =[]\n",
    "    tag_online_list_1 =[]\n",
    "    tag_online_list_0 =[]\n",
    "    \n",
    "    for tag_online in mycol.find({\"tag\":{\"$in\":tag__2}},{\"_id\":0,\"chinese_name\":1,\"Poster\":1,\"Actors\":1,\"chinese_info\":1,\"yahoo_movie_url\":1})\\\n",
    "                 .sort(\"Predict\",-1).limit(5):\n",
    "        tag_online_list_2.append(tag_online)\n",
    "    for tag_online in mycol.find({\"tag\":{\"$in\":tag__1}},{\"_id\":0,\"chinese_name\":1,\"Poster\":1,\"Actors\":1,\"chinese_info\":1,\"yahoo_movie_url\":1})\\\n",
    "                 .sort(\"Predict\",-1).limit(5):\n",
    "        tag_online_list_1.append(tag_online)\n",
    "    for tag_online in mycol.find({\"tag\":{\"$in\":tag__0}},{\"_id\":0,\"chinese_name\":1,\"Poster\":1,\"Actors\":1,\"chinese_info\":1,\"yahoo_movie_url\":1})\\\n",
    "                 .sort(\"Predict\",-1).limit(5):\n",
    "        tag_online_list_0.append(tag_online)    \n",
    "       \n",
    "\n",
    "    if (2 in tag__list) == True:\n",
    "        list_2_len = len(tag_online_list_2)\n",
    "        if list_2_len < 5:\n",
    "            add_list_num = 5 - list_2_len\n",
    "            bb_Title = []\n",
    "            for b in range(list_2_len):\n",
    "                bb_Title.append(tag_online_list_2[b]['chinese_name'])\n",
    "            add_list =  mycol.find({\"chinese_name\":{\"$nin\":bb_Title}},{\"_id\":0,\"chinese_name\":1,\"Poster\":1,\"Actors\":1,\"chinese_info\":1,\"yahoo_movie_url\":1})\\\n",
    "                 .sort(\"Predict\",-1).limit(add_list_num)   \n",
    "            for a in add_list:\n",
    "                tag_online_list_2.append(a)\n",
    "    elif (1 in tag__list) == True:\n",
    "        list_1_len = len(tag_online_list_1)\n",
    "        if list_1_len < 5:\n",
    "            add_list_num = 5 - list_1_len\n",
    "            bb_Title = []\n",
    "            for b in range(list_1_len):\n",
    "                bb_Title.append(tag_online_list_1[b]['chinese_name'])\n",
    "            add_list =  mycol.find({\"chinese_name\":{\"$nin\":bb_Title}},{\"_id\":0,\"chinese_name\":1,\"Poster\":1,\"Actors\":1,\"chinese_info\":1,\"yahoo_movie_url\":1})\\\n",
    "                 .sort(\"Predict\",-1).limit(add_list_num)   \n",
    "            for a in add_list:\n",
    "                tag_online_list_1.append(a)\n",
    "    else:\n",
    "        list_0_len = len(tag_online_list_0)\n",
    "        if list_0_len < 5:\n",
    "            add_list_num = 5 - list_0_len\n",
    "            bb_Title = []\n",
    "            for b in range(list_0_len):\n",
    "                bb_Title.append(tag_online_list_0[b]['chinese_name'])\n",
    "            add_list =  mycol.find({\"chinese_name\":{\"$nin\":bb_Title}},{\"_id\":0,\"chinese_name\":1,\"Poster\":1,\"Actors\":1,\"chinese_info\":1,\"yahoo_movie_url\":1})\\\n",
    "                 .sort(\"Predict\",-1).limit(add_list_num)   \n",
    "            for a in add_list:\n",
    "                tag_online_list_0.append(a)\n",
    "                \n",
    "    if (2 in tag__list) == True:\n",
    "        tag_online_final = tag_online_list_2\n",
    "    elif (1 in tag__list) == True:\n",
    "        tag_online_final = tag_online_list_1\n",
    "    else:\n",
    "        tag_online_final = tag_online_list_0            \n",
    "\n",
    "    return 'OK'"
   ]
  },
  {
   "cell_type": "code",
   "execution_count": 62,
   "metadata": {},
   "outputs": [],
   "source": [
    "def online_movie_1(tag_online_final):\n",
    "    online_movie = TemplateSendMessage(\n",
    "            alt_text='Carousel template',\n",
    "            template=CarouselTemplate(\n",
    "            columns=[\n",
    "                CarouselColumn(         \n",
    "                    thumbnail_image_url=tag_online_final[0]['Poster'],\n",
    "                    title=title_short(tag_online_final[0]['chinese_name']),\n",
    "                    text='1.演員' + Plot_short_from(tag_online_final[0]['Actors']),\n",
    "                    actions=[\n",
    "                        {\n",
    "                \"type\": \"postback\",\n",
    "                \"label\": \"訂票\",\n",
    "                \"text\": \"我要訂票: 電影:\" + tag_online_final[0]['chinese_name'],\n",
    "                \"data\": \"{'tagActors_online':0}\"\n",
    "              },\n",
    "              {\n",
    "                \"type\": \"postback\",\n",
    "                \"label\": \"劇情介紹\",\n",
    "                \"text\": \"1..\" + tag_online_final[0]['chinese_name'] + \"電影劇情介紹\",\n",
    "                \"data\": \"{'tagPlot_short_online':0}\"\n",
    "              },\n",
    "              {\n",
    "                \"type\": \"uri\",\n",
    "                \"label\": \"時刻表\",\n",
    "                \"uri\": tag_online_final[0]['yahoo_movie_url']\n",
    "              }          \n",
    "                    ]\n",
    "                ),\n",
    "                CarouselColumn(\n",
    "                    thumbnail_image_url=tag_online_final[1]['Poster'],\n",
    "                    title=title_short(tag_online_final[1]['chinese_name']),\n",
    "                    text='2.演員' + Plot_short_from(tag_online_final[1]['Actors']),\n",
    "                    actions=[\n",
    "                        {\n",
    "                \"type\": \"postback\",\n",
    "                \"label\": \"訂票\",\n",
    "                \"text\": \"我要訂票: 電影:\" + tag_online_final[1]['chinese_name'],\n",
    "                \"data\": \"{'tagActors_online':1}\"\n",
    "              },\n",
    "              {\n",
    "                \"type\": \"postback\",\n",
    "                \"label\": \"劇情介紹\",\n",
    "                \"text\": \"2..\" + tag_online_final[1]['chinese_name'] + \"電影劇情介紹\",\n",
    "                \"data\": \"{'tagPlot_short_online':1}\"\n",
    "              },\n",
    "              {\n",
    "                \"type\": \"uri\",\n",
    "                \"label\": \"時刻表\",\n",
    "                \"uri\": tag_online_final[1]['yahoo_movie_url']\n",
    "              }      \n",
    "                    ]\n",
    "                ),\n",
    "                CarouselColumn(\n",
    "                    thumbnail_image_url=tag_online_final[2]['Poster'],\n",
    "                    title=title_short(tag_online_final[2]['chinese_name']),\n",
    "                    text='3.演員' + Plot_short_from(tag_online_final[2]['Actors']),\n",
    "                    actions=[\n",
    "                        {\n",
    "                \"type\": \"postback\",\n",
    "                \"label\": \"訂票\",\n",
    "                \"text\": \"我要訂票: 電影:\" + tag_online_final[2]['chinese_name'],\n",
    "                \"data\": \"{'tagActors_online':2}\"\n",
    "              },\n",
    "              {\n",
    "                \"type\": \"postback\",\n",
    "                \"label\": \"劇情介紹\",\n",
    "                \"text\": \"3..\" + tag_online_final[2]['chinese_name'] + \"電影劇情介紹\",\n",
    "                \"data\": \"{'tagPlot_short_online':2}\"\n",
    "              },\n",
    "              {\n",
    "                \"type\": \"uri\",\n",
    "                \"label\": \"時刻表\",\n",
    "                \"uri\": tag_online_final[2]['yahoo_movie_url']\n",
    "              }      \n",
    "                    ]\n",
    "                ),\n",
    "                CarouselColumn(\n",
    "                    thumbnail_image_url=tag_online_final[3]['Poster'],\n",
    "                    title=title_short(tag_online_final[3]['chinese_name']),\n",
    "                    text='4.演員' + Plot_short_from(tag_online_final[3]['Actors']),\n",
    "                    actions=[\n",
    "                        {\n",
    "                \"type\": \"postback\",\n",
    "                \"label\": \"訂票\",\n",
    "                \"text\": \"我要訂票: 電影:\" + tag_online_final[3]['chinese_name'],\n",
    "                \"data\": \"{'tagActors_online':3}\"\n",
    "              },\n",
    "              {\n",
    "                \"type\": \"postback\",\n",
    "                \"label\": \"劇情介紹\",\n",
    "                \"text\": \"4..\" + tag_online_final[3]['chinese_name'] + \"電影劇情介紹\",\n",
    "                \"data\": \"{'tagPlot_short_online':3}\"\n",
    "              },\n",
    "              {\n",
    "                \"type\": \"uri\",\n",
    "                \"label\": \"時刻表\",\n",
    "                \"uri\": tag_online_final[3]['yahoo_movie_url']\n",
    "              }      \n",
    "                    ]\n",
    "                ),\n",
    "                CarouselColumn(\n",
    "                    thumbnail_image_url=tag_online_final[4]['Poster'],\n",
    "                    title=title_short(tag_online_final[4]['chinese_name']),\n",
    "                    text='5.演員' + Plot_short_from(tag_online_final[4]['Actors']),\n",
    "                    actions=[\n",
    "                        {\n",
    "                \"type\": \"postback\",\n",
    "                \"label\": \"訂票\",\n",
    "                \"text\": \"我要訂票: 電影:\" + tag_online_final[4]['chinese_name'],\n",
    "                \"data\": \"{'tagActors_online':4}\"\n",
    "              },\n",
    "              {\n",
    "                \"type\": \"postback\",\n",
    "                \"label\": \"劇情介紹\",\n",
    "                \"text\": \"5..\" + tag_online_final[4]['chinese_name'] + \"電影劇情介紹\",\n",
    "                \"data\": \"{'tagPlot_short_online':4}\"\n",
    "              },\n",
    "              {\n",
    "                \"type\": \"uri\",\n",
    "                \"label\": \"時刻表\",\n",
    "                \"uri\": tag_online_final[4]['yahoo_movie_url']\n",
    "              }      \n",
    "                    ]\n",
    "                )\n",
    "           ]\n",
    "        )\n",
    "        )     \n",
    "    return online_movie"
   ]
  },
  {
   "cell_type": "code",
   "execution_count": 63,
   "metadata": {},
   "outputs": [],
   "source": [
    "'''\n",
    "建立表單所需要的問題\n",
    "'''\n",
    "from linebot.models import *\n",
    "quation_dict={\n",
    "'q1':TextSendMessage(text=\"1.請告訴我電影名稱\\n Ex: Iron man 3\"),\n",
    "'q2':TextSendMessage(text=\"2.請告訴我電影時間長度\\n Ex:140min\\n若數字為小數請四捨五入\"),\n",
    "'q3':TextSendMessage(text=\"3.請告訴我您的預算?\\n Ex:5000000\\n若數字為小數請四捨五入\"),\n",
    "'q4':TextSendMessage(text=\"4.請告訴我製片商?\\n Ex:20th Century Fox\"),\n",
    "'q5':TextSendMessage(text=\"5.請告訴我imdb的票數?\\n Ex:55\\n若數字為小數請四捨五入\"),\n",
    "'q6':TextSendMessage(text=\"6.請告訴我imdb的分數?\\n Ex:9\\n若數字為小數請四捨五入\"),\n",
    "'q7':TextSendMessage(text=\"7.請告訴我爛番茄的分數?\\n Ex:8\\n若數字為小數請四捨五入\"),\n",
    "'q8':TextSendMessage(text=\"8.請告訴我您會上映的電影院數?\\n Ex:475\\n若數字為小數請四捨五入\"),\n",
    "'q9':TextSendMessage(text=\"9.請告訴我您電影的種類?\\n Ex:Adventure\"),\n",
    "'q10':TextSendMessage(text=\"10.請告訴我電影的語言?\\n Ex:English\"),\n",
    "'q11':TextSendMessage(text=\"11.請告訴我電影製作的國家?\\n Ex:USA\"),\n",
    "'q12':TextSendMessage(text=\"12.請告訴我電影的分級?\\n Ex:PG-13\"),\n",
    "'q13':TextSendMessage(text=\"13.請告訴我電影的Metascore?\\n Ex:5\\n若數字為小數請四捨五入\"),\n",
    "'q14':TextSendMessage(text=\"14.請告訴我電影的預計上印日期?\\n Ex:01 JUN 2019\"),\n",
    "'q15':TextSendMessage(text=\"15.請告訴我主要三個演員?\\n EX:Robert Downey Jr,Chris Evans,Scarlett Johansson\")}\n",
    "remind = TextSendMessage(texr=\"不好意思，請您依照提示格式輸入\")"
   ]
  },
  {
   "cell_type": "code",
   "execution_count": 64,
   "metadata": {},
   "outputs": [],
   "source": [
    "#設定預測方面所需要的功能\n",
    "import re\n",
    "from linebot.models import *\n",
    "class_ =[\"G\",\"PG\",\"PG13\",\"R\",\"NC17\"]\n",
    "number_re = re.compile(\"\\D\")\n",
    "character_re = re.compile(\"\\d\")\n",
    "min_re = re.compile('min')\n",
    "count = 0\n",
    "model_dict={}\n",
    "quation_list = [\"movie_name\",\"Runtime\",\"budget_in_USD\",\"Production\",\"imdbVotes\",\"IMDBscore\",\"TomatoesScore\",\n",
    "                \"Theater_num\",\"Genre\",\"Language\",\"Country\",\"classification\",\"Metascore\",\"Released\",\"actor\"]\n",
    "model_list = []"
   ]
  },
  {
   "cell_type": "code",
   "execution_count": 65,
   "metadata": {},
   "outputs": [],
   "source": [
    "storage = {}\n",
    "def predict_text(event):\n",
    "    global storage\n",
    "    text = event.message.text\n",
    "    #選擇進入後，進行richmenu的轉換，並且傳送第一個問題\n",
    "    if text == \"::text:: 我要精準預測\":\n",
    "        # 取出用戶id，設定Line的遠端位置\n",
    "        userMenuEndpoint='https://api.line.me/v2/bot/user/%s/richmenu' % (event.source.user_id)\n",
    "        # 設定消息的基本安全憑證\n",
    "        userMenuRequestHeader={'Authorization':'Bearer %s' % secretFileContentJson[\"channel_access_token\"]}\n",
    "        # 發送消息告知已經解除\n",
    "        lineUnregisterUserMenuResponse=requests.delete(userMenuEndpoint,headers=userMenuRequestHeader)\n",
    "        # 取得菜單id\n",
    "        linkRichMenuId2=secretFileContentJson.get(\"rich_menu_id2\")\n",
    "        # 將菜單id與用戶id組合成遠端位置\n",
    "        linkMenuEndpoint2='https://api.line.me/v2/bot/user/%s/richmenu/%s' % (event.source.user_id, linkRichMenuId2)\n",
    "        # 設定消息基本安全憑證\n",
    "        linkMenuRequestHeader2={'Content-Type':'image/jpeg','Authorization':'Bearer %s' % secretFileContentJson[\"channel_access_token\"]}\n",
    "        # 發送消息\n",
    "        lineLinkMenuResponse2=requests.post(linkMenuEndpoint2,headers=linkMenuRequestHeader2)\n",
    "        #並且發送問文字訊息\n",
    "        reply_text = \"您好，歡迎使用我們的電影預測系統，以下是我們預測所需要的變數，請您幫忙依照例子回答!! \\n並請在所有回答中加上'::q+題目號::'，以方便我們確認是哪一題喔\"\n",
    "        message_first_predict_list = [TextSendMessage(reply_text),quation_dict.get('q1')]\n",
    "        line_bot_api.reply_message(\n",
    "            event.reply_token,\n",
    "            message_first_predict_list\n",
    "        )\n",
    "    elif (text.find('::q')!= -1):\n",
    "        text_split = text.split(\"::\")\n",
    "        number = int(text.split(\"::\")[1].replace('q','q_').split(\"_\")[1])\n",
    "        answer = text_split[2]\n",
    "        if number in [3,5,8]:\n",
    "            if number_re.search(answer.replace(\" \",\"\")) == None:\n",
    "                sto_num = number-1\n",
    "                storage[quation_list[sto_num]]=answer\n",
    "                next_num = number+1\n",
    "                quation_num = 'q'+str(next_num)\n",
    "                line_bot_api.reply_message(event.reply_token,quation_dict.get(quation_num))\n",
    "            else:\n",
    "                line_bot_api.reply_message(\n",
    "                    event.reply_token,\n",
    "                    quation_dict.get(text_split[1]))\n",
    "        elif number == 2:\n",
    "            if min_re.search(answer.replace(\" \",\"\")) != None:\n",
    "                sto_num = number-1\n",
    "                storage[quation_list[sto_num]]=answer\n",
    "                next_num = number+1\n",
    "                quation_num = 'q'+str(next_num)\n",
    "                line_bot_api.reply_message(event.reply_token,quation_dict.get(quation_num))\n",
    "            else:\n",
    "                line_bot_api.reply_message(\n",
    "                    event.reply_token,\n",
    "                    quation_dict.get(text_split[1]))\n",
    "        elif number in [6,7,13]:\n",
    "            if number_re.search(answer.replace(\" \",\"\")) == None:\n",
    "                sto_num = number-1\n",
    "                storage[quation_list[sto_num]]=round(float(answer.replace(\" \",\"\"))/10,1)\n",
    "                next_num = number+1\n",
    "                quation_num = 'q'+str(next_num)\n",
    "                line_bot_api.reply_message(event.reply_token,quation_dict.get(quation_num))\n",
    "            else:\n",
    "                line_bot_api.reply_message(\n",
    "                    event.reply_token,\n",
    "                    quation_dict.get(text_split[1]))\n",
    "            \n",
    "        elif number in [9,10,11]:\n",
    "            if character_re.search(answer) == None:\n",
    "                sto_num = number-1\n",
    "                storage[quation_list[sto_num]]=answer\n",
    "                next_num = number+1\n",
    "                quation_num = 'q'+str(next_num)\n",
    "                line_bot_api.reply_message(event.reply_token,quation_dict.get(quation_num))\n",
    "            else:\n",
    "                line_bot_api.reply_message(\n",
    "                    event.reply_token,\n",
    "                    quation_dict.get(text_split[1]))\n",
    "        elif number ==12:\n",
    "            if answer in class_:\n",
    "                sto_num = number-1\n",
    "                storage[quation_list[sto_num]]=answer\n",
    "                next_num = number+1\n",
    "                quation_num = 'q'+str(next_num)\n",
    "                line_bot_api.reply_message(event.reply_token,quation_dict.get(quation_num))\n",
    "            else:\n",
    "                line_bot_api.reply_message(\n",
    "                    event.reply_token,\n",
    "                    quation_dict.get(text_split[1]))\n",
    "        elif number in [1,4,14]:\n",
    "            sto_num = number-1\n",
    "            storage[quation_list[sto_num]]=answer\n",
    "            next_num = number+1\n",
    "            quation_num = 'q'+str(next_num)\n",
    "            line_bot_api.reply_message(event.reply_token,quation_dict.get(quation_num))\n",
    "        elif number ==15:\n",
    "            sto_num = number-1\n",
    "            storage[quation_list[sto_num]]=answer\n",
    "            print(storage)\n",
    "            \n",
    "            message_final_list = [TextSendMessage(text='以下是您填寫的資訊，若確認無誤請點下幫確認鍵'),\n",
    "                                  TextSendMessage(text=str(storage)),\n",
    "                                  comfirm_message]\n",
    "            line_bot_api.reply_message(event.reply_token,message_final_list)\n",
    "            \n",
    "    elif text == '::text::是的沒錯':\n",
    "        print(storage)\n",
    "        a,b =run_model(storage)\n",
    "        print(type(a),type(b))\n",
    "        text_final = a + '您的票房預估:'+str(b[0])\n",
    "        if a == '您會虧錢':\n",
    "            line_bot_api.reply_message(event.reply_token,TextSendMessage(text=text_final))\n",
    "        else:\n",
    "            line_bot_api.reply_message(event.reply_token,TextSendMessage(text=text_final))\n",
    "            \n",
    "    elif text ==':text::我想要更改':\n",
    "        line_bot_api.reply_message(event.reply_token,quation_dict.get('q1'))\n",
    "        \n",
    "            \n",
    "            \n",
    "                \n",
    "        \n",
    "    # 設定richmenu的功能\n",
    "    elif text ==\"::text:: 我填錯了想重來~\":\n",
    "        line_bot_api.reply_message(\n",
    "        event.reply_token,\n",
    "        quation_dict.get('q1'))\n",
    "    # 設定錯誤回答的答案\n",
    "    else:\n",
    "        line_bot_api.reply_message(\n",
    "        event.reply_token,\n",
    "        TextSendMessage(text=\"請點擊下方表單功能\"))\n",
    "    "
   ]
  },
  {
   "cell_type": "code",
   "execution_count": 66,
   "metadata": {},
   "outputs": [],
   "source": [
    "'''\n",
    "建立comfirm template\n",
    "'''\n",
    "from linebot.models import *\n",
    "comfirm_message = TemplateSendMessage(\n",
    "    alt_text='this is a confirm template',\n",
    "        template=ConfirmTemplate(\n",
    "            title='這是ConfirmTemplate',\n",
    "            text='以上是您輸入的訊息，若訊息無誤請按下確認',\n",
    "            actions=[                              \n",
    "                {\n",
    "        \"type\": \"message\",\n",
    "        \"label\": \"是的沒錯\",\n",
    "        \"text\": \"::text::是的沒錯\"\n",
    "      },\n",
    "      {\n",
    "        \"type\": \"message\",\n",
    "        \"label\": \"我想更改\",\n",
    "        \"text\": \"::text::我想要更改\"\n",
    "      }\n",
    "            ]\n",
    "        )\n",
    ")"
   ]
  },
  {
   "cell_type": "code",
   "execution_count": 67,
   "metadata": {},
   "outputs": [],
   "source": [
    "# %load ../linebot_deployment-master/linebot_model.py\n",
    "\"\"\"\n",
    "Created on Fri Jul 12 17:21:16 2019\n",
    "\n",
    "@author: Big data\n",
    "\"\"\"\n",
    "\n",
    "# -*- coding: utf-8 -*-\n",
    "\"\"\"\n",
    "Created on Sun Jul  7 12:56:10 2019\n",
    "\n",
    "@author: Big data\n",
    "\"\"\"  \n",
    "\n",
    "import numpy as np\n",
    "from pytrends.request import TrendReq #API\n",
    "import time\n",
    "import random\n",
    "import json\n",
    "import pandas as pd\n",
    "import numpy as np\n",
    "import pandas as pd\n",
    "import xgboost as xgb\n",
    "import numpy as np\n",
    "from xgboost import plot_importance\n",
    "from sklearn.preprocessing import Imputer\n",
    "from sklearn.model_selection import train_test_split\n",
    "from sklearn import model_selection\n",
    "from sklearn.linear_model import LogisticRegression\n",
    "import pickle\n",
    "from sklearn.externals import joblib\n",
    "from sklearn.ensemble import RandomForestClassifier\n",
    "from sklearn.model_selection import cross_val_score\n",
    "t={\"movie_name\":\"herry\",\"Runtime\":\"101min\",\"budget_in_USD\":1400000,\"Production\":\"aaa\",\"imdbVotes\":0.5,\"IMDBscore\":0.6,\"TomatoesScore\":0.8,\"Metascore\":0.5,\"actor\":\"johney\",\n",
    "  \"Theater_num\":1000,\"movie_2_before\":50,\"movie_1_before\":50,\"movie_0_before\":50,\"Actor_2_before\":50,\"Actor_1_before\":50,\n",
    "  \"Actor_0_before\":50,\"Genre\":\"Action\",\"Language\":\"English\",\"Country\":\"USA\",\"classification\":\"R\",\"Released\":\"27 Feb 2019\"}\n",
    "def month(m):\n",
    "    mon = {\n",
    "        \"Jan\": 1, \"Feb\": 2, \"Mar\": 3, \"Apr\": 4, \"May\": 5, \"Jun\": 6,\n",
    "        \"Jul\": 7, \"Aug\": 8, \"Sep\": 9, \"Oct\": 10, \"Nov\": 11, \"Dec\": 12\n",
    "    }\n",
    "    return mon.get(m)\n",
    "\n",
    "def g_trend_movie(movie, release_date):\n",
    "    s_movie = movie\n",
    "    if \",\" in movie:  # Gooletrends不可使用\"，\" 分隔 所以將名稱有\"，\"的取代成空白\n",
    "        s_movie = movie.replace(\",\", \" \")\n",
    "    if \"：\" in movie:\n",
    "        s_movie = movie.split(\"：\")[0]\n",
    "\n",
    "    release_year = int(release_date.split(\" \")[-1])  # 取上映年分，還有前一年和後一年\n",
    "    release_mon = release_date.split(\" \")[1]\n",
    "    release_mon = month(release_mon)\n",
    "    release_day = int(release_date.split(\" \")[0])\n",
    "\n",
    "    front_year = int(release_year) - 1\n",
    "    next_year = int(release_year) + 1\n",
    "    timeframe = str(front_year) + \"-01-01 \" + str(next_year) + \"-12-31\"\n",
    "\n",
    "    pytrend = TrendReq(tz=360)\n",
    "    kw_list = [s_movie]\n",
    "    pytrend.build_payload(kw_list=kw_list, cat=34, timeframe=timeframe, geo=\"US\", gprop=\"\")  # 搜尋使用的參數,其中cat=34 為電影類別\n",
    "\n",
    "    moviedata = pytrend.interest_over_time().get(kw_list)\n",
    "    try:\n",
    "        moviedata.rename(columns={moviedata.columns[0]: \"Count\"}, inplace=True)\n",
    "        moviedata_list = json.loads(moviedata.to_json(orient='table'))['data']\n",
    "        if release_mon == 2:\n",
    "            start_mon = 12\n",
    "            start_year = release_year - 1\n",
    "        elif release_mon == 1:\n",
    "            start_mon = 11\n",
    "            start_year = release_year - 1\n",
    "        else:\n",
    "            start_mon = release_mon - 2\n",
    "            start_year = release_year\n",
    "        start_day = release_day\n",
    "        for l in moviedata_list:\n",
    "            tempdate = l[\"date\"][0:10]\n",
    "            l[\"date\"] = tempdate\n",
    "        node_day = 0\n",
    "        day_count = 0\n",
    "        node_count = 0\n",
    "        for l in moviedata_list:\n",
    "            year_gt = int(l[\"date\"].split(\"-\")[0])\n",
    "            mon_gt = int(l[\"date\"].split(\"-\")[1])\n",
    "            day_gt = int(l[\"date\"].split(\"-\")[-1])\n",
    "            if year_gt == start_year and mon_gt == start_mon:\n",
    "                if node_day < start_day:\n",
    "                    node_day = day_gt\n",
    "                    node_count = day_count\n",
    "            day_count += 1\n",
    "        # node_data= moviedata_list[node_count]\n",
    "\n",
    "        output_list = []\n",
    "        for i in range(17):\n",
    "            try:\n",
    "                # print(moviedata_list[node_count+i],i)\n",
    "                output_list.append(moviedata_list[node_count + i][\"Count\"])\n",
    "            except:\n",
    "                output_list.append(0)\n",
    "    except:\n",
    "        output_list = [0, 0, 0, 0, 0,\n",
    "                       0, 0, 0, 0, 0,\n",
    "                       0, 0, 0, 0, 0,\n",
    "                       0, 0]\n",
    "\n",
    "    output_df = pd.DataFrame([output_list])\n",
    "\n",
    "    j = 8\n",
    "    for i in range(0, 9, 1):\n",
    "        output_df = output_df.rename(columns={i: \"movie_\" + str(j) + \"_before\"})\n",
    "        j -= 1\n",
    "    j = 1\n",
    "    for i in range(9, 17, 1):\n",
    "        output_df = output_df.rename(columns={i: \"movie_\" + str(j) + \"_after\"})\n",
    "        j += 1\n",
    "    output_df = output_df.to_dict(orient='records')\n",
    "    return output_df\n",
    "\n",
    "def g_trend_actor(actor, release_date):\n",
    "    actor_alist = actor.split(\",\")\n",
    "\n",
    "    release_year = int(release_date.split(\" \")[-1])\n",
    "    release_mon = release_date.split(\" \")[1]\n",
    "    release_mon = month(release_mon)\n",
    "    release_day = int(release_date.split(\" \")[0])\n",
    "\n",
    "    timeframe = [\"2004-01-01 2007-12-31\", \"2008-01-01 2011-12-31\", \"2012-01-01 2015-12-31\", \"2016-01-01 2019-12-31\"]\n",
    "    output_total = np.array([0, 0, 0, 0, 0, 0, 0, 0, 0, 0, 0, 0, 0, 0, 0, 0, 0])\n",
    "    for actor in actor_alist:\n",
    "        actordata_list = []\n",
    "        for t in timeframe:\n",
    "            time.sleep(random.randint(3, 5))\n",
    "            # print(actor,t)\n",
    "            pytrend = TrendReq(tz=360)\n",
    "            kw_list = [actor]\n",
    "            pytrend.build_payload(kw_list=kw_list, cat=34, timeframe=t, geo=\"US\", gprop=\"\")  # 搜尋使用的參數,其中cat=34 為電影類別\n",
    "\n",
    "            actordata = pytrend.interest_over_time().get(kw_list)\n",
    "            try:\n",
    "                actordata.rename(columns={actordata.columns[0]: \"Count\"}, inplace=True)\n",
    "            except:\n",
    "                continue\n",
    "            temp_actordata_list = json.loads(actordata.to_json(orient='table'))['data']\n",
    "            actordata_list += temp_actordata_list\n",
    "\n",
    "        for l in actordata_list:\n",
    "            tempdate = l[\"date\"][0:10]\n",
    "            l[\"date\"] = tempdate\n",
    "\n",
    "        if release_mon == 2:\n",
    "            start_mon = 12\n",
    "            start_year = release_year - 1\n",
    "        elif release_mon == 1:\n",
    "            start_mon = 11\n",
    "            start_year = release_year - 1\n",
    "        else:\n",
    "            start_mon = release_mon - 2\n",
    "            start_year = release_year\n",
    "        start_day = release_day\n",
    "        node_day = 0\n",
    "        day_count = 0\n",
    "        node_count = 0\n",
    "        for l in actordata_list:\n",
    "            year_gt = int(l[\"date\"].split(\"-\")[0])\n",
    "            mon_gt = int(l[\"date\"].split(\"-\")[1])\n",
    "            day_gt = int(l[\"date\"].split(\"-\")[-1])\n",
    "            if year_gt == start_year and mon_gt == start_mon:\n",
    "                if node_day < start_day:\n",
    "                    node_day = day_gt\n",
    "                    node_count = day_count\n",
    "            day_count += 1\n",
    "        # print(actordata_list[node_count],\"rr\")\n",
    "\n",
    "        output_list = []\n",
    "        for i in range(17):\n",
    "            try:\n",
    "                # print(actordata_list[node_count+i],i)\n",
    "                output_list.append(actordata_list[node_count + i][\"Count\"])\n",
    "            except:\n",
    "                output_list.append(0)\n",
    "        output_list = np.array(output_list)\n",
    "\n",
    "        output_total = output_total + output_list\n",
    "    output_avg = output_total / len(actor_alist)\n",
    "    output_avg = pd.DataFrame([output_avg])\n",
    "    j = 8\n",
    "    for i in range(0, 9, 1):\n",
    "        output_avg = output_avg.rename(columns={i: \"Actor_\" + str(j) + \"_before\"})\n",
    "        j -= 1\n",
    "    j = 1\n",
    "    for i in range(9, 17, 1):\n",
    "        output_avg = output_avg.rename(columns={i: \"Actor_\" + str(j) + \"_after\"})\n",
    "        j += 1\n",
    "    output_avg = output_avg.to_dict(orient='records')\n",
    "    return output_avg\n",
    "\n",
    "def trends_for_line(m):\n",
    "    movie = m[\"movie_name\"]\n",
    "    release_date = m[\"Released\"]\n",
    "    actor = m[\"actor\"]\n",
    "    col_movie = g_trend_movie(movie, release_date)\n",
    "    col_actor = g_trend_actor(actor, release_date)\n",
    "    m = dict(m, **col_movie[0])\n",
    "    m = dict(m, **col_actor[0])\n",
    "\n",
    "    return m\n",
    "\n",
    "def model_yn(movielist):\n",
    "    \n",
    "    movielist['release_date_USA']=movielist['Released']\n",
    "    \n",
    "\n",
    "    want_keys={\n",
    "            'classification', 'Runtime', 'budget_in_USD', \n",
    "           'release_date_USA', 'Genre', 'imdbVotes', 'IMDBscore', 'TomatoesScore',\n",
    "           'Metascore', 'Theater_num', 'movie_2_before',\n",
    "           'movie_1_before', 'movie_0_before', 'Actor_2_before',\n",
    "           'Actor_1_before', 'Actor_0_before'}\n",
    "\n",
    "    wanted_dict = {key : [val] for key ,val in movielist.items() if key in want_keys }   \n",
    "    df = pd.DataFrame.from_dict(wanted_dict)\n",
    "\n",
    "    for i in df.columns:\n",
    "#        print(i)\n",
    "        if df[i].isna().any():\n",
    "            df[i][0] = str(0)\n",
    "    \n",
    "    df[\"runtime\"] = df[\"Runtime\"]\n",
    "    df[\"runtime\"] = df[\"runtime\"].str.replace(\"min\",\"\")\n",
    "    df[\"runtime\"] = df[\"runtime\"].astype(\"float\")\n",
    "    df = df.drop([\"Runtime\"],axis= 1)\n",
    "    try:\n",
    "        df[\"budget_in_USD\"] = df[\"budget_in_USD\"].str.replace('$',\"\").str.replace(\",\",\"\")   \n",
    "    except:\n",
    "        pass\n",
    "    df[\"budget_in_USD\"] = df[\"budget_in_USD\"].astype(\"float\")\n",
    "    \n",
    "    try:\n",
    "        df[\"imdbVotes\"] = df[\"imdbVotes\"][0].replace(\",\",\"\")\n",
    "    except:\n",
    "        pass\n",
    "    df[\"imdbVotes\"] = df[\"imdbVotes\"].astype(\"float\")\n",
    "    \n",
    "    \n",
    "    df['release_date_USA'] = df.release_date_USA.str.split(' ',expand=True)[1]\n",
    "    \n",
    "    #df[\"Cmovie_3_before\"] = df[\"Cmovie_3_before\"].astype(\"str\").replace(\"error\",\"0\").astype(\"float\")\n",
    "    #df[\"Cmovie_2_before\"] = df[\"Cmovie_2_before\"].astype(\"str\").replace(\"error\",\"0\").astype(\"float\")\n",
    "    #df[\"Cmovie_1_before\"] = df[\"Cmovie_1_before\"].astype(\"str\").replace(\"error\",\"0\").astype(\"float\")\n",
    "    #df[\"Cmovie_0_before\"] = df[\"Cmovie_0_before\"].astype(\"str\").replace(\"error\",\"0\").astype(\"float\")\n",
    "#    df[\"movie_3_before\"] = df[\"movie_3_before\"].astype(\"str\").replace(\"error\",\"0\").astype(\"float\")\n",
    "    df[\"movie_2_before\"] = df[\"movie_2_before\"].astype(\"str\").replace(\"error\",\"0\").astype(\"float\")\n",
    "    df[\"movie_1_before\"] = df[\"movie_1_before\"].astype(\"str\").replace(\"error\",\"0\").astype(\"float\")\n",
    "    df[\"movie_0_before\"] = df[\"movie_0_before\"].astype(\"str\").replace(\"error\",\"0\").astype(\"float\")\n",
    "#    df[\"Actor_3_before\"] = df[\"Actor_3_before\"].astype(\"str\").replace(\"error\",\"0\").astype(\"float\")\n",
    "    df[\"Actor_2_before\"] = df[\"Actor_2_before\"].astype(\"str\").replace(\"error\",\"0\").astype(\"float\")\n",
    "    df[\"Actor_1_before\"] = df[\"Actor_1_before\"].astype(\"str\").replace(\"error\",\"0\").astype(\"float\")\n",
    "    df[\"Actor_0_before\"] = df[\"Actor_0_before\"].astype(\"str\").replace(\"error\",\"0\").astype(\"float\")\n",
    "    df= df.join(pd.get_dummies(df[\"classification\"]).astype(\"bool\"))\n",
    "    df = df.drop([\"classification\"], axis=1)\n",
    "    \n",
    "    df= df.join(pd.get_dummies(df[\"release_date_USA\"]).astype(\"bool\"))\n",
    "    df = df.drop([\"release_date_USA\"], axis=1)\n",
    "    \n",
    "    \n",
    "    #onhot encoding\n",
    "    \n",
    "    \n",
    "    \n",
    "    model_wanted_keys=[\n",
    "            'runtime', 'budget_in_USD', 'imdbVotes', 'IMDBscore', 'TomatoesScore',\n",
    "           'Metascore', 'Theater_num', 'movie_2_before',\n",
    "           'movie_1_before', 'movie_0_before', 'Actor_2_before',\n",
    "           'Actor_1_before', 'Actor_0_before', 'G', 'NC-17', 'NotRated', 'PG',\n",
    "           'PG-13', 'R', 'TV-14', 'TV-G', 'TV-MA', 'TV-PG', 'TV-Y', 'TV-Y7',\n",
    "           'TV-Y7-FV', 'Unrated', 'Apr', 'Aug', 'Dec', 'Feb', 'Jan', 'Jul', 'Jun',\n",
    "           'Mar', 'May', 'Nov', 'Oct', 'Sep', 'Action', 'Adventure', 'Animation',\n",
    "           'Biography', 'Comedy', 'Crime', 'Documentary', 'Drama', 'Family',\n",
    "           'Fantasy', 'History', 'Horror', 'Music', 'Musical', 'Mystery',\n",
    "           'Romance', 'Sci-Fi', 'Sport', 'Thriller', 'War', 'Western']\n",
    "    data = [0]*len(model_wanted_keys)\n",
    "    \n",
    "    df_model = pd.DataFrame(data=[data],columns= model_wanted_keys)\n",
    "    df_model.update(df)\n",
    "    \n",
    "    with open('RandomForest.pickle', 'rb') as f:\n",
    "        clf2 = pickle.load(f)\n",
    "        #测试读取后的Model\n",
    "    return clf2.predict(df_model)[0]\n",
    "\n",
    "def predict_loss(m):\n",
    "\n",
    "    import pandas as pd\n",
    "    import numpy as np\n",
    "    import re\n",
    "    import xgboost as xgb\n",
    "\n",
    "    \n",
    "    wanted_keys={\"Runtime\",\"budget_in_USD\",\"Production\",\"imdbVotes\",\"IMDBscore\",\"TomatoesScore\",\"Metascore\",\"Theater_num\",\n",
    "                 \"movie_2_before\",\"movie_1_before\",\"movie_0_before\",\"Actor_2_before\",\"Actor_1_before\",\"Actor_0_before\",\n",
    "                 \"Genre\",\"Language\",\"Country\",\"classification\"}\n",
    "    \n",
    "    wanted_dict  = {key : [val] for key ,val in m.items() if key in wanted_keys}\n",
    "    df_company = pd.read_csv(\"company_detail.csv\")\n",
    "    company_dict = {}\n",
    "    for i, s in df_company.iterrows():\n",
    "        company_dict[s[\"company\"]] = s[\"avg\"]\n",
    "    key = list(company_dict.keys())\n",
    "    \n",
    "    regex_pat = re.compile(r\"[^a-zA-Z0-9]+\", flags=re.IGNORECASE)\n",
    "    wanted_dict[\"Production\"][0] = re.sub(regex_pat,'', wanted_dict[\"Production\"][0]).lower()\n",
    "    wanted_dict[\"Production\"] = wanted_dict[\"Production\"][0]\n",
    "    for x in key:\n",
    "        if wanted_dict[\"Production\"].find(x) != -1:\n",
    "           wanted_dict[\"Production\"] = company_dict[wanted_dict[\"Production\"]] \n",
    "           break \n",
    "   # print(\"type\",type(wanted_dict[\"Production\"]),type(wanted_dict[\"Production\"]) == 'str',wanted_dict[\"Production\"])\n",
    "    if type(wanted_dict[\"Production\"]) == str:\n",
    "        wanted_dict[\"Production\"]= 200000\n",
    "    \n",
    "    df = pd.DataFrame.from_dict(wanted_dict)        \n",
    "    cleaned = df.Genre.str.split(',', expand=True).stack()\n",
    "    cleaned = cleaned.apply(lambda x:x.replace(\" \",\"\"))\n",
    "    genre_enc = pd.get_dummies(cleaned, prefix='g').groupby(level=0,sort=False).sum()\n",
    "    \n",
    "    cleaned = df.Language.str.split(',', expand=True).stack()\n",
    "    cleaned = cleaned.apply(lambda x:x.replace(\" \",\"\"))\n",
    "    #drop_lang = (cleaned.value_counts()[cleaned.value_counts()<=5]).index.tolist()\n",
    "    #for l in range(len(cleaned)):\n",
    "    #    if cleaned.iloc[l] in drop_lang:\n",
    "    #        cleaned.iloc[l] = \"Other_language\"\n",
    "    language_enc = pd.get_dummies(cleaned, prefix='L').groupby(level=0,sort=False).sum()\n",
    "    \n",
    "    cleaned = df.Country.str.split(',', expand=True).stack()\n",
    "    cleaned = cleaned.apply(lambda x:x.replace(\" \",\"\"))\n",
    "    country_enc = pd.get_dummies(cleaned, prefix='L').groupby(level=0,sort=False).sum()   \n",
    "        \n",
    "    df[\"Runtime\"] = df[\"Runtime\"].str.replace(\"min\",\"\")\n",
    "    try:\n",
    "        df[\"imdbVotes\"]=df[\"imdbVotes\"].str.replace(\",\",\"\")\n",
    "    except:\n",
    "        pass\n",
    "    for e in df.columns:\n",
    "        if \"movie\" or \"Actor\" in e:\n",
    "            df[e] = df[e].replace(\"error\",\"0\")\n",
    "    cla_enc = pd.get_dummies(df[\"classification\"])\n",
    "    df = df.drop([\"classification\",\"Genre\",\"Language\",\"Country\"],axis=1)\n",
    "    \n",
    "    for i in df.columns:\n",
    "        try:\n",
    "            df[i] =pd.to_numeric(df[i], downcast='float')\n",
    "            #df[\"budget_in_USD\"] = np.log(df[\"budget_in_USD\"])\n",
    "        except:\n",
    "            pass\n",
    "                \n",
    "    \n",
    "    #df[\"Production\"] = np.log(df[\"Production\"])   \n",
    "    df[\"Theater_num\"] = np.log(df[\"Theater_num\"]) \n",
    "    df = pd.concat([df.reset_index(drop=True),genre_enc.reset_index(drop=True),\n",
    "                    country_enc.reset_index(drop=True),language_enc.reset_index(drop=True),\n",
    "                    cla_enc.reset_index(drop=True)\n",
    "                    ],\n",
    "                    axis=1) \n",
    "    \n",
    "    \n",
    "    \n",
    "    feature = ['budget_in_USD','Production','imdbVotes','IMDBscore','TomatoesScore','Metascore','Theater_num',\n",
    " 'movie_2_before','movie_1_before','movie_0_before',\n",
    " 'Actor_2_before','Actor_1_before','Actor_0_before','Runtime','g_Action','g_Adventure','g_Animation','g_Biography',\n",
    " 'g_Comedy','g_Crime','g_Drama','g_Family','g_Fantasy','g_History',\n",
    " 'g_Horror','g_Music','g_Musical','g_Mystery','g_Romance','g_Sci-Fi',\n",
    " 'g_Sport','g_Thriller','g_War','g_Western','L_Algeria','L_Angola','L_Argentina','L_Australia',\n",
    " 'L_Austria','L_Belgium','L_BosniaandHerzegovina','L_Botswana','L_Brazil','L_BritishVirginIslands','L_Bulgaria','L_Cambodia',\n",
    " 'L_Canada','L_CaymanIslands','L_Chile','L_China','L_Colombia',\n",
    " 'L_Croatia','L_Cyprus','L_CzechRepublic','L_Denmark','L_Egypt','L_Estonia','L_Finland','L_France','L_Georgia',\n",
    " 'L_Germany','L_Greece','L_HongKong','L_Hungary','L_Iceland','L_India','L_Indonesia','L_Iran',\n",
    " 'L_Ireland','L_IsleOfMan','L_Israel','L_Italy','L_Japan','L_Jordan','L_Kazakhstan','L_Kenya','L_Lebanon','L_Liechtenstein',\n",
    " 'L_Lithuania','L_Luxembourg','L_Malta','L_Mexico','L_Monaco','L_Mongolia','L_Morocco',\n",
    " 'L_Myanmar','L_Nepal','L_Netherlands','L_NewZealand','L_Nigeria','L_Norway','L_Palestine','L_Panama','L_Paraguay','L_Peru',\n",
    " 'L_Philippines','L_Poland','L_Portugal','L_PuertoRico','L_Qatar','L_Romania','L_Russia','L_SaudiArabia','L_Serbia','L_Singapore','L_Slovakia',\n",
    " 'L_Slovenia','L_SouthAfrica','L_SouthKorea','L_Spain','L_Sweden','L_Switzerland','L_Taiwan','L_Thailand',\n",
    " 'L_Tunisia','L_Turkey','L_UK','L_USA','L_Ukraine','L_UnitedArabEmirates','L_Uruguay','L_Venezuela','L_Vietnam','G','NC-17','NotRated','PG',\n",
    " 'PG-13','R','TV-14','TV-MA','TV-PG','Unrated']\n",
    "    \n",
    "    #feature2 = ['IMDBscore','TV-MA','g_Action','L_Canada','L_HongKong','L_Mexico','L_Jordan','L_India','movie_2_before','L_Chile','L_Peru',\n",
    "    # 'g_Crime','g_Comedy','L_Denmark','L_Venezuela','L_Mongolia','L_Portugal','Actor_1_before','g_Music','L_Iran','L_Cyprus','NotRated',\n",
    "    # 'L_BritishVirginIslands','L_CaymanIslands','L_Iceland','L_Kazakhstan','L_Romania','L_Palestine','TomatoesScore','L_Philippines','L_SaudiArabia',\n",
    "    # 'L_Argentina','budget_in_USD','L_Italy','L_Netherlands','L_Spain','L_UK','g_Drama','L_Malta','Unrated','L_Singapore','L_France',\n",
    "    # 'L_Austria','L_Egypt','L_Kenya','runtime','g_Romance','L_Switzerland','L_SouthAfrica','imdbVotes','L_Lithuania','g_Sport',\n",
    "    # 'movie_0_before','TV-14','L_Slovenia','movie_1_before','L_Nigeria','L_PuertoRico','Actor_2_before','L_Japan','L_Indonesia','g_Fantasy',\n",
    "    # 'L_Israel','NC-17','L_Bulgaria','L_Luxembourg','L_Estonia','L_Algeria','g_Musical','L_IsleOfMan','L_Poland','L_Ireland','Actor_0_before',\n",
    "    # 'g_War','L_Paraguay','L_Cambodia','Metascore','L_Monaco','L_Angola','L_Turkey','L_Georgia','L_Serbia','L_Panama','Production','L_Australia',\n",
    "    # 'L_Colombia','g_Adventure','PG','L_Uruguay','PG-13','g_History','L_Morocco','L_Hungary','L_Myanmar','L_Ukraine','G','TV-PG','g_Horror',\n",
    "    # 'L_Brazil','R','L_Vietnam','L_Lebanon','L_Belgium','g_Sci-Fi','L_Botswana','g_Western','L_Tunisia','L_BosniaandHerzegovina','L_Qatar',\n",
    "    # 'g_Thriller','L_Finland','L_Russia','g_Biography','L_SouthKorea','L_Germany','L_Liechtenstein','L_NewZealand','L_Thailand','g_Animation',\n",
    "    # 'L_Croatia','L_Greece','L_Sweden','L_UnitedArabEmirates','L_CzechRepublic','L_USA','g_Mystery','L_Taiwan','L_Nepal','L_Slovakia',\n",
    "    # 'L_Norway','g_Family','Theater_num','L_China']\n",
    "    \n",
    "    data = [0]*len(feature)\n",
    "    df_model = pd.DataFrame(data=[data],columns=feature)\n",
    "    df_model.update(df)\n",
    "#    feature_list = [\"f\"+str(i) for i in range(len(feature))]\n",
    "#    df_model.columns = feature_list\n",
    "    #for f in feature2:\n",
    "    #    if f not in df.columns.tolist():\n",
    "    #        df_append = pd.DataFrame.from_dict({f:[0]})\n",
    "    #        df=pd.concat([df,df_append],axis=1)\n",
    "    #import joblib\n",
    "    #xgb = joblib.load(\"modeltest\")\n",
    "    import pickle\n",
    "    loaded_model = pickle.load(open(\"loss.pickle.dat\", \"rb\"))\n",
    "    y_pred = loaded_model.predict(df_model)\n",
    "    y_pred = np.exp(y_pred)\n",
    "    return y_pred\n",
    "\n",
    "def predict_gain(m):\n",
    "\n",
    "    import pandas as pd\n",
    "    import numpy as np\n",
    "    import re\n",
    "    import xgboost as xgb\n",
    "\n",
    "    \n",
    "    wanted_keys={\"Runtime\",\"budget_in_USD\",\"Production\",\"imdbVotes\",\"IMDBscore\",\"TomatoesScore\",\"Metascore\",\"Theater_num\",\n",
    "                 \"movie_2_before\",\"movie_1_before\",\"movie_0_before\",\"Actor_2_before\",\"Actor_1_before\",\"Actor_0_before\",\n",
    "                 \"Genre\",\"Language\",\"Country\",\"classification\"}\n",
    "    \n",
    "    wanted_dict  = {key : [val] for key ,val in m.items() if key in wanted_keys}\n",
    "    df_company = pd.read_csv(\"company_detail.csv\")\n",
    "    company_dict = {}\n",
    "    for i, s in df_company.iterrows():\n",
    "        company_dict[s[\"company\"]] = s[\"avg\"]\n",
    "    key = list(company_dict.keys())\n",
    "    \n",
    "    regex_pat = re.compile(r\"[^a-zA-Z0-9]+\", flags=re.IGNORECASE)\n",
    "    wanted_dict[\"Production\"][0] = re.sub(regex_pat,'', wanted_dict[\"Production\"][0]).lower()\n",
    "    wanted_dict[\"Production\"] = wanted_dict[\"Production\"][0]\n",
    "    for x in key:\n",
    "        if wanted_dict[\"Production\"].find(x) != -1:\n",
    "           wanted_dict[\"Production\"] = company_dict[wanted_dict[\"Production\"]] \n",
    "           break \n",
    "    #print(\"type\",type(wanted_dict[\"Production\"]),type(wanted_dict[\"Production\"]) == 'str',wanted_dict[\"Production\"])\n",
    "    if type(wanted_dict[\"Production\"]) == str:\n",
    "        wanted_dict[\"Production\"]= 200000\n",
    "    \n",
    "    df = pd.DataFrame.from_dict(wanted_dict)        \n",
    "    cleaned = df.Genre.str.split(',', expand=True).stack()\n",
    "    cleaned = cleaned.apply(lambda x:x.replace(\" \",\"\"))\n",
    "    genre_enc = pd.get_dummies(cleaned, prefix='g').groupby(level=0,sort=False).sum()\n",
    "    \n",
    "    cleaned = df.Language.str.split(',', expand=True).stack()\n",
    "    cleaned = cleaned.apply(lambda x:x.replace(\" \",\"\"))\n",
    "    #drop_lang = (cleaned.value_counts()[cleaned.value_counts()<=5]).index.tolist()\n",
    "    #for l in range(len(cleaned)):\n",
    "    #    if cleaned.iloc[l] in drop_lang:\n",
    "    #        cleaned.iloc[l] = \"Other_language\"\n",
    "    language_enc = pd.get_dummies(cleaned, prefix='L').groupby(level=0,sort=False).sum()\n",
    "    \n",
    "    cleaned = df.Country.str.split(',', expand=True).stack()\n",
    "    cleaned = cleaned.apply(lambda x:x.replace(\" \",\"\"))\n",
    "    country_enc = pd.get_dummies(cleaned, prefix='L').groupby(level=0,sort=False).sum()   \n",
    "        \n",
    "    df[\"Runtime\"] = df[\"Runtime\"].str.replace(\"min\",\"\")\n",
    "    try:\n",
    "        df[\"imdbVotes\"]=df[\"imdbVotes\"].str.replace(\",\",\"\")\n",
    "    except:\n",
    "        pass\n",
    "    for e in df.columns:\n",
    "        if \"movie\" or \"Actor\" in e:\n",
    "            df[e] = df[e].replace(\"error\",\"0\")\n",
    "    cla_enc = pd.get_dummies(df[\"classification\"])\n",
    "    df = df.drop([\"classification\",\"Genre\",\"Language\",\"Country\"],axis=1)\n",
    "    \n",
    "    for i in df.columns:\n",
    "\n",
    "        try:\n",
    "            df[i] =pd.to_numeric(df[i], downcast='float')\n",
    "            #df[\"budget_in_USD\"] = np.log(df[\"budget_in_USD\"])\n",
    "        except:\n",
    "            pass\n",
    "        \n",
    "    \n",
    "    #df[\"Production\"] = np.log(df[\"Production\"])   \n",
    "    df[\"Theater_num\"] = np.log(df[\"Theater_num\"]) \n",
    "    df = pd.concat([df.reset_index(drop=True),genre_enc.reset_index(drop=True),\n",
    "                    country_enc.reset_index(drop=True),language_enc.reset_index(drop=True),\n",
    "                    cla_enc.reset_index(drop=True)\n",
    "                    ],\n",
    "                    axis=1) \n",
    "    \n",
    "    \n",
    "    \n",
    "    feature = ['budget_in_USD', 'Production', 'imdbVotes', 'IMDBscore',\n",
    "       'TomatoesScore', 'Metascore', 'Theater_num', 'movie_2_before',\n",
    "       'movie_1_before', 'movie_0_before', 'Actor_2_before', 'Actor_1_before',\n",
    "       'Actor_0_before', 'Runtime', 'g_Action', 'g_Adventure', 'g_Animation',\n",
    "       'g_Biography', 'g_Comedy', 'g_Crime', 'g_Drama', 'g_Family',\n",
    "       'g_Fantasy', 'g_History', 'g_Horror', 'g_Music', 'g_Musical',\n",
    "       'g_Mystery', 'g_Romance', 'g_Sci-Fi', 'g_Sport', 'g_Thriller', 'g_War',\n",
    "       'g_Western', 'L_Argentina', 'L_Australia', 'L_Austria', 'L_Bahamas',\n",
    "       'L_Belgium', 'L_Brazil', 'L_Bulgaria', 'L_Cambodia', 'L_Canada',\n",
    "       'L_Chile', 'L_China', 'L_Colombia', 'L_CzechRepublic', 'L_Denmark',\n",
    "       'L_DominicanRepublic', 'L_Finland', 'L_France', 'L_Germany', 'L_Greece',\n",
    "       'L_HongKong', 'L_Hungary', 'L_Iceland', 'L_India', 'L_Indonesia',\n",
    "       'L_Iran', 'L_Ireland', 'L_IsleOfMan', 'L_Israel', 'L_Italy', 'L_Japan',\n",
    "       'L_Kenya', 'L_Luxembourg', 'L_Malaysia', 'L_Malta', 'L_Mexico',\n",
    "       'L_Morocco', 'L_Netherlands', 'L_NewZealand', 'L_Norway',\n",
    "       'L_Philippines', 'L_Poland', 'L_Romania', 'L_Russia', 'L_Serbia',\n",
    "       'L_Singapore', 'L_Slovakia', 'L_SouthAfrica', 'L_SouthKorea', 'L_Spain',\n",
    "       'L_Sweden', 'L_Switzerland', 'L_Taiwan', 'L_Thailand', 'L_Turkey',\n",
    "       'L_UK', 'L_USA', 'L_Ukraine', 'L_UnitedArabEmirates', 'G', 'NotRated',\n",
    "       'PG', 'PG-13', 'R', 'Unrated']\n",
    "    \n",
    "    #feature2 = ['IMDBscore','TV-MA','g_Action','L_Canada','L_HongKong','L_Mexico','L_Jordan','L_India','movie_2_before','L_Chile','L_Peru',\n",
    "    # 'g_Crime','g_Comedy','L_Denmark','L_Venezuela','L_Mongolia','L_Portugal','Actor_1_before','g_Music','L_Iran','L_Cyprus','NotRated',\n",
    "    # 'L_BritishVirginIslands','L_CaymanIslands','L_Iceland','L_Kazakhstan','L_Romania','L_Palestine','TomatoesScore','L_Philippines','L_SaudiArabia',\n",
    "    # 'L_Argentina','budget_in_USD','L_Italy','L_Netherlands','L_Spain','L_UK','g_Drama','L_Malta','Unrated','L_Singapore','L_France',\n",
    "    # 'L_Austria','L_Egypt','L_Kenya','runtime','g_Romance','L_Switzerland','L_SouthAfrica','imdbVotes','L_Lithuania','g_Sport',\n",
    "    # 'movie_0_before','TV-14','L_Slovenia','movie_1_before','L_Nigeria','L_PuertoRico','Actor_2_before','L_Japan','L_Indonesia','g_Fantasy',\n",
    "    # 'L_Israel','NC-17','L_Bulgaria','L_Luxembourg','L_Estonia','L_Algeria','g_Musical','L_IsleOfMan','L_Poland','L_Ireland','Actor_0_before',\n",
    "    # 'g_War','L_Paraguay','L_Cambodia','Metascore','L_Monaco','L_Angola','L_Turkey','L_Georgia','L_Serbia','L_Panama','Production','L_Australia',\n",
    "    # 'L_Colombia','g_Adventure','PG','L_Uruguay','PG-13','g_History','L_Morocco','L_Hungary','L_Myanmar','L_Ukraine','G','TV-PG','g_Horror',\n",
    "    # 'L_Brazil','R','L_Vietnam','L_Lebanon','L_Belgium','g_Sci-Fi','L_Botswana','g_Western','L_Tunisia','L_BosniaandHerzegovina','L_Qatar',\n",
    "    # 'g_Thriller','L_Finland','L_Russia','g_Biography','L_SouthKorea','L_Germany','L_Liechtenstein','L_NewZealand','L_Thailand','g_Animation',\n",
    "    # 'L_Croatia','L_Greece','L_Sweden','L_UnitedArabEmirates','L_CzechRepublic','L_USA','g_Mystery','L_Taiwan','L_Nepal','L_Slovakia',\n",
    "    # 'L_Norway','g_Family','Theater_num','L_China']\n",
    "    \n",
    "    data = [0]*len(feature)\n",
    "    df_model = pd.DataFrame(data=[data],columns=feature)\n",
    "    df_model.update(df)\n",
    "#    feature_list = [\"f\"+str(i) for i in range(len(feature))]\n",
    "#    df_model.columns = feature_list\n",
    "    #for f in feature2:\n",
    "    #    if f not in df.columns.tolist():\n",
    "    #        df_append = pd.DataFrame.from_dict({f:[0]})\n",
    "    #        df=pd.concat([df,df_append],axis=1)\n",
    "    #import joblib\n",
    "    #xgb = joblib.load(\"modeltest\")\n",
    "    import pickle\n",
    "    loaded_model = pickle.load(open(\"gain.pickle.dat\", \"rb\"))\n",
    "    y_pred = loaded_model.predict(df_model)\n",
    "    y_pred = np.exp(y_pred)\n",
    "    return y_pred\n",
    "\n",
    "def run_model(t):#主程式\n",
    "    t = trends_for_line(t)\n",
    "    ans = model_yn(t)\n",
    "    if ans:\n",
    "       return(\"您會賺錢\",predict_gain(t))\n",
    "    else:\n",
    "       return(\"您會虧錢\",predict_loss(t))\n",
    "#if __name__ == \"__main__\":\n",
    "#    a,b=run_model(t)\n",
    "#    print(a, b)\n",
    "#    t={}\n",
    "#    print(model_yn(t))\n",
    "#    if model_yn(t) == 0:\n",
    "#        print(predict_loss(t))\n",
    "#    else:\n",
    "#        print(predict_gain(t))"
   ]
  },
  {
   "cell_type": "code",
   "execution_count": 68,
   "metadata": {},
   "outputs": [],
   "source": [
    "\"\"\"\n",
    "\n",
    "啟用伺服器基本樣板\n",
    "\n",
    "\"\"\"\n",
    "\n",
    "# 引用Web Server套件\n",
    "from flask import Flask, request, abort\n",
    "\n",
    "# 從linebot 套件包裡引用 LineBotApi 與 WebhookHandler 類別\n",
    "from linebot import (\n",
    "    LineBotApi, WebhookHandler\n",
    ")\n",
    "\n",
    "# 引用無效簽章錯誤\n",
    "from linebot.exceptions import (\n",
    "    InvalidSignatureError\n",
    ")\n",
    "\n",
    "# 載入json處理套件\n",
    "import json\n",
    "\n",
    "# 載入基礎設定檔\n",
    "secretFileContentJson=json.load(open(\"../line_secret_key\",'r'))\n",
    "server_url=secretFileContentJson.get(\"server_url\")\n",
    "\n",
    "# 設定Server啟用細節\n",
    "app = Flask(__name__,static_url_path = \"/images\" , static_folder = \"../images/\")\n",
    "\n",
    "# 生成實體物件\n",
    "line_bot_api = LineBotApi(secretFileContentJson.get(\"channel_access_token\"))\n",
    "handler = WebhookHandler(secretFileContentJson.get(\"secret_key\"))\n",
    "\n",
    "# 啟動server對外接口，使Line能丟消息進來\n",
    "@app.route(\"/\", methods=['POST'])\n",
    "def callback():\n",
    "    # get X-Line-Signature header value\n",
    "    signature = request.headers['X-Line-Signature']\n",
    "\n",
    "    # get request body as text\n",
    "    body = request.get_data(as_text=True)\n",
    "    app.logger.info(\"Request body: \" + body)\n",
    "\n",
    "    # handle webhook body\n",
    "    try:\n",
    "        handler.handle(body, signature)\n",
    "    except InvalidSignatureError:\n",
    "        abort(400)\n",
    "\n",
    "    return 'OK'"
   ]
  },
  {
   "cell_type": "code",
   "execution_count": 69,
   "metadata": {},
   "outputs": [
    {
     "data": {
      "text/plain": [
       "'\\n\\n\\n當用戶關注Line@後，Line會發一個FollowEvent，\\n\\n我們接受到之後，取得用戶個資，對用戶綁定自定義菜單，會回傳文字消息給用戶\\n\\n\\n'"
      ]
     },
     "execution_count": 69,
     "metadata": {},
     "output_type": "execute_result"
    }
   ],
   "source": [
    "\"\"\"\n",
    "\n",
    "\n",
    "當用戶關注Line@後，Line會發一個FollowEvent，\n",
    "\n",
    "我們接受到之後，取得用戶個資，對用戶綁定自定義菜單，會回傳文字消息給用戶\n",
    "\n",
    "\n",
    "\"\"\""
   ]
  },
  {
   "cell_type": "code",
   "execution_count": 70,
   "metadata": {},
   "outputs": [],
   "source": [
    "# 消息清單，加入聊天機器人\n",
    "reply_message_list=[\n",
    "TextSendMessage(text=\"您好，我們是專業推薦電影的平台\"),\n",
    "TextSendMessage(text=\"我們平台分為兩個部分，可以為你不知道想要看什麼電影時，會根據你在平台填寫的興趣去為你推薦電影\\n 如果您是廠商，我們可以根據變數可以為你分析出您的電影票房\")\n",
    "]"
   ]
  },
  {
   "cell_type": "code",
   "execution_count": 71,
   "metadata": {},
   "outputs": [],
   "source": [
    "'''\n",
    "\n",
    "撰寫用戶關注時，我們要處理的商業邏輯\n",
    "\n",
    "1. 取得用戶個資，並存回伺服器\n",
    "2. 把先前製作好的自定義菜單，與用戶做綁定\n",
    "3. 回應用戶，歡迎用的文字消息與圖片消息\n",
    "\n",
    "'''\n",
    "\n",
    "\n",
    "# 載入Follow事件\n",
    "from linebot.models.events import (\n",
    "    FollowEvent\n",
    ")\n",
    "\n",
    "# 載入requests套件\n",
    "import requests\n",
    "\n",
    "\n",
    "# 告知handler，如果收到FollowEvent，則做下面的方法處理\n",
    "@handler.add(FollowEvent)\n",
    "def reply_text_and_get_user_profile(event):\n",
    "    # 取出消息內User的資料\n",
    "    user_profile = line_bot_api.get_profile(event.source.user_id)\n",
    "        \n",
    "     # 將用戶資訊存在檔案內\n",
    "    with open(\"../users.txt\", \"a\") as myfile:\n",
    "        myfile.write(json.dumps(vars(user_profile),sort_keys=True))\n",
    "        myfile.write('\\r\\n')\n",
    "        \n",
    "        \n",
    "    # 將菜單綁定在用戶身上\n",
    "    linkRichMenuId=secretFileContentJson.get(\"rich_menu_id\")\n",
    "    linkMenuEndpoint='https://api.line.me/v2/bot/user/%s/richmenu/%s' % (event.source.user_id, linkRichMenuId)\n",
    "    linkMenuRequestHeader={'Content-Type':'image/jpeg','Authorization':'Bearer %s' % secretFileContentJson[\"channel_access_token\"]}\n",
    "    lineLinkMenuResponse=requests.post(linkMenuEndpoint,headers=linkMenuRequestHeader)\n",
    "    \n",
    "    # 回覆文字消息與圖片消息\n",
    "    line_bot_api.reply_message(\n",
    "        event.reply_token,\n",
    "        reply_message_list\n",
    "    )"
   ]
  },
  {
   "cell_type": "code",
   "execution_count": 72,
   "metadata": {},
   "outputs": [],
   "source": [
    "'''\n",
    "\n",
    "製作文字與圖片的教學訊息\n",
    "\n",
    "'''\n",
    "# 將消息模型，文字收取消息與文字寄發消息 引入\n",
    "from linebot.models import (\n",
    "    MessageEvent, TextMessage, TextSendMessage, ImageSendMessage\n",
    ")\n",
    "\n",
    "#引入所需要的消息與模板消息\n",
    "from linebot.models import (\n",
    "    MessageEvent, TemplateSendMessage , PostbackEvent\n",
    ")\n",
    "\n",
    "#引入按鍵模板\n",
    "from linebot.models import (\n",
    "    MessageEvent, TextMessage, TextSendMessage,\n",
    "    SourceUser, SourceGroup, SourceRoom,\n",
    "    TemplateSendMessage, ConfirmTemplate, MessageAction,\n",
    "    ButtonsTemplate, ImageCarouselTemplate, ImageCarouselColumn, URIAction,\n",
    "    PostbackAction, DatetimePickerAction,\n",
    "    CameraAction, CameraRollAction, LocationAction,\n",
    "    CarouselTemplate, CarouselColumn, PostbackEvent,\n",
    "    StickerMessage, StickerSendMessage, LocationMessage, LocationSendMessage,\n",
    "    ImageMessage, VideoMessage, AudioMessage, FileMessage,\n",
    "    UnfollowEvent, FollowEvent, JoinEvent, LeaveEvent, BeaconEvent,\n",
    "    FlexSendMessage, BubbleContainer, ImageComponent, BoxComponent,\n",
    "    TextComponent, SpacerComponent, IconComponent, ButtonComponent,\n",
    "    SeparatorComponent, QuickReply, QuickReplyButton\n",
    ")"
   ]
  },
  {
   "cell_type": "code",
   "execution_count": 73,
   "metadata": {},
   "outputs": [],
   "source": [
    "# 表單填選完成改變圖文選單  至  院線片非院線片\n",
    "def Confirm_from(event):\n",
    "    text = event.postback.data\n",
    "    #選擇進入後，進行richmenu的轉換，並且傳送第一個問題\n",
    "    if text == \"::確認填選表單\":\n",
    "        # 取出用戶id，設定Line的遠端位置\n",
    "        userMenuEndpoint='https://api.line.me/v2/bot/user/%s/richmenu' % (event.source.user_id)\n",
    "        # 設定消息的基本安全憑證\n",
    "        userMenuRequestHeader={'Authorization':'Bearer %s' % secretFileContentJson[\"channel_access_token\"]}\n",
    "        # 發送消息告知已經解除\n",
    "        lineUnregisterUserMenuResponse=requests.delete(userMenuEndpoint,headers=userMenuRequestHeader)\n",
    "        # 取得菜單id\n",
    "        linkRichMenuId3=secretFileContentJson.get(\"rich_menu_id10\")\n",
    "        # 將菜單id與用戶id組合成遠端位置\n",
    "        linkMenuEndpoint3='https://api.line.me/v2/bot/user/%s/richmenu/%s' % (event.source.user_id, linkRichMenuId3)\n",
    "        # 設定消息基本安全憑證\n",
    "        linkMenuRequestHeader3={'Content-Type':'image/jpeg','Authorization':'Bearer %s' % secretFileContentJson[\"channel_access_token\"]}\n",
    "        # 發送消息\n",
    "        lineLinkMenuResponse3=requests.post(linkMenuEndpoint3,headers=linkMenuRequestHeader3)\n",
    "        \n",
    "        reply_text = \"以下功能選單提供院線及非院線電影推薦\"\n",
    "        message_first_predict_list = [TextSendMessage(reply_text)]\n",
    "        line_bot_api.reply_message(\n",
    "        event.reply_token,\n",
    "        message_first_predict_list)"
   ]
  },
  {
   "cell_type": "code",
   "execution_count": 74,
   "metadata": {},
   "outputs": [],
   "source": [
    "# 按下想看電影 改致 確認或者回首頁\n",
    "def back_first(event):\n",
    "    text = event.postback.data\n",
    "    #選擇進入後，進行richmenu的轉換，並且傳送第一個問題\n",
    "    if text == \"::回首頁\":\n",
    "        # 取出用戶id，設定Line的遠端位置\n",
    "        userMenuEndpoint='https://api.line.me/v2/bot/user/%s/richmenu' % (event.source.user_id)\n",
    "        # 設定消息的基本安全憑證\n",
    "        userMenuRequestHeader={'Authorization':'Bearer %s' % secretFileContentJson[\"channel_access_token\"]}\n",
    "        # 發送消息告知已經解除\n",
    "        lineUnregisterUserMenuResponse=requests.delete(userMenuEndpoint,headers=userMenuRequestHeader)\n",
    "        # 取得菜單id\n",
    "        linkRichMenuId=secretFileContentJson.get(\"rich_menu_id\")\n",
    "        # 將菜單id與用戶id組合成遠端位置\n",
    "        linkMenuEndpoint='https://api.line.me/v2/bot/user/%s/richmenu/%s' % (event.source.user_id, linkRichMenuId)\n",
    "        # 設定消息基本安全憑證\n",
    "        linkMenuRequestHeader={'Content-Type':'image/jpeg','Authorization':'Bearer %s' % secretFileContentJson[\"channel_access_token\"]}\n",
    "        # 發送消息\n",
    "        lineLinkMenuResponse=requests.post(linkMenuEndpoint,headers=linkMenuRequestHeader)\n",
    "        \n",
    "        # 回覆文字消息與圖片消息\n",
    "#         line_bot_api.reply_message(\n",
    "#             event.reply_token,\n",
    "#             reply_message_list\n",
    "#         )"
   ]
  },
  {
   "cell_type": "code",
   "execution_count": 75,
   "metadata": {},
   "outputs": [],
   "source": [
    "# 按下想看電影 改致 確認或者回首頁\n",
    "def Menu1_from(event):\n",
    "    text = event.postback.data\n",
    "    #選擇進入後，進行richmenu的轉換，並且傳送第一個問題\n",
    "    if text == \"::text:: 我想看電影\":\n",
    "        # 取出用戶id，設定Line的遠端位置\n",
    "        userMenuEndpoint='https://api.line.me/v2/bot/user/%s/richmenu' % (event.source.user_id)\n",
    "        # 設定消息的基本安全憑證\n",
    "        userMenuRequestHeader={'Authorization':'Bearer %s' % secretFileContentJson[\"channel_access_token\"]}\n",
    "        # 發送消息告知已經解除\n",
    "        lineUnregisterUserMenuResponse=requests.delete(userMenuEndpoint,headers=userMenuRequestHeader)\n",
    "        # 取得菜單id\n",
    "        linkRichMenuId4=secretFileContentJson.get(\"rich_menu_id11\")\n",
    "        # 將菜單id與用戶id組合成遠端位置\n",
    "        linkMenuEndpoint4='https://api.line.me/v2/bot/user/%s/richmenu/%s' % (event.source.user_id, linkRichMenuId4)\n",
    "        # 設定消息基本安全憑證\n",
    "        linkMenuRequestHeader4={'Content-Type':'image/jpeg','Authorization':'Bearer %s' % secretFileContentJson[\"channel_access_token\"]}\n",
    "        # 發送消息\n",
    "        lineLinkMenuResponse4=requests.post(linkMenuEndpoint4,headers=linkMenuRequestHeader4)"
   ]
  },
  {
   "cell_type": "code",
   "execution_count": 76,
   "metadata": {},
   "outputs": [],
   "source": [
    "'''\n",
    "\n",
    "當用戶發出文字消息時，判斷文字內容是否包含[::text:]，\n",
    "    若有，則從template_message_dict 內找出相關訊息\n",
    "    若無，則回傳預設訊息。\n",
    "\n",
    "'''\n",
    "\n",
    "# 用戶發出文字消息時， 按條件內容, 回傳文字消息\n",
    "@handler.add(MessageEvent, message=TextMessage)\n",
    "def handle_message(event):\n",
    "    print(event)\n",
    "\n",
    "    if(event.message.text.find('::text::')!= -1):    \n",
    "        predict_text(event)\n",
    "        \n",
    "    if(event.message.text.find('::q')!= -1):    \n",
    "        predict_text(event)    \n"
   ]
  },
  {
   "cell_type": "code",
   "execution_count": 77,
   "metadata": {},
   "outputs": [],
   "source": [
    "#用戶點擊後，觸發postback event，對其回傳做相對應處理\n",
    "@handler.add(PostbackEvent)\n",
    "def handle_post_message(event):\n",
    "\n",
    "    d1 = event.postback.data\n",
    "    d3 = d1[0:5]\n",
    "    d4 = d1[8:9]\n",
    "    print(d3)\n",
    "    print(d4)\n",
    "    if d3 == \"{\\'tag\":\n",
    "        d2 = eval(d1) #將字串轉成字典\n",
    "        global postback_from\n",
    "        postback_from.update(d2)\n",
    "        print(postback_from) \n",
    "        \n",
    "    #text1 = event.postback.data\n",
    "    #我要非院線片\n",
    "    if(event.postback.data.find('::text:: 我要非院線片')!= -1): #text1 == \"::text:: 我要非院線片\":\n",
    "        tag_home_final1 = home_movie_tag()\n",
    "        home_movie = home_movie_1(tag_home_final)\n",
    "        template_message_dict_1 = {\"::text:: 我要非院線片\":home_movie}\n",
    "        line_bot_api.reply_message(\n",
    "        event.reply_token,\n",
    "        template_message_dict_1.get(event.postback.data))\n",
    "    \n",
    "    #我要院線片\n",
    "    if(event.postback.data.find('::text:: 我要院線片')!= -1):\n",
    "        online_movie_tag1 = online_movie_tag()\n",
    "        online_movie = online_movie_1(tag_online_final)\n",
    "        template_message_dict_3 = {\"::text:: 我要院線片\":online_movie}\n",
    "        line_bot_api.reply_message(\n",
    "        event.reply_token,\n",
    "        template_message_dict_3.get(event.postback.data))    \n",
    "    \n",
    "    #確認填選表單\n",
    "    if(event.postback.data.find('::確認填選表單')!= -1):\n",
    "        Confirm_from(event)    \n",
    "        \n",
    "    #text2 = event.postback.data    \n",
    "    #我想看電影\n",
    "    if(event.postback.data.find('::text:: 我想看電影')!= -1): #text2 == \"::text:: 我想看電影\":\n",
    "        firts_from1 = first_from()\n",
    "        Carousel_template1 = carousel()\n",
    "        Menu1_from(event)    \n",
    "        template_message_dict_2 = {\"::text:: 我想看電影\":Carousel_template1}\n",
    "        reply_text = \"以上有9部電影，提供很喜歡,喜歡,沒感覺做點選，以此喜好作為基準做推薦，(以上電影不須全部點選)\"\n",
    "        message_first_predict_list = [template_message_dict_2.get(event.postback.data),TextSendMessage(reply_text)]\n",
    "        line_bot_api.reply_message(\n",
    "        event.reply_token,\n",
    "        message_first_predict_list)\n",
    "        #template_message_dict_2.get(event.postback.data))   \n",
    "    \n",
    "    #回首頁\n",
    "    if(event.postback.data.find('::回首頁')!= -1):\n",
    "        #回首頁先還原tag為0\n",
    "        postback_from = {'tag0':0,'tag1':0,'tag2':0,'tag3':0,'tag4':0,'tag5':0,'tag6':0,'tag7':0,'tag8':0}\n",
    "        back_first(event)\n",
    "        \n",
    "        \n",
    "    # 非院線片演員\n",
    "    if(event.postback.data.find('{\\'tagActors_home\\':')!= -1):\n",
    "        #tag_home_final = home_movie_tag()\n",
    "        data_1 = event.postback.data\n",
    "        data_1 = data_1.replace(\"{\\'tagActors_home\\':\",\"\").replace(\"}\",\"\")\n",
    "        data_1 = int(data_1)\n",
    "        line_bot_api.reply_message(\n",
    "        event.reply_token,    \n",
    "        TextSendMessage(tag_home_final[data_1]['_id']['m2_Actors']))\n",
    "    # 非院線片劇情介紹\n",
    "    if(event.postback.data.find('{\\'tagPlot_short_home\\':')!= -1):\n",
    "        #tag_home_final = home_movie_tag()\n",
    "        data_1 = event.postback.data\n",
    "        data_1 = data_1.replace(\"{\\'tagPlot_short_home\\':\",\"\").replace(\"}\",\"\")\n",
    "        data_1 = int(data_1)\n",
    "        line_bot_api.reply_message(\n",
    "        event.reply_token,    \n",
    "        TextSendMessage(tag_home_final[data_1]['_id']['m2_Plot_short']))\n",
    "       \n",
    "       \n",
    "    # 院線片演員\n",
    "#     if(event.postback.data.find('{\\'tagActors_online\\':')!= -1):\n",
    "#         #tag_home_final = home_movie_tag()\n",
    "#         data_1 = event.postback.data\n",
    "#         data_1 = data_1.replace(\"{\\'tagActors_online\\':\",\"\").replace(\"}\",\"\")\n",
    "#         data_1 = int(data_1)\n",
    "#         line_bot_api.reply_message(\n",
    "#         event.reply_token,    \n",
    "#         TextSendMessage(tag_online_final[data_1]['Actors']))\n",
    "    # 院線片劇情介紹\n",
    "    if(event.postback.data.find('{\\'tagPlot_short_online\\':')!= -1):\n",
    "        #tag_home_final = home_movie_tag()\n",
    "        data_1 = event.postback.data\n",
    "        data_1 = data_1.replace(\"{\\'tagPlot_short_online\\':\",\"\").replace(\"}\",\"\")\n",
    "        data_1 = int(data_1)\n",
    "        line_bot_api.reply_message(\n",
    "        event.reply_token,    \n",
    "        TextSendMessage(tag_online_final[data_1]['chinese_info']))   \n",
    "    \n",
    "    \n",
    "    \n",
    "    \n",
    "#     user_profile = line_bot_api.get_profile(event.source.user_id)\n",
    "#     if (event.postback.data.find('Data1')== 0):\n",
    "#         with open(\"../user_profile_business.txt\", \"a\") as myfile:\n",
    "#             myfile.write(json.dumps(vars(user_profile),sort_keys=True))\n",
    "#             myfile.write('\\r\\n')\n",
    "#             line_bot_api.reply_message(\n",
    "#             event.reply_token,\n",
    "#                 TextMessage(\n",
    "#                     text='請稍待，會有專人與您聯繫'\n",
    "#                 )\n",
    "#             )\n",
    "#     elif (event.postback.data.find('Data2') == 0):\n",
    "#         with open(\"../user_profile_tutorial.txt\", \"a\") as myfile:\n",
    "#             myfile.write(json.dumps(vars(user_profile),sort_keys=True))\n",
    "#             myfile.write('\\r\\n')\n",
    "#             line_bot_api.reply_message(\n",
    "#             event.reply_token,\n",
    "#                 TextMessage(\n",
    "#                     text='請稍待，我們會派專家與您聯繫'\n",
    "#                 )\n",
    "#             )\n",
    "#     else:\n",
    "#         pass"
   ]
  },
  {
   "cell_type": "code",
   "execution_count": 78,
   "metadata": {},
   "outputs": [
    {
     "name": "stderr",
     "output_type": "stream",
     "text": [
      " * Running on http://0.0.0.0:5000/ (Press CTRL+C to quit)\n",
      "172.17.0.3 - - [26/Jul/2019 11:24:28] \"POST / HTTP/1.1\" 200 -\n",
      "172.17.0.3 - - [26/Jul/2019 11:24:29] \"POST / HTTP/1.1\" 200 -\n",
      "172.17.0.3 - - [26/Jul/2019 11:28:40] \"POST / HTTP/1.1\" 200 -\n"
     ]
    },
    {
     "name": "stdout",
     "output_type": "stream",
     "text": [
      "我要精準預\n",
      "\n",
      "{\"message\": {\"id\": \"10278795271556\", \"text\": \"::text:: \\u6211\\u8981\\u7cbe\\u6e96\\u9810\\u6e2c\", \"type\": \"text\"}, \"replyToken\": \"f95c94073581475892c01b3268f5cd32\", \"source\": {\"type\": \"user\", \"userId\": \"U6f2dfaaac958fb9dcc653bfe6cfcc40b\"}, \"timestamp\": 1564111714588, \"type\": \"message\"}\n"
     ]
    },
    {
     "name": "stderr",
     "output_type": "stream",
     "text": [
      "172.17.0.3 - - [26/Jul/2019 11:28:41] \"POST / HTTP/1.1\" 200 -\n",
      "172.17.0.3 - - [26/Jul/2019 11:28:55] \"POST / HTTP/1.1\" 200 -\n"
     ]
    },
    {
     "name": "stdout",
     "output_type": "stream",
     "text": [
      "{\"message\": {\"id\": \"10278796545086\", \"text\": \"::q1::herry\", \"type\": \"text\"}, \"replyToken\": \"aa2d256539d347a39de06e6aa8a2293e\", \"source\": {\"type\": \"user\", \"userId\": \"U6f2dfaaac958fb9dcc653bfe6cfcc40b\"}, \"timestamp\": 1564111730194, \"type\": \"message\"}\n"
     ]
    },
    {
     "name": "stderr",
     "output_type": "stream",
     "text": [
      "172.17.0.3 - - [26/Jul/2019 11:29:03] \"POST / HTTP/1.1\" 200 -\n"
     ]
    },
    {
     "name": "stdout",
     "output_type": "stream",
     "text": [
      "{\"message\": {\"id\": \"10278797164669\", \"text\": \"::q2::150min\", \"type\": \"text\"}, \"replyToken\": \"18652840597e4f2d8b202328b25fb9cc\", \"source\": {\"type\": \"user\", \"userId\": \"U6f2dfaaac958fb9dcc653bfe6cfcc40b\"}, \"timestamp\": 1564111737889, \"type\": \"message\"}\n"
     ]
    },
    {
     "name": "stderr",
     "output_type": "stream",
     "text": [
      "172.17.0.3 - - [26/Jul/2019 11:29:06] \"POST / HTTP/1.1\" 200 -\n"
     ]
    },
    {
     "name": "stdout",
     "output_type": "stream",
     "text": [
      "{\"message\": {\"id\": \"10278797445276\", \"text\": \"::q3::1200000\", \"type\": \"text\"}, \"replyToken\": \"1618f760d33344e5b63bd4b009299b60\", \"source\": {\"type\": \"user\", \"userId\": \"U6f2dfaaac958fb9dcc653bfe6cfcc40b\"}, \"timestamp\": 1564111741210, \"type\": \"message\"}\n"
     ]
    },
    {
     "name": "stderr",
     "output_type": "stream",
     "text": [
      "172.17.0.3 - - [26/Jul/2019 11:29:10] \"POST / HTTP/1.1\" 200 -\n"
     ]
    },
    {
     "name": "stdout",
     "output_type": "stream",
     "text": [
      "{\"message\": {\"id\": \"10278797709435\", \"text\": \"::q4::Universal\", \"type\": \"text\"}, \"replyToken\": \"a09d31141c614dc6a68c1fffc03435ed\", \"source\": {\"type\": \"user\", \"userId\": \"U6f2dfaaac958fb9dcc653bfe6cfcc40b\"}, \"timestamp\": 1564111744488, \"type\": \"message\"}\n"
     ]
    },
    {
     "name": "stderr",
     "output_type": "stream",
     "text": [
      "172.17.0.3 - - [26/Jul/2019 11:29:15] \"POST / HTTP/1.1\" 200 -\n"
     ]
    },
    {
     "name": "stdout",
     "output_type": "stream",
     "text": [
      "{\"message\": {\"id\": \"10278798126290\", \"text\": \"::q5::95\", \"type\": \"text\"}, \"replyToken\": \"499ec702431443c480ea634e73e1f18b\", \"source\": {\"type\": \"user\", \"userId\": \"U6f2dfaaac958fb9dcc653bfe6cfcc40b\"}, \"timestamp\": 1564111749437, \"type\": \"message\"}\n",
      "{\"message\": {\"id\": \"10278798378984\", \"text\": \"::q6::8\", \"type\": \"text\"}, \"replyToken\": \"6a2312ba5a774580970304cafc4995da\", \"source\": {\"type\": \"user\", \"userId\": \"U6f2dfaaac958fb9dcc653bfe6cfcc40b\"}, \"timestamp\": 1564111752661, \"type\": \"message\"}\n"
     ]
    },
    {
     "name": "stderr",
     "output_type": "stream",
     "text": [
      "172.17.0.3 - - [26/Jul/2019 11:29:18] \"POST / HTTP/1.1\" 200 -\n",
      "172.17.0.3 - - [26/Jul/2019 11:29:21] \"POST / HTTP/1.1\" 200 -\n"
     ]
    },
    {
     "name": "stdout",
     "output_type": "stream",
     "text": [
      "{\"message\": {\"id\": \"10278798653823\", \"text\": \"::q7::9\", \"type\": \"text\"}, \"replyToken\": \"e94cc140cfeb468b9ca7c153bfd1f15a\", \"source\": {\"type\": \"user\", \"userId\": \"U6f2dfaaac958fb9dcc653bfe6cfcc40b\"}, \"timestamp\": 1564111756030, \"type\": \"message\"}\n",
      "{\"message\": {\"id\": \"10278798909959\", \"text\": \"::q8::2000\", \"type\": \"text\"}, \"replyToken\": \"8eecdf95dc934add87dcfdc1187c0aa0\", \"source\": {\"type\": \"user\", \"userId\": \"U6f2dfaaac958fb9dcc653bfe6cfcc40b\"}, \"timestamp\": 1564111759027, \"type\": \"message\"}\n"
     ]
    },
    {
     "name": "stderr",
     "output_type": "stream",
     "text": [
      "172.17.0.3 - - [26/Jul/2019 11:29:24] \"POST / HTTP/1.1\" 200 -\n",
      "172.17.0.3 - - [26/Jul/2019 11:29:27] \"POST / HTTP/1.1\" 200 -\n"
     ]
    },
    {
     "name": "stdout",
     "output_type": "stream",
     "text": [
      "{\"message\": {\"id\": \"10278799156585\", \"text\": \"::q9::Action\", \"type\": \"text\"}, \"replyToken\": \"f4bfad688f744335a1373773b062f2c2\", \"source\": {\"type\": \"user\", \"userId\": \"U6f2dfaaac958fb9dcc653bfe6cfcc40b\"}, \"timestamp\": 1564111762027, \"type\": \"message\"}\n"
     ]
    },
    {
     "name": "stderr",
     "output_type": "stream",
     "text": [
      "172.17.0.3 - - [26/Jul/2019 11:29:30] \"POST / HTTP/1.1\" 200 -\n"
     ]
    },
    {
     "name": "stdout",
     "output_type": "stream",
     "text": [
      "{\"message\": {\"id\": \"10278799401528\", \"text\": \"::q10::English\", \"type\": \"text\"}, \"replyToken\": \"97f7d41b764b4cf6b078ba63b25ebcbf\", \"source\": {\"type\": \"user\", \"userId\": \"U6f2dfaaac958fb9dcc653bfe6cfcc40b\"}, \"timestamp\": 1564111765096, \"type\": \"message\"}\n"
     ]
    },
    {
     "name": "stderr",
     "output_type": "stream",
     "text": [
      "172.17.0.3 - - [26/Jul/2019 11:29:34] \"POST / HTTP/1.1\" 200 -\n"
     ]
    },
    {
     "name": "stdout",
     "output_type": "stream",
     "text": [
      "{\"message\": {\"id\": \"10278799692105\", \"text\": \"::q11::USA\", \"type\": \"text\"}, \"replyToken\": \"3f9856e90cdc4946995182a6d2c76f2a\", \"source\": {\"type\": \"user\", \"userId\": \"U6f2dfaaac958fb9dcc653bfe6cfcc40b\"}, \"timestamp\": 1564111768603, \"type\": \"message\"}\n"
     ]
    },
    {
     "name": "stderr",
     "output_type": "stream",
     "text": [
      "172.17.0.3 - - [26/Jul/2019 11:29:37] \"POST / HTTP/1.1\" 200 -\n"
     ]
    },
    {
     "name": "stdout",
     "output_type": "stream",
     "text": [
      "{\"message\": {\"id\": \"10278799948729\", \"text\": \"::q12::R\", \"type\": \"text\"}, \"replyToken\": \"6b2d6b683e604625838b72b09cba8fe4\", \"source\": {\"type\": \"user\", \"userId\": \"U6f2dfaaac958fb9dcc653bfe6cfcc40b\"}, \"timestamp\": 1564111771753, \"type\": \"message\"}\n"
     ]
    },
    {
     "name": "stderr",
     "output_type": "stream",
     "text": [
      "172.17.0.3 - - [26/Jul/2019 11:29:40] \"POST / HTTP/1.1\" 200 -\n"
     ]
    },
    {
     "name": "stdout",
     "output_type": "stream",
     "text": [
      "{\"message\": {\"id\": \"10278800204275\", \"text\": \"::q13::5\", \"type\": \"text\"}, \"replyToken\": \"fbe14d507c8c41f085fcaa48cf75f6ab\", \"source\": {\"type\": \"user\", \"userId\": \"U6f2dfaaac958fb9dcc653bfe6cfcc40b\"}, \"timestamp\": 1564111774844, \"type\": \"message\"}\n",
      "{\"message\": {\"id\": \"10278800426635\", \"text\": \"::q14::27 Jul 2019\", \"type\": \"text\"}, \"replyToken\": \"8c47563e102242a9a3441e26e4690994\", \"source\": {\"type\": \"user\", \"userId\": \"U6f2dfaaac958fb9dcc653bfe6cfcc40b\"}, \"timestamp\": 1564111777650, \"type\": \"message\"}\n"
     ]
    },
    {
     "name": "stderr",
     "output_type": "stream",
     "text": [
      "172.17.0.3 - - [26/Jul/2019 11:29:43] \"POST / HTTP/1.1\" 200 -\n"
     ]
    },
    {
     "name": "stdout",
     "output_type": "stream",
     "text": [
      "{\"message\": {\"id\": \"10278801154022\", \"text\": \"::q15::Robert Downey Jr\", \"type\": \"text\"}, \"replyToken\": \"a3c62466944d4b94b52f32a831b3448b\", \"source\": {\"type\": \"user\", \"userId\": \"U6f2dfaaac958fb9dcc653bfe6cfcc40b\"}, \"timestamp\": 1564111786451, \"type\": \"message\"}\n",
      "{'movie_name': 'herry', 'Runtime': '150min', 'budget_in_USD': '1200000', 'Production': 'Universal', 'imdbVotes': '95', 'IMDBscore': 0.8, 'TomatoesScore': 0.9, 'Theater_num': '2000', 'Genre': 'Action', 'Language': 'English', 'Country': 'USA', 'classification': 'R', 'Metascore': 0.5, 'Released': '27 Jul 2019', 'actor': 'Robert Downey Jr'}\n"
     ]
    },
    {
     "name": "stderr",
     "output_type": "stream",
     "text": [
      "172.17.0.3 - - [26/Jul/2019 11:29:52] \"POST / HTTP/1.1\" 200 -\n"
     ]
    },
    {
     "name": "stdout",
     "output_type": "stream",
     "text": [
      "{\"message\": {\"id\": \"10278802157855\", \"text\": \"::text::\\u662f\\u7684\\u6c92\\u932f\", \"type\": \"text\"}, \"replyToken\": \"20375eee107449cf9be432143b3bcfbc\", \"source\": {\"type\": \"user\", \"userId\": \"U6f2dfaaac958fb9dcc653bfe6cfcc40b\"}, \"timestamp\": 1564111798742, \"type\": \"message\"}\n",
      "{'movie_name': 'herry', 'Runtime': '150min', 'budget_in_USD': '1200000', 'Production': 'Universal', 'imdbVotes': '95', 'IMDBscore': 0.8, 'TomatoesScore': 0.9, 'Theater_num': '2000', 'Genre': 'Action', 'Language': 'English', 'Country': 'USA', 'classification': 'R', 'Metascore': 0.5, 'Released': '27 Jul 2019', 'actor': 'Robert Downey Jr'}\n"
     ]
    },
    {
     "name": "stderr",
     "output_type": "stream",
     "text": [
      "/opt/conda/lib/python3.7/site-packages/sklearn/base.py:306: UserWarning: Trying to unpickle estimator DecisionTreeClassifier from version 0.20.3 when using version 0.21.2. This might lead to breaking code or invalid results. Use at your own risk.\n",
      "  UserWarning)\n",
      "/opt/conda/lib/python3.7/site-packages/sklearn/base.py:306: UserWarning: Trying to unpickle estimator RandomForestClassifier from version 0.20.3 when using version 0.21.2. This might lead to breaking code or invalid results. Use at your own risk.\n",
      "  UserWarning)\n",
      "172.17.0.3 - - [26/Jul/2019 11:30:28] \"POST / HTTP/1.1\" 200 -\n"
     ]
    },
    {
     "name": "stdout",
     "output_type": "stream",
     "text": [
      "[11:30:28] WARNING: /workspace/src/objective/regression_obj.cu:152: reg:linear is now deprecated in favor of reg:squarederror.\n",
      "<class 'str'> <class 'numpy.ndarray'>\n",
      "::tex\n",
      " \n"
     ]
    },
    {
     "name": "stderr",
     "output_type": "stream",
     "text": [
      "/opt/conda/lib/python3.7/site-packages/ipykernel_launcher.py:30: DeprecationWarning: count is deprecated. Use estimated_document_count or count_documents instead. Please note that $where must be replaced by $expr, $near must be replaced by $geoWithin with $center, and $nearSphere must be replaced by $geoWithin with $centerSphere\n",
      "/opt/conda/lib/python3.7/site-packages/ipykernel_launcher.py:31: DeprecationWarning: count is deprecated. Use estimated_document_count or count_documents instead. Please note that $where must be replaced by $expr, $near must be replaced by $geoWithin with $center, and $nearSphere must be replaced by $geoWithin with $centerSphere\n",
      "/opt/conda/lib/python3.7/site-packages/ipykernel_launcher.py:32: DeprecationWarning: count is deprecated. Use estimated_document_count or count_documents instead. Please note that $where must be replaced by $expr, $near must be replaced by $geoWithin with $center, and $nearSphere must be replaced by $geoWithin with $centerSphere\n",
      "/opt/conda/lib/python3.7/site-packages/ipykernel_launcher.py:33: DeprecationWarning: count is deprecated. Use estimated_document_count or count_documents instead. Please note that $where must be replaced by $expr, $near must be replaced by $geoWithin with $center, and $nearSphere must be replaced by $geoWithin with $centerSphere\n",
      "/opt/conda/lib/python3.7/site-packages/ipykernel_launcher.py:34: DeprecationWarning: count is deprecated. Use estimated_document_count or count_documents instead. Please note that $where must be replaced by $expr, $near must be replaced by $geoWithin with $center, and $nearSphere must be replaced by $geoWithin with $centerSphere\n",
      "/opt/conda/lib/python3.7/site-packages/ipykernel_launcher.py:35: DeprecationWarning: count is deprecated. Use estimated_document_count or count_documents instead. Please note that $where must be replaced by $expr, $near must be replaced by $geoWithin with $center, and $nearSphere must be replaced by $geoWithin with $centerSphere\n",
      "/opt/conda/lib/python3.7/site-packages/ipykernel_launcher.py:36: DeprecationWarning: count is deprecated. Use estimated_document_count or count_documents instead. Please note that $where must be replaced by $expr, $near must be replaced by $geoWithin with $center, and $nearSphere must be replaced by $geoWithin with $centerSphere\n",
      "/opt/conda/lib/python3.7/site-packages/ipykernel_launcher.py:37: DeprecationWarning: count is deprecated. Use estimated_document_count or count_documents instead. Please note that $where must be replaced by $expr, $near must be replaced by $geoWithin with $center, and $nearSphere must be replaced by $geoWithin with $centerSphere\n",
      "/opt/conda/lib/python3.7/site-packages/ipykernel_launcher.py:38: DeprecationWarning: count is deprecated. Use estimated_document_count or count_documents instead. Please note that $where must be replaced by $expr, $near must be replaced by $geoWithin with $center, and $nearSphere must be replaced by $geoWithin with $centerSphere\n",
      "172.17.0.3 - - [26/Jul/2019 11:30:40] \"POST / HTTP/1.1\" 200 -\n",
      "172.17.0.3 - - [26/Jul/2019 11:30:40] \"POST / HTTP/1.1\" 200 -\n"
     ]
    },
    {
     "name": "stdout",
     "output_type": "stream",
     "text": [
      "{\"message\": {\"id\": \"10278805065434\", \"text\": \"\\u6211\\u60f3\\u770b\\u96fb\\u5f71\", \"type\": \"text\"}, \"replyToken\": \"f8c7d8fa734a45d4a0bd04e687104e44\", \"source\": {\"type\": \"user\", \"userId\": \"U6f2dfaaac958fb9dcc653bfe6cfcc40b\"}, \"timestamp\": 1564111833818, \"type\": \"message\"}\n"
     ]
    },
    {
     "name": "stderr",
     "output_type": "stream",
     "text": [
      "172.17.0.3 - - [26/Jul/2019 11:30:58] \"POST / HTTP/1.1\" 200 -\n"
     ]
    },
    {
     "name": "stdout",
     "output_type": "stream",
     "text": [
      "{'tag\n",
      "2\n",
      "{'tag0': 2, 'tag1': 0, 'tag2': 0, 'tag3': 0, 'tag4': 0, 'tag5': 0, 'tag6': 0, 'tag7': 0, 'tag8': 0}\n"
     ]
    },
    {
     "name": "stderr",
     "output_type": "stream",
     "text": [
      "172.17.0.3 - - [26/Jul/2019 11:30:59] \"POST / HTTP/1.1\" 200 -\n"
     ]
    },
    {
     "name": "stdout",
     "output_type": "stream",
     "text": [
      "{\"message\": {\"id\": \"10278806643761\", \"text\": \"1.\\u5c0d\\u96fb\\u5f71:The Prestige,\\u8868\\u793a\\u5f88\\u559c\\u6b61\", \"type\": \"text\"}, \"replyToken\": \"34d1768bc99149bc8eea02e4640a875a\", \"source\": {\"type\": \"user\", \"userId\": \"U6f2dfaaac958fb9dcc653bfe6cfcc40b\"}, \"timestamp\": 1564111853030, \"type\": \"message\"}\n"
     ]
    },
    {
     "name": "stderr",
     "output_type": "stream",
     "text": [
      "172.17.0.3 - - [26/Jul/2019 11:30:59] \"POST / HTTP/1.1\" 200 -\n"
     ]
    },
    {
     "name": "stdout",
     "output_type": "stream",
     "text": [
      "{'tag\n",
      "1\n",
      "{'tag0': 2, 'tag1': 1, 'tag2': 0, 'tag3': 0, 'tag4': 0, 'tag5': 0, 'tag6': 0, 'tag7': 0, 'tag8': 0}\n"
     ]
    },
    {
     "name": "stderr",
     "output_type": "stream",
     "text": [
      "172.17.0.3 - - [26/Jul/2019 11:31:00] \"POST / HTTP/1.1\" 200 -\n"
     ]
    },
    {
     "name": "stdout",
     "output_type": "stream",
     "text": [
      "{\"message\": {\"id\": \"10278806791638\", \"text\": \"2.\\u5c0d\\u96fb\\u5f71:The Hangover,\\u8868\\u793a\\u559c\\u6b61\", \"type\": \"text\"}, \"replyToken\": \"d9b6004785f04d4ba3c2e24c78ae7de0\", \"source\": {\"type\": \"user\", \"userId\": \"U6f2dfaaac958fb9dcc653bfe6cfcc40b\"}, \"timestamp\": 1564111854766, \"type\": \"message\"}\n"
     ]
    },
    {
     "name": "stderr",
     "output_type": "stream",
     "text": [
      "172.17.0.3 - - [26/Jul/2019 11:31:03] \"POST / HTTP/1.1\" 200 -\n"
     ]
    },
    {
     "name": "stdout",
     "output_type": "stream",
     "text": [
      "{'tag\n",
      "2\n",
      "{'tag0': 2, 'tag1': 1, 'tag2': 2, 'tag3': 0, 'tag4': 0, 'tag5': 0, 'tag6': 0, 'tag7': 0, 'tag8': 0}\n"
     ]
    },
    {
     "name": "stderr",
     "output_type": "stream",
     "text": [
      "172.17.0.3 - - [26/Jul/2019 11:31:04] \"POST / HTTP/1.1\" 200 -\n"
     ]
    },
    {
     "name": "stdout",
     "output_type": "stream",
     "text": [
      "{\"message\": {\"id\": \"10278807051229\", \"text\": \"3.\\u5c0d\\u96fb\\u5f71:Harry Potter and the Half-Blood Prince,\\u8868\\u793a\\u5f88\\u559c\\u6b61\", \"type\": \"text\"}, \"replyToken\": \"c4a3684c653249dd877b9ba1c3590bb5\", \"source\": {\"type\": \"user\", \"userId\": \"U6f2dfaaac958fb9dcc653bfe6cfcc40b\"}, \"timestamp\": 1564111857971, \"type\": \"message\"}\n"
     ]
    },
    {
     "name": "stderr",
     "output_type": "stream",
     "text": [
      "172.17.0.3 - - [26/Jul/2019 11:31:09] \"POST / HTTP/1.1\" 200 -\n"
     ]
    },
    {
     "name": "stdout",
     "output_type": "stream",
     "text": [
      "{'tag\n",
      "2\n",
      "{'tag0': 2, 'tag1': 1, 'tag2': 2, 'tag3': 0, 'tag4': 2, 'tag5': 0, 'tag6': 0, 'tag7': 0, 'tag8': 0}\n"
     ]
    },
    {
     "name": "stderr",
     "output_type": "stream",
     "text": [
      "172.17.0.3 - - [26/Jul/2019 11:31:10] \"POST / HTTP/1.1\" 200 -\n"
     ]
    },
    {
     "name": "stdout",
     "output_type": "stream",
     "text": [
      "{\"message\": {\"id\": \"10278807547549\", \"text\": \"5.\\u5c0d\\u96fb\\u5f71:Batman Begins,\\u8868\\u793a\\u5f88\\u559c\\u6b61\", \"type\": \"text\"}, \"replyToken\": \"9d4c4c353ab04fc48370534431374dd3\", \"source\": {\"type\": \"user\", \"userId\": \"U6f2dfaaac958fb9dcc653bfe6cfcc40b\"}, \"timestamp\": 1564111864023, \"type\": \"message\"}\n",
      "::確認填\n",
      "\n"
     ]
    },
    {
     "name": "stderr",
     "output_type": "stream",
     "text": [
      "172.17.0.3 - - [26/Jul/2019 11:31:13] \"POST / HTTP/1.1\" 200 -\n",
      "172.17.0.3 - - [26/Jul/2019 11:31:13] \"POST / HTTP/1.1\" 200 -\n"
     ]
    },
    {
     "name": "stdout",
     "output_type": "stream",
     "text": [
      "{\"message\": {\"id\": \"10278807776583\", \"text\": \"\\u78ba\\u8a8d\\u586b\\u9078\\u8868\\u55ae\", \"type\": \"text\"}, \"replyToken\": \"44e9a5c6a54c4b46ab358acc306dd1f1\", \"source\": {\"type\": \"user\", \"userId\": \"U6f2dfaaac958fb9dcc653bfe6cfcc40b\"}, \"timestamp\": 1564111866773, \"type\": \"message\"}\n"
     ]
    },
    {
     "name": "stderr",
     "output_type": "stream",
     "text": [
      "172.17.0.3 - - [26/Jul/2019 11:31:22] \"POST / HTTP/1.1\" 200 -\n"
     ]
    },
    {
     "name": "stdout",
     "output_type": "stream",
     "text": [
      "::tex\n",
      " \n"
     ]
    },
    {
     "name": "stderr",
     "output_type": "stream",
     "text": [
      "172.17.0.3 - - [26/Jul/2019 11:31:23] \"POST / HTTP/1.1\" 200 -\n"
     ]
    },
    {
     "name": "stdout",
     "output_type": "stream",
     "text": [
      "{\"message\": {\"id\": \"10278808606261\", \"text\": \"\\u6211\\u8981\\u975e\\u9662\\u7dda\\u7247\", \"type\": \"text\"}, \"replyToken\": \"c5415844357a43d9a967a988291a715f\", \"source\": {\"type\": \"user\", \"userId\": \"U6f2dfaaac958fb9dcc653bfe6cfcc40b\"}, \"timestamp\": 1564111876773, \"type\": \"message\"}\n"
     ]
    },
    {
     "name": "stderr",
     "output_type": "stream",
     "text": [
      "172.17.0.3 - - [26/Jul/2019 11:31:33] \"POST / HTTP/1.1\" 200 -\n"
     ]
    },
    {
     "name": "stdout",
     "output_type": "stream",
     "text": [
      "{'tag\n",
      "o\n",
      "{'tag0': 2, 'tag1': 1, 'tag2': 2, 'tag3': 0, 'tag4': 2, 'tag5': 0, 'tag6': 0, 'tag7': 0, 'tag8': 0, 'tagActors_home': 0}\n"
     ]
    },
    {
     "name": "stderr",
     "output_type": "stream",
     "text": [
      "172.17.0.3 - - [26/Jul/2019 11:31:34] \"POST / HTTP/1.1\" 200 -\n"
     ]
    },
    {
     "name": "stdout",
     "output_type": "stream",
     "text": [
      "{\"message\": {\"id\": \"10278809562876\", \"text\": \"1..Skyfall\\u96fb\\u5f71\\u7684\\u6f14\\u54e1\", \"type\": \"text\"}, \"replyToken\": \"db7459348e3a4ce88219ae0cb6201779\", \"source\": {\"type\": \"user\", \"userId\": \"U6f2dfaaac958fb9dcc653bfe6cfcc40b\"}, \"timestamp\": 1564111888440, \"type\": \"message\"}\n"
     ]
    },
    {
     "name": "stderr",
     "output_type": "stream",
     "text": [
      "172.17.0.3 - - [26/Jul/2019 11:31:53] \"POST / HTTP/1.1\" 200 -\n"
     ]
    },
    {
     "name": "stdout",
     "output_type": "stream",
     "text": [
      "{\"message\": {\"id\": \"10278811157611\", \"text\": \"\\u6211\\u8981\\u9662\\u7dda\\u7247\", \"type\": \"text\"}, \"replyToken\": \"f8d2b1d829484ed1b763c2766add53ec\", \"source\": {\"type\": \"user\", \"userId\": \"U6f2dfaaac958fb9dcc653bfe6cfcc40b\"}, \"timestamp\": 1564111907714, \"type\": \"message\"}\n"
     ]
    },
    {
     "name": "stderr",
     "output_type": "stream",
     "text": [
      "172.17.0.3 - - [26/Jul/2019 11:31:54] \"POST / HTTP/1.1\" 200 -\n"
     ]
    },
    {
     "name": "stdout",
     "output_type": "stream",
     "text": [
      "::tex\n",
      " \n",
      "::回首頁\n",
      "\n"
     ]
    },
    {
     "name": "stderr",
     "output_type": "stream",
     "text": [
      "172.17.0.3 - - [26/Jul/2019 11:43:09] \"POST / HTTP/1.1\" 200 -\n",
      "172.17.0.3 - - [26/Jul/2019 11:43:09] \"POST / HTTP/1.1\" 200 -\n"
     ]
    },
    {
     "name": "stdout",
     "output_type": "stream",
     "text": [
      "{\"message\": {\"id\": \"10278866985664\", \"text\": \"\\u56de\\u9996\\u9801\", \"type\": \"text\"}, \"replyToken\": \"a4b7f296382d45a99b973fb4f6db8de5\", \"source\": {\"type\": \"user\", \"userId\": \"U6f2dfaaac958fb9dcc653bfe6cfcc40b\"}, \"timestamp\": 1564112583239, \"type\": \"message\"}\n"
     ]
    },
    {
     "name": "stderr",
     "output_type": "stream",
     "text": [
      "172.17.0.3 - - [26/Jul/2019 11:43:34] \"POST / HTTP/1.1\" 200 -\n",
      "172.17.0.3 - - [26/Jul/2019 11:43:36] \"POST / HTTP/1.1\" 200 -\n"
     ]
    },
    {
     "name": "stdout",
     "output_type": "stream",
     "text": [
      "{\"message\": {\"id\": \"10278917840487\", \"text\": \"::text:: \\u6211\\u8981\\u7cbe\\u6e96\\u9810\\u6e2c\", \"type\": \"text\"}, \"replyToken\": \"2e29f45ab0384ab78f5d19165637e7ba\", \"source\": {\"type\": \"user\", \"userId\": \"U6f2dfaaac958fb9dcc653bfe6cfcc40b\"}, \"timestamp\": 1564113204664, \"type\": \"message\"}\n"
     ]
    },
    {
     "name": "stderr",
     "output_type": "stream",
     "text": [
      "172.17.0.3 - - [26/Jul/2019 11:53:31] \"POST / HTTP/1.1\" 200 -\n",
      "172.17.0.3 - - [26/Jul/2019 11:53:31] \"POST / HTTP/1.1\" 200 -\n"
     ]
    },
    {
     "name": "stdout",
     "output_type": "stream",
     "text": [
      "我要精準預\n",
      "\n"
     ]
    },
    {
     "name": "stderr",
     "output_type": "stream",
     "text": [
      "172.17.0.3 - - [26/Jul/2019 11:53:42] \"POST / HTTP/1.1\" 200 -\n"
     ]
    },
    {
     "name": "stdout",
     "output_type": "stream",
     "text": [
      "{\"message\": {\"id\": \"10278918782068\", \"text\": \"::q1::herry\", \"type\": \"text\"}, \"replyToken\": \"a01ed6fc0af543aaa3612a41c1bcd2b1\", \"source\": {\"type\": \"user\", \"userId\": \"U6f2dfaaac958fb9dcc653bfe6cfcc40b\"}, \"timestamp\": 1564113216232, \"type\": \"message\"}\n",
      "{\"message\": {\"id\": \"10278919049476\", \"text\": \"::q2::150min\", \"type\": \"text\"}, \"replyToken\": \"75d1a0d80b1246a1b9a4f19223acb1ef\", \"source\": {\"type\": \"user\", \"userId\": \"U6f2dfaaac958fb9dcc653bfe6cfcc40b\"}, \"timestamp\": 1564113219464, \"type\": \"message\"}\n"
     ]
    },
    {
     "name": "stderr",
     "output_type": "stream",
     "text": [
      "172.17.0.3 - - [26/Jul/2019 11:53:45] \"POST / HTTP/1.1\" 200 -\n",
      "172.17.0.3 - - [26/Jul/2019 11:53:48] \"POST / HTTP/1.1\" 200 -\n"
     ]
    },
    {
     "name": "stdout",
     "output_type": "stream",
     "text": [
      "{\"message\": {\"id\": \"10278919304895\", \"text\": \"::q3::1200000\", \"type\": \"text\"}, \"replyToken\": \"0322844134a24c8b95ae73c8ee5680db\", \"source\": {\"type\": \"user\", \"userId\": \"U6f2dfaaac958fb9dcc653bfe6cfcc40b\"}, \"timestamp\": 1564113222567, \"type\": \"message\"}\n"
     ]
    },
    {
     "name": "stderr",
     "output_type": "stream",
     "text": [
      "172.17.0.3 - - [26/Jul/2019 11:53:52] \"POST / HTTP/1.1\" 200 -\n"
     ]
    },
    {
     "name": "stdout",
     "output_type": "stream",
     "text": [
      "{\"message\": {\"id\": \"10278919652991\", \"text\": \"::q4::Universal\", \"type\": \"text\"}, \"replyToken\": \"17bd198340034697ba9e4b10f4558759\", \"source\": {\"type\": \"user\", \"userId\": \"U6f2dfaaac958fb9dcc653bfe6cfcc40b\"}, \"timestamp\": 1564113226809, \"type\": \"message\"}\n",
      "{\"message\": {\"id\": \"10278919907279\", \"text\": \"::q5::95\", \"type\": \"text\"}, \"replyToken\": \"4c480523cc214ca999da15250b36e857\", \"source\": {\"type\": \"user\", \"userId\": \"U6f2dfaaac958fb9dcc653bfe6cfcc40b\"}, \"timestamp\": 1564113229967, \"type\": \"message\"}\n"
     ]
    },
    {
     "name": "stderr",
     "output_type": "stream",
     "text": [
      "172.17.0.3 - - [26/Jul/2019 11:53:55] \"POST / HTTP/1.1\" 200 -\n",
      "172.17.0.3 - - [26/Jul/2019 11:53:59] \"POST / HTTP/1.1\" 200 -\n"
     ]
    },
    {
     "name": "stdout",
     "output_type": "stream",
     "text": [
      "{\"message\": {\"id\": \"10278920189381\", \"text\": \"::q6::8\", \"type\": \"text\"}, \"replyToken\": \"40d8542e16594a08b16c156f4e109cd2\", \"source\": {\"type\": \"user\", \"userId\": \"U6f2dfaaac958fb9dcc653bfe6cfcc40b\"}, \"timestamp\": 1564113233479, \"type\": \"message\"}\n"
     ]
    },
    {
     "name": "stderr",
     "output_type": "stream",
     "text": [
      "172.17.0.3 - - [26/Jul/2019 11:54:02] \"POST / HTTP/1.1\" 200 -\n"
     ]
    },
    {
     "name": "stdout",
     "output_type": "stream",
     "text": [
      "{\"message\": {\"id\": \"10278920480474\", \"text\": \"::q7::9\", \"type\": \"text\"}, \"replyToken\": \"158b81591ec14f4280c68b454c7b7898\", \"source\": {\"type\": \"user\", \"userId\": \"U6f2dfaaac958fb9dcc653bfe6cfcc40b\"}, \"timestamp\": 1564113236933, \"type\": \"message\"}\n"
     ]
    },
    {
     "name": "stderr",
     "output_type": "stream",
     "text": [
      "172.17.0.3 - - [26/Jul/2019 11:54:05] \"POST / HTTP/1.1\" 200 -\n"
     ]
    },
    {
     "name": "stdout",
     "output_type": "stream",
     "text": [
      "{\"message\": {\"id\": \"10278920710738\", \"text\": \"::q8::2000\", \"type\": \"text\"}, \"replyToken\": \"69c569a5ce3e40fdaae775539eab172c\", \"source\": {\"type\": \"user\", \"userId\": \"U6f2dfaaac958fb9dcc653bfe6cfcc40b\"}, \"timestamp\": 1564113239897, \"type\": \"message\"}\n"
     ]
    },
    {
     "name": "stderr",
     "output_type": "stream",
     "text": [
      "172.17.0.3 - - [26/Jul/2019 11:54:08] \"POST / HTTP/1.1\" 200 -\n"
     ]
    },
    {
     "name": "stdout",
     "output_type": "stream",
     "text": [
      "{\"message\": {\"id\": \"10278921001360\", \"text\": \"::q9::Action\", \"type\": \"text\"}, \"replyToken\": \"ebe922f883cd486cbce3e0865cc5724c\", \"source\": {\"type\": \"user\", \"userId\": \"U6f2dfaaac958fb9dcc653bfe6cfcc40b\"}, \"timestamp\": 1564113243345, \"type\": \"message\"}\n"
     ]
    },
    {
     "name": "stderr",
     "output_type": "stream",
     "text": [
      "172.17.0.3 - - [26/Jul/2019 11:54:12] \"POST / HTTP/1.1\" 200 -\n"
     ]
    },
    {
     "name": "stdout",
     "output_type": "stream",
     "text": [
      "{\"message\": {\"id\": \"10278921280683\", \"text\": \"::q10::English\", \"type\": \"text\"}, \"replyToken\": \"bf9471b74e534ada88d7997a38f3a260\", \"source\": {\"type\": \"user\", \"userId\": \"U6f2dfaaac958fb9dcc653bfe6cfcc40b\"}, \"timestamp\": 1564113246769, \"type\": \"message\"}\n",
      "{\"message\": {\"id\": \"10278921600944\", \"text\": \"::q11::USA\", \"type\": \"text\"}, \"replyToken\": \"502e79f775a145a1babe6c5f04825ffd\", \"source\": {\"type\": \"user\", \"userId\": \"U6f2dfaaac958fb9dcc653bfe6cfcc40b\"}, \"timestamp\": 1564113250734, \"type\": \"message\"}\n"
     ]
    },
    {
     "name": "stderr",
     "output_type": "stream",
     "text": [
      "172.17.0.3 - - [26/Jul/2019 11:54:16] \"POST / HTTP/1.1\" 200 -\n",
      "172.17.0.3 - - [26/Jul/2019 11:54:19] \"POST / HTTP/1.1\" 200 -\n"
     ]
    },
    {
     "name": "stdout",
     "output_type": "stream",
     "text": [
      "{\"message\": {\"id\": \"10278921828873\", \"text\": \"::q12::R\", \"type\": \"text\"}, \"replyToken\": \"dfcfa2e210a34f72a36f2736e589b7e8\", \"source\": {\"type\": \"user\", \"userId\": \"U6f2dfaaac958fb9dcc653bfe6cfcc40b\"}, \"timestamp\": 1564113253461, \"type\": \"message\"}\n"
     ]
    },
    {
     "name": "stderr",
     "output_type": "stream",
     "text": [
      "172.17.0.3 - - [26/Jul/2019 11:54:22] \"POST / HTTP/1.1\" 200 -\n"
     ]
    },
    {
     "name": "stdout",
     "output_type": "stream",
     "text": [
      "{\"message\": {\"id\": \"10278922078851\", \"text\": \"::q13::5\", \"type\": \"text\"}, \"replyToken\": \"4f125ccf2e5b4263a4c050bce58cb599\", \"source\": {\"type\": \"user\", \"userId\": \"U6f2dfaaac958fb9dcc653bfe6cfcc40b\"}, \"timestamp\": 1564113256634, \"type\": \"message\"}\n"
     ]
    },
    {
     "name": "stderr",
     "output_type": "stream",
     "text": [
      "172.17.0.3 - - [26/Jul/2019 11:54:25] \"POST / HTTP/1.1\" 200 -\n"
     ]
    },
    {
     "name": "stdout",
     "output_type": "stream",
     "text": [
      "{\"message\": {\"id\": \"10278922379390\", \"text\": \"::q14::27 Jul 2019\", \"type\": \"text\"}, \"replyToken\": \"a54414346ee04670a25e715ff926e286\", \"source\": {\"type\": \"user\", \"userId\": \"U6f2dfaaac958fb9dcc653bfe6cfcc40b\"}, \"timestamp\": 1564113260301, \"type\": \"message\"}\n"
     ]
    },
    {
     "name": "stderr",
     "output_type": "stream",
     "text": [
      "172.17.0.3 - - [26/Jul/2019 11:54:31] \"POST / HTTP/1.1\" 200 -\n"
     ]
    },
    {
     "name": "stdout",
     "output_type": "stream",
     "text": [
      "{\"message\": {\"id\": \"10278922809330\", \"text\": \"::q15::Robert Downey Jr\", \"type\": \"text\"}, \"replyToken\": \"5411f59c5f82497eac89045ff6d26c73\", \"source\": {\"type\": \"user\", \"userId\": \"U6f2dfaaac958fb9dcc653bfe6cfcc40b\"}, \"timestamp\": 1564113265644, \"type\": \"message\"}\n",
      "{'movie_name': 'herry', 'Runtime': '150min', 'budget_in_USD': '1200000', 'Production': 'Universal', 'imdbVotes': '95', 'IMDBscore': 0.8, 'TomatoesScore': 0.9, 'Theater_num': '2000', 'Genre': 'Action', 'Language': 'English', 'Country': 'USA', 'classification': 'R', 'Metascore': 0.5, 'Released': '27 Jul 2019', 'actor': 'Robert Downey Jr'}\n",
      "{\"message\": {\"id\": \"10278923141183\", \"text\": \"::text::\\u662f\\u7684\\u6c92\\u932f\", \"type\": \"text\"}, \"replyToken\": \"e7173fd4b4dd4121a0b9946aa93f941b\", \"source\": {\"type\": \"user\", \"userId\": \"U6f2dfaaac958fb9dcc653bfe6cfcc40b\"}, \"timestamp\": 1564113269643, \"type\": \"message\"}\n",
      "{'movie_name': 'herry', 'Runtime': '150min', 'budget_in_USD': '1200000', 'Production': 'Universal', 'imdbVotes': '95', 'IMDBscore': 0.8, 'TomatoesScore': 0.9, 'Theater_num': '2000', 'Genre': 'Action', 'Language': 'English', 'Country': 'USA', 'classification': 'R', 'Metascore': 0.5, 'Released': '27 Jul 2019', 'actor': 'Robert Downey Jr'}\n"
     ]
    },
    {
     "name": "stderr",
     "output_type": "stream",
     "text": [
      "/opt/conda/lib/python3.7/site-packages/sklearn/base.py:306: UserWarning: Trying to unpickle estimator DecisionTreeClassifier from version 0.20.3 when using version 0.21.2. This might lead to breaking code or invalid results. Use at your own risk.\n",
      "  UserWarning)\n",
      "/opt/conda/lib/python3.7/site-packages/sklearn/base.py:306: UserWarning: Trying to unpickle estimator RandomForestClassifier from version 0.20.3 when using version 0.21.2. This might lead to breaking code or invalid results. Use at your own risk.\n",
      "  UserWarning)\n",
      "172.17.0.3 - - [26/Jul/2019 11:54:57] \"POST / HTTP/1.1\" 200 -\n"
     ]
    },
    {
     "name": "stdout",
     "output_type": "stream",
     "text": [
      "[11:54:56] WARNING: /workspace/src/objective/regression_obj.cu:152: reg:linear is now deprecated in favor of reg:squarederror.\n",
      "<class 'str'> <class 'numpy.ndarray'>\n"
     ]
    },
    {
     "name": "stderr",
     "output_type": "stream",
     "text": [
      "172.17.0.3 - - [26/Jul/2019 11:55:06] \"POST / HTTP/1.1\" 200 -\n"
     ]
    },
    {
     "name": "stdout",
     "output_type": "stream",
     "text": [
      "{\"message\": {\"id\": \"10278925692991\", \"text\": \"\\u6211\\u60f3\\u770b\\u96fb\\u5f71\", \"type\": \"text\"}, \"replyToken\": \"6bb9abca23ff4a4489eb9e77a5bbe358\", \"source\": {\"type\": \"user\", \"userId\": \"U6f2dfaaac958fb9dcc653bfe6cfcc40b\"}, \"timestamp\": 1564113300926, \"type\": \"message\"}\n",
      "::tex\n",
      " \n"
     ]
    },
    {
     "name": "stderr",
     "output_type": "stream",
     "text": [
      "/opt/conda/lib/python3.7/site-packages/ipykernel_launcher.py:30: DeprecationWarning: count is deprecated. Use estimated_document_count or count_documents instead. Please note that $where must be replaced by $expr, $near must be replaced by $geoWithin with $center, and $nearSphere must be replaced by $geoWithin with $centerSphere\n",
      "/opt/conda/lib/python3.7/site-packages/ipykernel_launcher.py:31: DeprecationWarning: count is deprecated. Use estimated_document_count or count_documents instead. Please note that $where must be replaced by $expr, $near must be replaced by $geoWithin with $center, and $nearSphere must be replaced by $geoWithin with $centerSphere\n",
      "/opt/conda/lib/python3.7/site-packages/ipykernel_launcher.py:32: DeprecationWarning: count is deprecated. Use estimated_document_count or count_documents instead. Please note that $where must be replaced by $expr, $near must be replaced by $geoWithin with $center, and $nearSphere must be replaced by $geoWithin with $centerSphere\n",
      "/opt/conda/lib/python3.7/site-packages/ipykernel_launcher.py:33: DeprecationWarning: count is deprecated. Use estimated_document_count or count_documents instead. Please note that $where must be replaced by $expr, $near must be replaced by $geoWithin with $center, and $nearSphere must be replaced by $geoWithin with $centerSphere\n",
      "/opt/conda/lib/python3.7/site-packages/ipykernel_launcher.py:34: DeprecationWarning: count is deprecated. Use estimated_document_count or count_documents instead. Please note that $where must be replaced by $expr, $near must be replaced by $geoWithin with $center, and $nearSphere must be replaced by $geoWithin with $centerSphere\n",
      "/opt/conda/lib/python3.7/site-packages/ipykernel_launcher.py:35: DeprecationWarning: count is deprecated. Use estimated_document_count or count_documents instead. Please note that $where must be replaced by $expr, $near must be replaced by $geoWithin with $center, and $nearSphere must be replaced by $geoWithin with $centerSphere\n",
      "/opt/conda/lib/python3.7/site-packages/ipykernel_launcher.py:36: DeprecationWarning: count is deprecated. Use estimated_document_count or count_documents instead. Please note that $where must be replaced by $expr, $near must be replaced by $geoWithin with $center, and $nearSphere must be replaced by $geoWithin with $centerSphere\n",
      "/opt/conda/lib/python3.7/site-packages/ipykernel_launcher.py:37: DeprecationWarning: count is deprecated. Use estimated_document_count or count_documents instead. Please note that $where must be replaced by $expr, $near must be replaced by $geoWithin with $center, and $nearSphere must be replaced by $geoWithin with $centerSphere\n",
      "/opt/conda/lib/python3.7/site-packages/ipykernel_launcher.py:38: DeprecationWarning: count is deprecated. Use estimated_document_count or count_documents instead. Please note that $where must be replaced by $expr, $near must be replaced by $geoWithin with $center, and $nearSphere must be replaced by $geoWithin with $centerSphere\n",
      "[2019-07-26 11:55:07,990] ERROR in app: Exception on / [POST]\n",
      "Traceback (most recent call last):\n",
      "  File \"/opt/conda/lib/python3.7/site-packages/flask/app.py\", line 1982, in wsgi_app\n",
      "    response = self.full_dispatch_request()\n",
      "  File \"/opt/conda/lib/python3.7/site-packages/flask/app.py\", line 1614, in full_dispatch_request\n",
      "    rv = self.handle_user_exception(e)\n",
      "  File \"/opt/conda/lib/python3.7/site-packages/flask/app.py\", line 1517, in handle_user_exception\n",
      "    reraise(exc_type, exc_value, tb)\n",
      "  File \"/opt/conda/lib/python3.7/site-packages/flask/_compat.py\", line 33, in reraise\n",
      "    raise value\n",
      "  File \"/opt/conda/lib/python3.7/site-packages/flask/app.py\", line 1612, in full_dispatch_request\n",
      "    rv = self.dispatch_request()\n",
      "  File \"/opt/conda/lib/python3.7/site-packages/flask/app.py\", line 1598, in dispatch_request\n",
      "    return self.view_functions[rule.endpoint](**req.view_args)\n",
      "  File \"<ipython-input-68-c07530bfb745>\", line 46, in callback\n",
      "    handler.handle(body, signature)\n",
      "  File \"/opt/conda/lib/python3.7/site-packages/linebot/webhook.py\", line 260, in handle\n",
      "    func(event)\n",
      "  File \"<ipython-input-77-951b310bb276>\", line 50, in handle_post_message\n",
      "    message_first_predict_list)\n",
      "  File \"/opt/conda/lib/python3.7/site-packages/linebot/api.py\", line 101, in reply_message\n",
      "    '/v2/bot/message/reply', data=json.dumps(data), timeout=timeout\n",
      "  File \"/opt/conda/lib/python3.7/site-packages/linebot/api.py\", line 903, in _post\n",
      "    self.__check_error(response)\n",
      "  File \"/opt/conda/lib/python3.7/site-packages/linebot/api.py\", line 926, in __check_error\n",
      "    raise LineBotApiError(response.status_code, error)\n",
      "linebot.exceptions.LineBotApiError: LineBotApiError: status_code=400, error_response={\"details\": [{\"message\": \"must not be longer than 60 characters\", \"property\": \"template/columns/8/text\"}], \"message\": \"A message (messages[0])\\u00a0in the request body is invalid\"}\n",
      "172.17.0.3 - - [26/Jul/2019 11:55:07] \"POST / HTTP/1.1\" 500 -\n",
      "172.17.0.3 - - [26/Jul/2019 11:55:15] \"POST / HTTP/1.1\" 200 -\n"
     ]
    },
    {
     "name": "stdout",
     "output_type": "stream",
     "text": [
      "{\"message\": {\"id\": \"10278926475227\", \"text\": \"\\u56de\\u9996\\u9801\", \"type\": \"text\"}, \"replyToken\": \"5be83a1050f3442b9000b7cd9007e3f0\", \"source\": {\"type\": \"user\", \"userId\": \"U6f2dfaaac958fb9dcc653bfe6cfcc40b\"}, \"timestamp\": 1564113310486, \"type\": \"message\"}\n",
      "::回首頁\n",
      "\n"
     ]
    },
    {
     "name": "stderr",
     "output_type": "stream",
     "text": [
      "172.17.0.3 - - [26/Jul/2019 11:55:16] \"POST / HTTP/1.1\" 200 -\n"
     ]
    },
    {
     "name": "stdout",
     "output_type": "stream",
     "text": [
      "::tex\n",
      " \n"
     ]
    },
    {
     "name": "stderr",
     "output_type": "stream",
     "text": [
      "172.17.0.3 - - [26/Jul/2019 11:55:21] \"POST / HTTP/1.1\" 200 -\n",
      "172.17.0.3 - - [26/Jul/2019 11:55:21] \"POST / HTTP/1.1\" 200 -\n"
     ]
    },
    {
     "name": "stdout",
     "output_type": "stream",
     "text": [
      "{\"message\": {\"id\": \"10278926867675\", \"text\": \"\\u6211\\u60f3\\u770b\\u96fb\\u5f71\", \"type\": \"text\"}, \"replyToken\": \"917925c4ed864a558531525a209458a8\", \"source\": {\"type\": \"user\", \"userId\": \"U6f2dfaaac958fb9dcc653bfe6cfcc40b\"}, \"timestamp\": 1564113315246, \"type\": \"message\"}\n"
     ]
    },
    {
     "name": "stderr",
     "output_type": "stream",
     "text": [
      "172.17.0.3 - - [26/Jul/2019 11:56:13] \"POST / HTTP/1.1\" 200 -\n",
      "172.17.0.3 - - [26/Jul/2019 11:56:14] \"POST / HTTP/1.1\" 200 -\n",
      "172.17.0.3 - - [26/Jul/2019 11:57:14] \"POST / HTTP/1.1\" 200 -\n"
     ]
    },
    {
     "name": "stdout",
     "output_type": "stream",
     "text": [
      "我要精準預\n",
      "\n",
      "{\"message\": {\"id\": \"10278936184327\", \"text\": \"::text:: \\u6211\\u8981\\u7cbe\\u6e96\\u9810\\u6e2c\", \"type\": \"text\"}, \"replyToken\": \"5fc59e8e0a7f419a849a460c52ab816b\", \"source\": {\"type\": \"user\", \"userId\": \"U6f2dfaaac958fb9dcc653bfe6cfcc40b\"}, \"timestamp\": 1564113429172, \"type\": \"message\"}\n"
     ]
    },
    {
     "name": "stderr",
     "output_type": "stream",
     "text": [
      "172.17.0.3 - - [26/Jul/2019 11:57:16] \"POST / HTTP/1.1\" 200 -\n",
      "172.17.0.3 - - [26/Jul/2019 11:57:22] \"POST / HTTP/1.1\" 200 -\n"
     ]
    },
    {
     "name": "stdout",
     "output_type": "stream",
     "text": [
      "{\"message\": {\"id\": \"10278936839719\", \"text\": \"::q1::herry\", \"type\": \"text\"}, \"replyToken\": \"9f86057a8d0a4f3f961277735f131d81\", \"source\": {\"type\": \"user\", \"userId\": \"U6f2dfaaac958fb9dcc653bfe6cfcc40b\"}, \"timestamp\": 1564113437266, \"type\": \"message\"}\n",
      "{\"message\": {\"id\": \"10278937266363\", \"text\": \"::q2::150min\", \"type\": \"text\"}, \"replyToken\": \"fcb617fed8e5474bbcadf2a576ee9a2d\", \"source\": {\"type\": \"user\", \"userId\": \"U6f2dfaaac958fb9dcc653bfe6cfcc40b\"}, \"timestamp\": 1564113442364, \"type\": \"message\"}\n"
     ]
    },
    {
     "name": "stderr",
     "output_type": "stream",
     "text": [
      "172.17.0.3 - - [26/Jul/2019 11:57:28] \"POST / HTTP/1.1\" 200 -\n",
      "172.17.0.3 - - [26/Jul/2019 11:57:31] \"POST / HTTP/1.1\" 200 -\n"
     ]
    },
    {
     "name": "stdout",
     "output_type": "stream",
     "text": [
      "{\"message\": {\"id\": \"10278937527576\", \"text\": \"::q3::1200000\", \"type\": \"text\"}, \"replyToken\": \"6cf72bbe724e4f2abd510c8ed38bc735\", \"source\": {\"type\": \"user\", \"userId\": \"U6f2dfaaac958fb9dcc653bfe6cfcc40b\"}, \"timestamp\": 1564113445730, \"type\": \"message\"}\n"
     ]
    },
    {
     "name": "stderr",
     "output_type": "stream",
     "text": [
      "172.17.0.3 - - [26/Jul/2019 11:57:34] \"POST / HTTP/1.1\" 200 -\n"
     ]
    },
    {
     "name": "stdout",
     "output_type": "stream",
     "text": [
      "{\"message\": {\"id\": \"10278937792213\", \"text\": \"::q4::Universal\", \"type\": \"text\"}, \"replyToken\": \"b7713d7cd69c4beb990c9bab9606fbc1\", \"source\": {\"type\": \"user\", \"userId\": \"U6f2dfaaac958fb9dcc653bfe6cfcc40b\"}, \"timestamp\": 1564113448981, \"type\": \"message\"}\n",
      "{\"message\": {\"id\": \"10278938218837\", \"text\": \"::q4::Universal\", \"type\": \"text\"}, \"replyToken\": \"65ba8e818bec4f92b184881ef0b8a979\", \"source\": {\"type\": \"user\", \"userId\": \"U6f2dfaaac958fb9dcc653bfe6cfcc40b\"}, \"timestamp\": 1564113454125, \"type\": \"message\"}\n"
     ]
    },
    {
     "name": "stderr",
     "output_type": "stream",
     "text": [
      "172.17.0.3 - - [26/Jul/2019 11:57:39] \"POST / HTTP/1.1\" 200 -\n",
      "172.17.0.3 - - [26/Jul/2019 11:57:44] \"POST / HTTP/1.1\" 200 -\n"
     ]
    },
    {
     "name": "stdout",
     "output_type": "stream",
     "text": [
      "{\"message\": {\"id\": \"10278938579291\", \"text\": \"\\n::q6::8\", \"type\": \"text\"}, \"replyToken\": \"627996beb90147f38403124edbcba702\", \"source\": {\"type\": \"user\", \"userId\": \"U6f2dfaaac958fb9dcc653bfe6cfcc40b\"}, \"timestamp\": 1564113458479, \"type\": \"message\"}\n"
     ]
    },
    {
     "name": "stderr",
     "output_type": "stream",
     "text": [
      "172.17.0.3 - - [26/Jul/2019 11:57:48] \"POST / HTTP/1.1\" 200 -\n"
     ]
    },
    {
     "name": "stdout",
     "output_type": "stream",
     "text": [
      "{\"message\": {\"id\": \"10278938918936\", \"text\": \"::q7::9\", \"type\": \"text\"}, \"replyToken\": \"6330572350f54d19ad0e75ca2c781654\", \"source\": {\"type\": \"user\", \"userId\": \"U6f2dfaaac958fb9dcc653bfe6cfcc40b\"}, \"timestamp\": 1564113462789, \"type\": \"message\"}\n",
      "{\"message\": {\"id\": \"10278939251175\", \"text\": \"::q8::2000\", \"type\": \"text\"}, \"replyToken\": \"6c16d49178ae4f9f87c8263c951bd738\", \"source\": {\"type\": \"user\", \"userId\": \"U6f2dfaaac958fb9dcc653bfe6cfcc40b\"}, \"timestamp\": 1564113466860, \"type\": \"message\"}\n"
     ]
    },
    {
     "name": "stderr",
     "output_type": "stream",
     "text": [
      "172.17.0.3 - - [26/Jul/2019 11:57:52] \"POST / HTTP/1.1\" 200 -\n"
     ]
    },
    {
     "name": "stdout",
     "output_type": "stream",
     "text": [
      "{\"message\": {\"id\": \"10278939539278\", \"text\": \"::q9::Action\", \"type\": \"text\"}, \"replyToken\": \"6f2b205dc9e346d2af4b221bb9f099b5\", \"source\": {\"type\": \"user\", \"userId\": \"U6f2dfaaac958fb9dcc653bfe6cfcc40b\"}, \"timestamp\": 1564113470292, \"type\": \"message\"}\n"
     ]
    },
    {
     "name": "stderr",
     "output_type": "stream",
     "text": [
      "172.17.0.3 - - [26/Jul/2019 11:57:55] \"POST / HTTP/1.1\" 200 -\n",
      "172.17.0.3 - - [26/Jul/2019 11:57:59] \"POST / HTTP/1.1\" 200 -\n"
     ]
    },
    {
     "name": "stdout",
     "output_type": "stream",
     "text": [
      "{\"message\": {\"id\": \"10278939783759\", \"text\": \"::q10::English\", \"type\": \"text\"}, \"replyToken\": \"595c9632654746d9a070070910a871e4\", \"source\": {\"type\": \"user\", \"userId\": \"U6f2dfaaac958fb9dcc653bfe6cfcc40b\"}, \"timestamp\": 1564113473318, \"type\": \"message\"}\n"
     ]
    },
    {
     "name": "stderr",
     "output_type": "stream",
     "text": [
      "172.17.0.3 - - [26/Jul/2019 11:58:01] \"POST / HTTP/1.1\" 200 -\n"
     ]
    },
    {
     "name": "stdout",
     "output_type": "stream",
     "text": [
      "{\"message\": {\"id\": \"10278940032114\", \"text\": \"::q11::USA\", \"type\": \"text\"}, \"replyToken\": \"453a6cc01f424669b08eb2bb33599da8\", \"source\": {\"type\": \"user\", \"userId\": \"U6f2dfaaac958fb9dcc653bfe6cfcc40b\"}, \"timestamp\": 1564113476390, \"type\": \"message\"}\n",
      "{\"message\": {\"id\": \"10278940273076\", \"text\": \"::q12::R\", \"type\": \"text\"}, \"replyToken\": \"11b8a1a80e9946afa815220192598e99\", \"source\": {\"type\": \"user\", \"userId\": \"U6f2dfaaac958fb9dcc653bfe6cfcc40b\"}, \"timestamp\": 1564113479372, \"type\": \"message\"}\n"
     ]
    },
    {
     "name": "stderr",
     "output_type": "stream",
     "text": [
      "172.17.0.3 - - [26/Jul/2019 11:58:05] \"POST / HTTP/1.1\" 200 -\n",
      "172.17.0.3 - - [26/Jul/2019 11:58:09] \"POST / HTTP/1.1\" 200 -\n"
     ]
    },
    {
     "name": "stdout",
     "output_type": "stream",
     "text": [
      "{\"message\": {\"id\": \"10278940627284\", \"text\": \"::q13::5\", \"type\": \"text\"}, \"replyToken\": \"5707ef1b24514a4fba408987938d2e21\", \"source\": {\"type\": \"user\", \"userId\": \"U6f2dfaaac958fb9dcc653bfe6cfcc40b\"}, \"timestamp\": 1564113483621, \"type\": \"message\"}\n"
     ]
    },
    {
     "name": "stderr",
     "output_type": "stream",
     "text": [
      "172.17.0.3 - - [26/Jul/2019 11:58:12] \"POST / HTTP/1.1\" 200 -\n"
     ]
    },
    {
     "name": "stdout",
     "output_type": "stream",
     "text": [
      "{\"message\": {\"id\": \"10278940899664\", \"text\": \"::q14::27 Jul 2019\", \"type\": \"text\"}, \"replyToken\": \"967c7681db304f3fa18b25667f60b97b\", \"source\": {\"type\": \"user\", \"userId\": \"U6f2dfaaac958fb9dcc653bfe6cfcc40b\"}, \"timestamp\": 1564113486999, \"type\": \"message\"}\n",
      "{\"message\": {\"id\": \"10278941406829\", \"text\": \"::q15::Robert Downey Jr\", \"type\": \"text\"}, \"replyToken\": \"8c8807db4afa4a97bf29bd4842b49250\", \"source\": {\"type\": \"user\", \"userId\": \"U6f2dfaaac958fb9dcc653bfe6cfcc40b\"}, \"timestamp\": 1564113493147, \"type\": \"message\"}\n",
      "{'movie_name': 'herry', 'Runtime': '150min', 'budget_in_USD': '1200000', 'Production': 'Universal', 'imdbVotes': '95', 'IMDBscore': 0.8, 'TomatoesScore': 0.9, 'Theater_num': '2000', 'Genre': 'Action', 'Language': 'English', 'Country': 'USA', 'classification': 'R', 'Metascore': 0.5, 'Released': '27 Jul 2019', 'actor': 'Robert Downey Jr'}\n"
     ]
    },
    {
     "name": "stderr",
     "output_type": "stream",
     "text": [
      "172.17.0.3 - - [26/Jul/2019 11:58:18] \"POST / HTTP/1.1\" 200 -\n"
     ]
    },
    {
     "name": "stdout",
     "output_type": "stream",
     "text": [
      "{\"message\": {\"id\": \"10278941736542\", \"text\": \"::text::\\u662f\\u7684\\u6c92\\u932f\", \"type\": \"text\"}, \"replyToken\": \"c73a97932ed540339cad0e169d086697\", \"source\": {\"type\": \"user\", \"userId\": \"U6f2dfaaac958fb9dcc653bfe6cfcc40b\"}, \"timestamp\": 1564113497172, \"type\": \"message\"}\n",
      "{'movie_name': 'herry', 'Runtime': '150min', 'budget_in_USD': '1200000', 'Production': 'Universal', 'imdbVotes': '95', 'IMDBscore': 0.8, 'TomatoesScore': 0.9, 'Theater_num': '2000', 'Genre': 'Action', 'Language': 'English', 'Country': 'USA', 'classification': 'R', 'Metascore': 0.5, 'Released': '27 Jul 2019', 'actor': 'Robert Downey Jr'}\n"
     ]
    },
    {
     "name": "stderr",
     "output_type": "stream",
     "text": [
      "/opt/conda/lib/python3.7/site-packages/sklearn/base.py:306: UserWarning: Trying to unpickle estimator DecisionTreeClassifier from version 0.20.3 when using version 0.21.2. This might lead to breaking code or invalid results. Use at your own risk.\n",
      "  UserWarning)\n",
      "/opt/conda/lib/python3.7/site-packages/sklearn/base.py:306: UserWarning: Trying to unpickle estimator RandomForestClassifier from version 0.20.3 when using version 0.21.2. This might lead to breaking code or invalid results. Use at your own risk.\n",
      "  UserWarning)\n"
     ]
    },
    {
     "name": "stdout",
     "output_type": "stream",
     "text": [
      "[11:58:45] WARNING: /workspace/src/objective/regression_obj.cu:152: reg:linear is now deprecated in favor of reg:squarederror.\n",
      "<class 'str'> <class 'numpy.ndarray'>\n"
     ]
    },
    {
     "name": "stderr",
     "output_type": "stream",
     "text": [
      "172.17.0.3 - - [26/Jul/2019 11:58:45] \"POST / HTTP/1.1\" 200 -\n",
      "172.17.0.3 - - [26/Jul/2019 11:59:26] \"POST / HTTP/1.1\" 200 -\n",
      "172.17.0.3 - - [26/Jul/2019 11:59:27] \"POST / HTTP/1.1\" 200 -\n",
      "172.17.0.3 - - [26/Jul/2019 12:02:10] \"POST / HTTP/1.1\" 200 -\n"
     ]
    },
    {
     "name": "stdout",
     "output_type": "stream",
     "text": [
      "我要精準預\n",
      "\n",
      "{\"message\": {\"id\": \"10278960005301\", \"text\": \"::text:: \\u6211\\u8981\\u7cbe\\u6e96\\u9810\\u6e2c\", \"type\": \"text\"}, \"replyToken\": \"5c6b3a6b977a4137826a28db6397f9c3\", \"source\": {\"type\": \"user\", \"userId\": \"U6f2dfaaac958fb9dcc653bfe6cfcc40b\"}, \"timestamp\": 1564113724873, \"type\": \"message\"}\n"
     ]
    },
    {
     "name": "stderr",
     "output_type": "stream",
     "text": [
      "172.17.0.3 - - [26/Jul/2019 12:02:12] \"POST / HTTP/1.1\" 200 -\n"
     ]
    },
    {
     "name": "stdout",
     "output_type": "stream",
     "text": [
      "{\"message\": {\"id\": \"10278960632406\", \"text\": \"::q1::herry\", \"type\": \"text\"}, \"replyToken\": \"de78e4b0634a40f2866b2fe533551ab6\", \"source\": {\"type\": \"user\", \"userId\": \"U6f2dfaaac958fb9dcc653bfe6cfcc40b\"}, \"timestamp\": 1564113732911, \"type\": \"message\"}\n"
     ]
    },
    {
     "name": "stderr",
     "output_type": "stream",
     "text": [
      "172.17.0.3 - - [26/Jul/2019 12:02:18] \"POST / HTTP/1.1\" 200 -\n"
     ]
    },
    {
     "name": "stdout",
     "output_type": "stream",
     "text": [
      "{\"message\": {\"id\": \"10278960899385\", \"text\": \"::q2::150min\", \"type\": \"text\"}, \"replyToken\": \"9ee3f158857e4cf8acc8148129526468\", \"source\": {\"type\": \"user\", \"userId\": \"U6f2dfaaac958fb9dcc653bfe6cfcc40b\"}, \"timestamp\": 1564113736165, \"type\": \"message\"}\n"
     ]
    },
    {
     "name": "stderr",
     "output_type": "stream",
     "text": [
      "172.17.0.3 - - [26/Jul/2019 12:02:21] \"POST / HTTP/1.1\" 200 -\n",
      "172.17.0.3 - - [26/Jul/2019 12:02:24] \"POST / HTTP/1.1\" 200 -\n"
     ]
    },
    {
     "name": "stdout",
     "output_type": "stream",
     "text": [
      "{\"message\": {\"id\": \"10278961136228\", \"text\": \"::q3::1200000\", \"type\": \"text\"}, \"replyToken\": \"456bbd6d071448028c418d7b276e1205\", \"source\": {\"type\": \"user\", \"userId\": \"U6f2dfaaac958fb9dcc653bfe6cfcc40b\"}, \"timestamp\": 1564113739343, \"type\": \"message\"}\n",
      "{\"message\": {\"id\": \"10278961432700\", \"text\": \"::q4::Universal\", \"type\": \"text\"}, \"replyToken\": \"81bb8c674c844caf93f9a4adc2662ff8\", \"source\": {\"type\": \"user\", \"userId\": \"U6f2dfaaac958fb9dcc653bfe6cfcc40b\"}, \"timestamp\": 1564113743006, \"type\": \"message\"}\n"
     ]
    },
    {
     "name": "stderr",
     "output_type": "stream",
     "text": [
      "172.17.0.3 - - [26/Jul/2019 12:02:28] \"POST / HTTP/1.1\" 200 -\n"
     ]
    },
    {
     "name": "stdout",
     "output_type": "stream",
     "text": [
      "{\"message\": {\"id\": \"10278961676689\", \"text\": \"::q5::95\", \"type\": \"text\"}, \"replyToken\": \"c210af8a048a4db7986578d6ad834b66\", \"source\": {\"type\": \"user\", \"userId\": \"U6f2dfaaac958fb9dcc653bfe6cfcc40b\"}, \"timestamp\": 1564113746066, \"type\": \"message\"}\n"
     ]
    },
    {
     "name": "stderr",
     "output_type": "stream",
     "text": [
      "172.17.0.3 - - [26/Jul/2019 12:02:31] \"POST / HTTP/1.1\" 200 -\n"
     ]
    },
    {
     "name": "stdout",
     "output_type": "stream",
     "text": [
      "{\"message\": {\"id\": \"10278961893217\", \"text\": \"::q6::8\", \"type\": \"text\"}, \"replyToken\": \"599cb26dbea7456781695e87e1c728d5\", \"source\": {\"type\": \"user\", \"userId\": \"U6f2dfaaac958fb9dcc653bfe6cfcc40b\"}, \"timestamp\": 1564113748918, \"type\": \"message\"}\n"
     ]
    },
    {
     "name": "stderr",
     "output_type": "stream",
     "text": [
      "172.17.0.3 - - [26/Jul/2019 12:02:35] \"POST / HTTP/1.1\" 200 -\n"
     ]
    },
    {
     "name": "stdout",
     "output_type": "stream",
     "text": [
      "{\"message\": {\"id\": \"10278962131459\", \"text\": \"::q7::9\", \"type\": \"text\"}, \"replyToken\": \"461c385fcc124588b2c9480850ae821c\", \"source\": {\"type\": \"user\", \"userId\": \"U6f2dfaaac958fb9dcc653bfe6cfcc40b\"}, \"timestamp\": 1564113751929, \"type\": \"message\"}\n"
     ]
    },
    {
     "name": "stderr",
     "output_type": "stream",
     "text": [
      "172.17.0.3 - - [26/Jul/2019 12:02:37] \"POST / HTTP/1.1\" 200 -\n",
      "172.17.0.3 - - [26/Jul/2019 12:02:41] \"POST / HTTP/1.1\" 200 -\n"
     ]
    },
    {
     "name": "stdout",
     "output_type": "stream",
     "text": [
      "{\"message\": {\"id\": \"10278962374504\", \"text\": \"::q8::2000\", \"type\": \"text\"}, \"replyToken\": \"5926a8210913428a9122ab809ee3baa4\", \"source\": {\"type\": \"user\", \"userId\": \"U6f2dfaaac958fb9dcc653bfe6cfcc40b\"}, \"timestamp\": 1564113755091, \"type\": \"message\"}\n",
      "{\"message\": {\"id\": \"10278962628946\", \"text\": \"::q9::Action\", \"type\": \"text\"}, \"replyToken\": \"a78709acfdd34153a0582a447f874e65\", \"source\": {\"type\": \"user\", \"userId\": \"U6f2dfaaac958fb9dcc653bfe6cfcc40b\"}, \"timestamp\": 1564113758319, \"type\": \"message\"}\n"
     ]
    },
    {
     "name": "stderr",
     "output_type": "stream",
     "text": [
      "172.17.0.3 - - [26/Jul/2019 12:02:44] \"POST / HTTP/1.1\" 200 -\n"
     ]
    },
    {
     "name": "stdout",
     "output_type": "stream",
     "text": [
      "{\"message\": {\"id\": \"10278962891746\", \"text\": \"::q10::English\", \"type\": \"text\"}, \"replyToken\": \"ecd24bbe444642fc8550178037d43c60\", \"source\": {\"type\": \"user\", \"userId\": \"U6f2dfaaac958fb9dcc653bfe6cfcc40b\"}, \"timestamp\": 1564113761649, \"type\": \"message\"}\n"
     ]
    },
    {
     "name": "stderr",
     "output_type": "stream",
     "text": [
      "172.17.0.3 - - [26/Jul/2019 12:02:47] \"POST / HTTP/1.1\" 200 -\n",
      "172.17.0.3 - - [26/Jul/2019 12:02:50] \"POST / HTTP/1.1\" 200 -\n"
     ]
    },
    {
     "name": "stdout",
     "output_type": "stream",
     "text": [
      "{\"message\": {\"id\": \"10278963130025\", \"text\": \"::q11::USA\", \"type\": \"text\"}, \"replyToken\": \"68a39a92c0f2495b8b48401c4721a9ff\", \"source\": {\"type\": \"user\", \"userId\": \"U6f2dfaaac958fb9dcc653bfe6cfcc40b\"}, \"timestamp\": 1564113764480, \"type\": \"message\"}\n"
     ]
    },
    {
     "name": "stderr",
     "output_type": "stream",
     "text": [
      "172.17.0.3 - - [26/Jul/2019 12:02:52] \"POST / HTTP/1.1\" 200 -\n"
     ]
    },
    {
     "name": "stdout",
     "output_type": "stream",
     "text": [
      "{\"message\": {\"id\": \"10278963344790\", \"text\": \"::q12::R\", \"type\": \"text\"}, \"replyToken\": \"fe4bf7cc20534c7992c9c1211c82c6b3\", \"source\": {\"type\": \"user\", \"userId\": \"U6f2dfaaac958fb9dcc653bfe6cfcc40b\"}, \"timestamp\": 1564113767366, \"type\": \"message\"}\n"
     ]
    },
    {
     "name": "stderr",
     "output_type": "stream",
     "text": [
      "172.17.0.3 - - [26/Jul/2019 12:02:57] \"POST / HTTP/1.1\" 200 -\n"
     ]
    },
    {
     "name": "stdout",
     "output_type": "stream",
     "text": [
      "{\"message\": {\"id\": \"10278963696207\", \"text\": \"::q13::5\", \"type\": \"text\"}, \"replyToken\": \"f1680c6882004b6eb8b357ec5984a9b8\", \"source\": {\"type\": \"user\", \"userId\": \"U6f2dfaaac958fb9dcc653bfe6cfcc40b\"}, \"timestamp\": 1564113771688, \"type\": \"message\"}\n"
     ]
    },
    {
     "name": "stderr",
     "output_type": "stream",
     "text": [
      "172.17.0.3 - - [26/Jul/2019 12:02:59] \"POST / HTTP/1.1\" 200 -\n"
     ]
    },
    {
     "name": "stdout",
     "output_type": "stream",
     "text": [
      "{\"message\": {\"id\": \"10278963928054\", \"text\": \"::q14::27 Jul 2019\", \"type\": \"text\"}, \"replyToken\": \"66bd4d387d98457ab47a58d302777d2e\", \"source\": {\"type\": \"user\", \"userId\": \"U6f2dfaaac958fb9dcc653bfe6cfcc40b\"}, \"timestamp\": 1564113774747, \"type\": \"message\"}\n",
      "{\"message\": {\"id\": \"10278964215395\", \"text\": \"::q15::Robert Downey Jr\", \"type\": \"text\"}, \"replyToken\": \"377dd7e814894a848be9fda06e878b22\", \"source\": {\"type\": \"user\", \"userId\": \"U6f2dfaaac958fb9dcc653bfe6cfcc40b\"}, \"timestamp\": 1564113778419, \"type\": \"message\"}\n",
      "{'movie_name': 'herry', 'Runtime': '150min', 'budget_in_USD': '1200000', 'Production': 'Universal', 'imdbVotes': '95', 'IMDBscore': 0.8, 'TomatoesScore': 0.9, 'Theater_num': '2000', 'Genre': 'Action', 'Language': 'English', 'Country': 'USA', 'classification': 'R', 'Metascore': 0.5, 'Released': '27 Jul 2019', 'actor': 'Robert Downey Jr'}\n"
     ]
    },
    {
     "name": "stderr",
     "output_type": "stream",
     "text": [
      "172.17.0.3 - - [26/Jul/2019 12:03:04] \"POST / HTTP/1.1\" 200 -\n"
     ]
    },
    {
     "name": "stdout",
     "output_type": "stream",
     "text": [
      "{\"message\": {\"id\": \"10278964420617\", \"text\": \"::text::\\u662f\\u7684\\u6c92\\u932f\", \"type\": \"text\"}, \"replyToken\": \"6d5f98728f1e4c149d28361a36b7e06e\", \"source\": {\"type\": \"user\", \"userId\": \"U6f2dfaaac958fb9dcc653bfe6cfcc40b\"}, \"timestamp\": 1564113780907, \"type\": \"message\"}\n",
      "{'movie_name': 'herry', 'Runtime': '150min', 'budget_in_USD': '1200000', 'Production': 'Universal', 'imdbVotes': '95', 'IMDBscore': 0.8, 'TomatoesScore': 0.9, 'Theater_num': '2000', 'Genre': 'Action', 'Language': 'English', 'Country': 'USA', 'classification': 'R', 'Metascore': 0.5, 'Released': '27 Jul 2019', 'actor': 'Robert Downey Jr'}\n"
     ]
    },
    {
     "name": "stderr",
     "output_type": "stream",
     "text": [
      "/opt/conda/lib/python3.7/site-packages/sklearn/base.py:306: UserWarning: Trying to unpickle estimator DecisionTreeClassifier from version 0.20.3 when using version 0.21.2. This might lead to breaking code or invalid results. Use at your own risk.\n",
      "  UserWarning)\n",
      "/opt/conda/lib/python3.7/site-packages/sklearn/base.py:306: UserWarning: Trying to unpickle estimator RandomForestClassifier from version 0.20.3 when using version 0.21.2. This might lead to breaking code or invalid results. Use at your own risk.\n",
      "  UserWarning)\n",
      "172.17.0.3 - - [26/Jul/2019 12:03:28] \"POST / HTTP/1.1\" 200 -\n"
     ]
    },
    {
     "name": "stdout",
     "output_type": "stream",
     "text": [
      "[12:03:28] WARNING: /workspace/src/objective/regression_obj.cu:152: reg:linear is now deprecated in favor of reg:squarederror.\n",
      "<class 'str'> <class 'numpy.ndarray'>\n"
     ]
    },
    {
     "name": "stderr",
     "output_type": "stream",
     "text": [
      "172.17.0.3 - - [26/Jul/2019 12:05:30] \"POST / HTTP/1.1\" 200 -\n",
      "172.17.0.3 - - [26/Jul/2019 12:05:31] \"POST / HTTP/1.1\" 200 -\n"
     ]
    },
    {
     "name": "stdout",
     "output_type": "stream",
     "text": [
      "::tex\n",
      " \n"
     ]
    },
    {
     "name": "stderr",
     "output_type": "stream",
     "text": [
      "/opt/conda/lib/python3.7/site-packages/ipykernel_launcher.py:30: DeprecationWarning: count is deprecated. Use estimated_document_count or count_documents instead. Please note that $where must be replaced by $expr, $near must be replaced by $geoWithin with $center, and $nearSphere must be replaced by $geoWithin with $centerSphere\n",
      "/opt/conda/lib/python3.7/site-packages/ipykernel_launcher.py:31: DeprecationWarning: count is deprecated. Use estimated_document_count or count_documents instead. Please note that $where must be replaced by $expr, $near must be replaced by $geoWithin with $center, and $nearSphere must be replaced by $geoWithin with $centerSphere\n",
      "/opt/conda/lib/python3.7/site-packages/ipykernel_launcher.py:32: DeprecationWarning: count is deprecated. Use estimated_document_count or count_documents instead. Please note that $where must be replaced by $expr, $near must be replaced by $geoWithin with $center, and $nearSphere must be replaced by $geoWithin with $centerSphere\n",
      "/opt/conda/lib/python3.7/site-packages/ipykernel_launcher.py:33: DeprecationWarning: count is deprecated. Use estimated_document_count or count_documents instead. Please note that $where must be replaced by $expr, $near must be replaced by $geoWithin with $center, and $nearSphere must be replaced by $geoWithin with $centerSphere\n",
      "/opt/conda/lib/python3.7/site-packages/ipykernel_launcher.py:34: DeprecationWarning: count is deprecated. Use estimated_document_count or count_documents instead. Please note that $where must be replaced by $expr, $near must be replaced by $geoWithin with $center, and $nearSphere must be replaced by $geoWithin with $centerSphere\n",
      "/opt/conda/lib/python3.7/site-packages/ipykernel_launcher.py:35: DeprecationWarning: count is deprecated. Use estimated_document_count or count_documents instead. Please note that $where must be replaced by $expr, $near must be replaced by $geoWithin with $center, and $nearSphere must be replaced by $geoWithin with $centerSphere\n",
      "/opt/conda/lib/python3.7/site-packages/ipykernel_launcher.py:36: DeprecationWarning: count is deprecated. Use estimated_document_count or count_documents instead. Please note that $where must be replaced by $expr, $near must be replaced by $geoWithin with $center, and $nearSphere must be replaced by $geoWithin with $centerSphere\n",
      "/opt/conda/lib/python3.7/site-packages/ipykernel_launcher.py:37: DeprecationWarning: count is deprecated. Use estimated_document_count or count_documents instead. Please note that $where must be replaced by $expr, $near must be replaced by $geoWithin with $center, and $nearSphere must be replaced by $geoWithin with $centerSphere\n",
      "/opt/conda/lib/python3.7/site-packages/ipykernel_launcher.py:38: DeprecationWarning: count is deprecated. Use estimated_document_count or count_documents instead. Please note that $where must be replaced by $expr, $near must be replaced by $geoWithin with $center, and $nearSphere must be replaced by $geoWithin with $centerSphere\n",
      "172.17.0.3 - - [26/Jul/2019 12:05:57] \"POST / HTTP/1.1\" 200 -\n",
      "172.17.0.3 - - [26/Jul/2019 12:05:57] \"POST / HTTP/1.1\" 200 -\n"
     ]
    },
    {
     "name": "stdout",
     "output_type": "stream",
     "text": [
      "{\"message\": {\"id\": \"10278977683279\", \"text\": \"\\u6211\\u60f3\\u770b\\u96fb\\u5f71\", \"type\": \"text\"}, \"replyToken\": \"74a93e7b948f4bc29507a3ecb7fb630f\", \"source\": {\"type\": \"user\", \"userId\": \"U6f2dfaaac958fb9dcc653bfe6cfcc40b\"}, \"timestamp\": 1564113950577, \"type\": \"message\"}\n"
     ]
    },
    {
     "name": "stderr",
     "output_type": "stream",
     "text": [
      "172.17.0.3 - - [26/Jul/2019 12:06:04] \"POST / HTTP/1.1\" 200 -\n"
     ]
    },
    {
     "name": "stdout",
     "output_type": "stream",
     "text": [
      "{'tag\n",
      "2\n",
      "{'tag0': 2, 'tag1': 0, 'tag2': 0, 'tag3': 0, 'tag4': 0, 'tag5': 0, 'tag6': 0, 'tag7': 0, 'tag8': 0}\n"
     ]
    },
    {
     "name": "stderr",
     "output_type": "stream",
     "text": [
      "172.17.0.3 - - [26/Jul/2019 12:06:05] \"POST / HTTP/1.1\" 200 -\n"
     ]
    },
    {
     "name": "stdout",
     "output_type": "stream",
     "text": [
      "{\"message\": {\"id\": \"10278978354719\", \"text\": \"1.\\u5c0d\\u96fb\\u5f71:The Prestige,\\u8868\\u793a\\u5f88\\u559c\\u6b61\", \"type\": \"text\"}, \"replyToken\": \"d6b2ad8bfcc84ee892749cbb77c3cc6f\", \"source\": {\"type\": \"user\", \"userId\": \"U6f2dfaaac958fb9dcc653bfe6cfcc40b\"}, \"timestamp\": 1564113959225, \"type\": \"message\"}\n"
     ]
    },
    {
     "name": "stderr",
     "output_type": "stream",
     "text": [
      "172.17.0.3 - - [26/Jul/2019 12:06:06] \"POST / HTTP/1.1\" 200 -\n"
     ]
    },
    {
     "name": "stdout",
     "output_type": "stream",
     "text": [
      "{'tag\n",
      "1\n",
      "{'tag0': 2, 'tag1': 1, 'tag2': 0, 'tag3': 0, 'tag4': 0, 'tag5': 0, 'tag6': 0, 'tag7': 0, 'tag8': 0}\n"
     ]
    },
    {
     "name": "stderr",
     "output_type": "stream",
     "text": [
      "172.17.0.3 - - [26/Jul/2019 12:06:07] \"POST / HTTP/1.1\" 200 -\n"
     ]
    },
    {
     "name": "stdout",
     "output_type": "stream",
     "text": [
      "{\"message\": {\"id\": \"10278978522090\", \"text\": \"2.\\u5c0d\\u96fb\\u5f71:The Hangover,\\u8868\\u793a\\u559c\\u6b61\", \"type\": \"text\"}, \"replyToken\": \"257285c97ac2454e80f2995703699f6c\", \"source\": {\"type\": \"user\", \"userId\": \"U6f2dfaaac958fb9dcc653bfe6cfcc40b\"}, \"timestamp\": 1564113961349, \"type\": \"message\"}\n"
     ]
    },
    {
     "name": "stderr",
     "output_type": "stream",
     "text": [
      "172.17.0.3 - - [26/Jul/2019 12:06:11] \"POST / HTTP/1.1\" 200 -\n"
     ]
    },
    {
     "name": "stdout",
     "output_type": "stream",
     "text": [
      "{'tag\n",
      "2\n",
      "{'tag0': 2, 'tag1': 1, 'tag2': 0, 'tag3': 2, 'tag4': 0, 'tag5': 0, 'tag6': 0, 'tag7': 0, 'tag8': 0}\n",
      "{\"message\": {\"id\": \"10278978879365\", \"text\": \"4.\\u5c0d\\u96fb\\u5f71:Casino Royale,\\u8868\\u793a\\u5f88\\u559c\\u6b61\", \"type\": \"text\"}, \"replyToken\": \"7e18025eafa942789a89aede62d0b497\", \"source\": {\"type\": \"user\", \"userId\": \"U6f2dfaaac958fb9dcc653bfe6cfcc40b\"}, \"timestamp\": 1564113966038, \"type\": \"message\"}\n",
      "::確認填\n",
      "\n"
     ]
    },
    {
     "name": "stderr",
     "output_type": "stream",
     "text": [
      "172.17.0.3 - - [26/Jul/2019 12:06:12] \"POST / HTTP/1.1\" 200 -\n"
     ]
    },
    {
     "name": "stdout",
     "output_type": "stream",
     "text": [
      "{\"message\": {\"id\": \"10278978952229\", \"text\": \"\\u78ba\\u8a8d\\u586b\\u9078\\u8868\\u55ae\", \"type\": \"text\"}, \"replyToken\": \"f22ba1da7d3047ddb2651643181c9403\", \"source\": {\"type\": \"user\", \"userId\": \"U6f2dfaaac958fb9dcc653bfe6cfcc40b\"}, \"timestamp\": 1564113966987, \"type\": \"message\"}\n"
     ]
    },
    {
     "name": "stderr",
     "output_type": "stream",
     "text": [
      "172.17.0.3 - - [26/Jul/2019 12:06:24] \"POST / HTTP/1.1\" 200 -\n"
     ]
    },
    {
     "name": "stdout",
     "output_type": "stream",
     "text": [
      "::tex\n",
      " \n"
     ]
    },
    {
     "name": "stderr",
     "output_type": "stream",
     "text": [
      "172.17.0.3 - - [26/Jul/2019 12:06:25] \"POST / HTTP/1.1\" 200 -\n"
     ]
    },
    {
     "name": "stdout",
     "output_type": "stream",
     "text": [
      "{\"message\": {\"id\": \"10278979896702\", \"text\": \"\\u6211\\u8981\\u9662\\u7dda\\u7247\", \"type\": \"text\"}, \"replyToken\": \"294e4855d19541c890df5a58305014a3\", \"source\": {\"type\": \"user\", \"userId\": \"U6f2dfaaac958fb9dcc653bfe6cfcc40b\"}, \"timestamp\": 1564113979049, \"type\": \"message\"}\n"
     ]
    },
    {
     "name": "stderr",
     "output_type": "stream",
     "text": [
      "172.17.0.3 - - [26/Jul/2019 12:06:27] \"POST / HTTP/1.1\" 200 -\n"
     ]
    },
    {
     "name": "stdout",
     "output_type": "stream",
     "text": [
      "::tex\n",
      " \n"
     ]
    },
    {
     "name": "stderr",
     "output_type": "stream",
     "text": [
      "172.17.0.3 - - [26/Jul/2019 12:06:28] \"POST / HTTP/1.1\" 200 -\n"
     ]
    },
    {
     "name": "stdout",
     "output_type": "stream",
     "text": [
      "{\"message\": {\"id\": \"10278980130785\", \"text\": \"\\u6211\\u8981\\u975e\\u9662\\u7dda\\u7247\", \"type\": \"text\"}, \"replyToken\": \"b67cec3252e64b12aabb8d9f490dd5ed\", \"source\": {\"type\": \"user\", \"userId\": \"U6f2dfaaac958fb9dcc653bfe6cfcc40b\"}, \"timestamp\": 1564113982062, \"type\": \"message\"}\n",
      "::回首頁\n",
      "\n"
     ]
    },
    {
     "name": "stderr",
     "output_type": "stream",
     "text": [
      "172.17.0.3 - - [26/Jul/2019 12:06:33] \"POST / HTTP/1.1\" 200 -\n",
      "172.17.0.3 - - [26/Jul/2019 12:06:34] \"POST / HTTP/1.1\" 200 -\n"
     ]
    },
    {
     "name": "stdout",
     "output_type": "stream",
     "text": [
      "{\"message\": {\"id\": \"10278980583568\", \"text\": \"\\u56de\\u9996\\u9801\", \"type\": \"text\"}, \"replyToken\": \"31158e880fa14f79983c6fe58a73bc79\", \"source\": {\"type\": \"user\", \"userId\": \"U6f2dfaaac958fb9dcc653bfe6cfcc40b\"}, \"timestamp\": 1564113987898, \"type\": \"message\"}\n"
     ]
    },
    {
     "name": "stderr",
     "output_type": "stream",
     "text": [
      "172.17.0.3 - - [26/Jul/2019 12:07:11] \"POST / HTTP/1.1\" 200 -\n",
      "172.17.0.3 - - [26/Jul/2019 12:07:13] \"POST / HTTP/1.1\" 200 -\n",
      "172.17.0.3 - - [26/Jul/2019 12:07:33] \"POST / HTTP/1.1\" 200 -\n",
      "172.17.0.3 - - [26/Jul/2019 12:07:34] \"POST / HTTP/1.1\" 200 -\n"
     ]
    },
    {
     "name": "stdout",
     "output_type": "stream",
     "text": [
      "::tex\n",
      " \n"
     ]
    },
    {
     "name": "stderr",
     "output_type": "stream",
     "text": [
      "172.17.0.3 - - [26/Jul/2019 12:10:50] \"POST / HTTP/1.1\" 200 -\n",
      "172.17.0.3 - - [26/Jul/2019 12:10:50] \"POST / HTTP/1.1\" 200 -\n"
     ]
    },
    {
     "name": "stdout",
     "output_type": "stream",
     "text": [
      "{\"message\": {\"id\": \"10279000354514\", \"text\": \"\\u6211\\u60f3\\u770b\\u96fb\\u5f71\", \"type\": \"text\"}, \"replyToken\": \"0b9268ab49cc49f3b2c8985aa2a8a587\", \"source\": {\"type\": \"user\", \"userId\": \"U6f2dfaaac958fb9dcc653bfe6cfcc40b\"}, \"timestamp\": 1564114243800, \"type\": \"message\"}\n"
     ]
    },
    {
     "name": "stderr",
     "output_type": "stream",
     "text": [
      "172.17.0.3 - - [26/Jul/2019 12:11:19] \"POST / HTTP/1.1\" 200 -\n",
      "172.17.0.3 - - [26/Jul/2019 12:11:20] \"POST / HTTP/1.1\" 200 -\n",
      "172.17.0.3 - - [26/Jul/2019 12:11:49] \"POST / HTTP/1.1\" 200 -\n"
     ]
    },
    {
     "name": "stdout",
     "output_type": "stream",
     "text": [
      "{\"message\": {\"id\": \"10279005031188\", \"text\": \"\\u6211\\u60f3\\u770b\\u96fb\\u5f71\", \"type\": \"text\"}, \"replyToken\": \"98a66099fb334fc089de37a49effb683\", \"source\": {\"type\": \"user\", \"userId\": \"U6f2dfaaac958fb9dcc653bfe6cfcc40b\"}, \"timestamp\": 1564114304416, \"type\": \"message\"}\n",
      "::tex\n",
      " \n"
     ]
    },
    {
     "name": "stderr",
     "output_type": "stream",
     "text": [
      "172.17.0.3 - - [26/Jul/2019 12:11:51] \"POST / HTTP/1.1\" 200 -\n",
      "172.17.0.3 - - [26/Jul/2019 12:12:07] \"POST / HTTP/1.1\" 200 -\n",
      "172.17.0.3 - - [26/Jul/2019 12:12:08] \"POST / HTTP/1.1\" 200 -\n"
     ]
    },
    {
     "name": "stdout",
     "output_type": "stream",
     "text": [
      "::tex\n",
      " \n"
     ]
    },
    {
     "name": "stderr",
     "output_type": "stream",
     "text": [
      "172.17.0.3 - - [26/Jul/2019 12:12:27] \"POST / HTTP/1.1\" 200 -\n",
      "172.17.0.3 - - [26/Jul/2019 12:12:27] \"POST / HTTP/1.1\" 200 -\n"
     ]
    },
    {
     "name": "stdout",
     "output_type": "stream",
     "text": [
      "{\"message\": {\"id\": \"10279007804783\", \"text\": \"\\u6211\\u60f3\\u770b\\u96fb\\u5f71\", \"type\": \"text\"}, \"replyToken\": \"3b5cde1829b140a4a80eef2caf9aa151\", \"source\": {\"type\": \"user\", \"userId\": \"U6f2dfaaac958fb9dcc653bfe6cfcc40b\"}, \"timestamp\": 1564114340199, \"type\": \"message\"}\n"
     ]
    },
    {
     "name": "stderr",
     "output_type": "stream",
     "text": [
      "172.17.0.3 - - [26/Jul/2019 12:12:32] \"POST / HTTP/1.1\" 200 -\n"
     ]
    },
    {
     "name": "stdout",
     "output_type": "stream",
     "text": [
      "{'tag\n",
      "2\n",
      "{'tag0': 2, 'tag1': 0, 'tag2': 0, 'tag3': 0, 'tag4': 0, 'tag5': 0, 'tag6': 0, 'tag7': 0, 'tag8': 0}\n"
     ]
    },
    {
     "name": "stderr",
     "output_type": "stream",
     "text": [
      "172.17.0.3 - - [26/Jul/2019 12:12:33] \"POST / HTTP/1.1\" 200 -\n"
     ]
    },
    {
     "name": "stdout",
     "output_type": "stream",
     "text": [
      "{\"message\": {\"id\": \"10279008347361\", \"text\": \"1.\\u5c0d\\u96fb\\u5f71:The Prestige,\\u8868\\u793a\\u5f88\\u559c\\u6b61\", \"type\": \"text\"}, \"replyToken\": \"416fb9603fb24381818ca09b77bc6fb5\", \"source\": {\"type\": \"user\", \"userId\": \"U6f2dfaaac958fb9dcc653bfe6cfcc40b\"}, \"timestamp\": 1564114347212, \"type\": \"message\"}\n"
     ]
    },
    {
     "name": "stderr",
     "output_type": "stream",
     "text": [
      "172.17.0.3 - - [26/Jul/2019 12:12:33] \"POST / HTTP/1.1\" 200 -\n"
     ]
    },
    {
     "name": "stdout",
     "output_type": "stream",
     "text": [
      "{'tag\n",
      "1\n",
      "{'tag0': 2, 'tag1': 1, 'tag2': 0, 'tag3': 0, 'tag4': 0, 'tag5': 0, 'tag6': 0, 'tag7': 0, 'tag8': 0}\n",
      "{\"message\": {\"id\": \"10279008462106\", \"text\": \"2.\\u5c0d\\u96fb\\u5f71:The Hangover,\\u8868\\u793a\\u559c\\u6b61\", \"type\": \"text\"}, \"replyToken\": \"a944140f3adc408eaec6c9f351f4ef6f\", \"source\": {\"type\": \"user\", \"userId\": \"U6f2dfaaac958fb9dcc653bfe6cfcc40b\"}, \"timestamp\": 1564114348639, \"type\": \"message\"}\n"
     ]
    },
    {
     "name": "stderr",
     "output_type": "stream",
     "text": [
      "172.17.0.3 - - [26/Jul/2019 12:12:37] \"POST / HTTP/1.1\" 200 -\n"
     ]
    },
    {
     "name": "stdout",
     "output_type": "stream",
     "text": [
      "{'tag\n",
      "2\n",
      "{'tag0': 2, 'tag1': 1, 'tag2': 2, 'tag3': 0, 'tag4': 0, 'tag5': 0, 'tag6': 0, 'tag7': 0, 'tag8': 0}\n",
      "{\"message\": {\"id\": \"10279008697056\", \"text\": \"3.\\u5c0d\\u96fb\\u5f71:The 40-Year-Old Virgin,\\u8868\\u793a\\u5f88\\u559c\\u6b61\", \"type\": \"text\"}, \"replyToken\": \"c8135db016e5434199894ed0e20053fe\", \"source\": {\"type\": \"user\", \"userId\": \"U6f2dfaaac958fb9dcc653bfe6cfcc40b\"}, \"timestamp\": 1564114351714, \"type\": \"message\"}\n",
      "::確認填\n",
      "\n"
     ]
    },
    {
     "name": "stderr",
     "output_type": "stream",
     "text": [
      "172.17.0.3 - - [26/Jul/2019 12:12:38] \"POST / HTTP/1.1\" 200 -\n"
     ]
    },
    {
     "name": "stdout",
     "output_type": "stream",
     "text": [
      "{\"message\": {\"id\": \"10279008743428\", \"text\": \"\\u78ba\\u8a8d\\u586b\\u9078\\u8868\\u55ae\", \"type\": \"text\"}, \"replyToken\": \"5f2e2bfa3fea43209be98e5be34a98c7\", \"source\": {\"type\": \"user\", \"userId\": \"U6f2dfaaac958fb9dcc653bfe6cfcc40b\"}, \"timestamp\": 1564114352320, \"type\": \"message\"}\n"
     ]
    },
    {
     "name": "stderr",
     "output_type": "stream",
     "text": [
      "172.17.0.3 - - [26/Jul/2019 12:12:48] \"POST / HTTP/1.1\" 200 -\n"
     ]
    },
    {
     "name": "stdout",
     "output_type": "stream",
     "text": [
      "::tex\n",
      " \n"
     ]
    },
    {
     "name": "stderr",
     "output_type": "stream",
     "text": [
      "172.17.0.3 - - [26/Jul/2019 12:12:49] \"POST / HTTP/1.1\" 200 -\n"
     ]
    },
    {
     "name": "stdout",
     "output_type": "stream",
     "text": [
      "{\"message\": {\"id\": \"10279009570209\", \"text\": \"\\u6211\\u8981\\u9662\\u7dda\\u7247\", \"type\": \"text\"}, \"replyToken\": \"cd55ae6508e34d56ab5708c2b1758dc2\", \"source\": {\"type\": \"user\", \"userId\": \"U6f2dfaaac958fb9dcc653bfe6cfcc40b\"}, \"timestamp\": 1564114362986, \"type\": \"message\"}\n"
     ]
    },
    {
     "name": "stderr",
     "output_type": "stream",
     "text": [
      "172.17.0.3 - - [26/Jul/2019 12:12:54] \"POST / HTTP/1.1\" 200 -\n"
     ]
    },
    {
     "name": "stdout",
     "output_type": "stream",
     "text": [
      "{'tag\n",
      "t\n",
      "{'tag0': 2, 'tag1': 1, 'tag2': 2, 'tag3': 0, 'tag4': 0, 'tag5': 0, 'tag6': 0, 'tag7': 0, 'tag8': 0, 'tagPlot_short_online': 0}\n"
     ]
    },
    {
     "name": "stderr",
     "output_type": "stream",
     "text": [
      "172.17.0.3 - - [26/Jul/2019 12:12:55] \"POST / HTTP/1.1\" 200 -\n"
     ]
    },
    {
     "name": "stdout",
     "output_type": "stream",
     "text": [
      "{\"message\": {\"id\": \"10279010023046\", \"text\": \"1..\\u9c77\\u9b54\\u96fb\\u5f71\\u5287\\u60c5\\u4ecb\\u7d39\", \"type\": \"text\"}, \"replyToken\": \"b0c1426e8f0f4448b8e8310d0fa0f0ce\", \"source\": {\"type\": \"user\", \"userId\": \"U6f2dfaaac958fb9dcc653bfe6cfcc40b\"}, \"timestamp\": 1564114368849, \"type\": \"message\"}\n"
     ]
    },
    {
     "name": "stderr",
     "output_type": "stream",
     "text": [
      "172.17.0.3 - - [26/Jul/2019 12:13:01] \"POST / HTTP/1.1\" 200 -\n"
     ]
    },
    {
     "name": "stdout",
     "output_type": "stream",
     "text": [
      "::tex\n",
      " \n"
     ]
    },
    {
     "name": "stderr",
     "output_type": "stream",
     "text": [
      "172.17.0.3 - - [26/Jul/2019 12:13:01] \"POST / HTTP/1.1\" 200 -\n"
     ]
    },
    {
     "name": "stdout",
     "output_type": "stream",
     "text": [
      "{\"message\": {\"id\": \"10279010513118\", \"text\": \"\\u6211\\u8981\\u975e\\u9662\\u7dda\\u7247\", \"type\": \"text\"}, \"replyToken\": \"90e172c6236f4b0fb309619093dbac51\", \"source\": {\"type\": \"user\", \"userId\": \"U6f2dfaaac958fb9dcc653bfe6cfcc40b\"}, \"timestamp\": 1564114375156, \"type\": \"message\"}\n"
     ]
    },
    {
     "name": "stderr",
     "output_type": "stream",
     "text": [
      "172.17.0.3 - - [26/Jul/2019 12:13:05] \"POST / HTTP/1.1\" 200 -\n"
     ]
    },
    {
     "name": "stdout",
     "output_type": "stream",
     "text": [
      "{'tag\n",
      "o\n",
      "{'tag0': 2, 'tag1': 1, 'tag2': 2, 'tag3': 0, 'tag4': 0, 'tag5': 0, 'tag6': 0, 'tag7': 0, 'tag8': 0, 'tagPlot_short_online': 0, 'tagActors_home': 0}\n"
     ]
    },
    {
     "name": "stderr",
     "output_type": "stream",
     "text": [
      "172.17.0.3 - - [26/Jul/2019 12:13:05] \"POST / HTTP/1.1\" 200 -\n"
     ]
    },
    {
     "name": "stdout",
     "output_type": "stream",
     "text": [
      "{\"message\": {\"id\": \"10279010840179\", \"text\": \"1..Scott Pilgrim vs. the World\\u96fb\\u5f71\\u7684\\u6f14\\u54e1\", \"type\": \"text\"}, \"replyToken\": \"52c2fbd49c3c412f86c06abb674fae08\", \"source\": {\"type\": \"user\", \"userId\": \"U6f2dfaaac958fb9dcc653bfe6cfcc40b\"}, \"timestamp\": 1564114379420, \"type\": \"message\"}\n",
      "{'tag\n",
      "t\n",
      "{'tag0': 2, 'tag1': 1, 'tag2': 2, 'tag3': 0, 'tag4': 0, 'tag5': 0, 'tag6': 0, 'tag7': 0, 'tag8': 0, 'tagPlot_short_online': 0, 'tagActors_home': 0, 'tagPlot_short_home': 0}\n"
     ]
    },
    {
     "name": "stderr",
     "output_type": "stream",
     "text": [
      "172.17.0.3 - - [26/Jul/2019 12:13:06] \"POST / HTTP/1.1\" 200 -\n",
      "172.17.0.3 - - [26/Jul/2019 12:13:07] \"POST / HTTP/1.1\" 200 -\n"
     ]
    },
    {
     "name": "stdout",
     "output_type": "stream",
     "text": [
      "{\"message\": {\"id\": \"10279010994793\", \"text\": \"1..Scott Pilgrim vs. the World\\u96fb\\u5f71\\u5287\\u60c5\\u4ecb\\u7d39\", \"type\": \"text\"}, \"replyToken\": \"4be9e0db917e4acfbf4c6facb03f4fd4\", \"source\": {\"type\": \"user\", \"userId\": \"U6f2dfaaac958fb9dcc653bfe6cfcc40b\"}, \"timestamp\": 1564114381470, \"type\": \"message\"}\n"
     ]
    }
   ],
   "source": [
    "'''\n",
    "\n",
    "執行此句，啟動Server，觀察後，按左上方塊，停用Server\n",
    "\n",
    "'''\n",
    "\n",
    "if __name__ == \"__main__\":\n",
    "    app.run(host='0.0.0.0')"
   ]
  },
  {
   "cell_type": "code",
   "execution_count": null,
   "metadata": {},
   "outputs": [],
   "source": []
  }
 ],
 "metadata": {
  "kernelspec": {
   "display_name": "Python 3",
   "language": "python",
   "name": "python3"
  },
  "language_info": {
   "codemirror_mode": {
    "name": "ipython",
    "version": 3
   },
   "file_extension": ".py",
   "mimetype": "text/x-python",
   "name": "python",
   "nbconvert_exporter": "python",
   "pygments_lexer": "ipython3",
   "version": "3.7.3"
  }
 },
 "nbformat": 4,
 "nbformat_minor": 2
}
